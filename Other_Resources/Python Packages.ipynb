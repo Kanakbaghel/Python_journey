{
  "cells": [
    {
      "cell_type": "markdown",
      "id": "7c784f23-5242-4f84-97ec-10b53ed00214",
      "metadata": {
        "id": "7c784f23-5242-4f84-97ec-10b53ed00214"
      },
      "source": [
        "-----------\n",
        "NumPy: Numerical Python\n",
        "\n",
        "----------------\n",
        "1. Array creation and storage and all functions\n",
        "2. Laplace, Fourier Advance maths and linear algebra\n",
        "3. Random Numbers"
      ]
    },
    {
      "cell_type": "markdown",
      "id": "62136550-d2e1-420d-ba33-32c8dc4a97e7",
      "metadata": {
        "id": "62136550-d2e1-420d-ba33-32c8dc4a97e7"
      },
      "source": [
        "## Arrays: 1 to n dimensional homogenous data strucntures"
      ]
    },
    {
      "cell_type": "code",
      "execution_count": 1,
      "id": "57673a7d-5a03-4cc9-9e7c-42b0e77fb56b",
      "metadata": {
        "id": "57673a7d-5a03-4cc9-9e7c-42b0e77fb56b"
      },
      "outputs": [],
      "source": [
        "import numpy as np"
      ]
    },
    {
      "cell_type": "code",
      "execution_count": 2,
      "id": "c643072d-49bf-46c6-a501-cce6fc9a2fd5",
      "metadata": {
        "id": "c643072d-49bf-46c6-a501-cce6fc9a2fd5"
      },
      "outputs": [],
      "source": [
        "temp = [120, 100, 110,98, 102, 95, 80, 75]"
      ]
    },
    {
      "cell_type": "markdown",
      "id": "10a324f9-5eb5-43f8-b33c-906fb013d595",
      "metadata": {
        "id": "10a324f9-5eb5-43f8-b33c-906fb013d595"
      },
      "source": [
        "$C = (F - 32) * \\frac{5}{9}$"
      ]
    },
    {
      "cell_type": "code",
      "execution_count": 3,
      "id": "abef382a-6eda-41b9-a2d9-3458572e5b9a",
      "metadata": {
        "id": "abef382a-6eda-41b9-a2d9-3458572e5b9a",
        "outputId": "695c912f-cc56-41e4-fad5-ce284dcb7d40",
        "colab": {
          "base_uri": "https://localhost:8080/"
        }
      },
      "outputs": [
        {
          "output_type": "stream",
          "name": "stdout",
          "text": [
            "[48.89, 37.78, 43.33, 36.67, 38.89, 35.0, 26.67, 23.89]\n"
          ]
        }
      ],
      "source": [
        "temp_C = [round((F- 32) * (5/9),2) for F in temp]\n",
        "print(temp_C)"
      ]
    },
    {
      "cell_type": "code",
      "execution_count": 4,
      "id": "337daff6-bd31-45a2-adc1-f5e4def3f685",
      "metadata": {
        "id": "337daff6-bd31-45a2-adc1-f5e4def3f685"
      },
      "outputs": [],
      "source": [
        "# 1 dimensional"
      ]
    },
    {
      "cell_type": "code",
      "execution_count": 5,
      "id": "e417e98a-3e5d-43d6-98de-edec598b2d0f",
      "metadata": {
        "id": "e417e98a-3e5d-43d6-98de-edec598b2d0f"
      },
      "outputs": [],
      "source": [
        "temp_array = np.array([120, 100, 110,98, 102, 95, 80, 75])"
      ]
    },
    {
      "cell_type": "code",
      "execution_count": 6,
      "id": "1e9237c1-9c28-4c92-8567-c57e1dbc94f6",
      "metadata": {
        "id": "1e9237c1-9c28-4c92-8567-c57e1dbc94f6",
        "outputId": "fdc44d82-db5c-47e8-c139-b3d74fdfb9eb",
        "colab": {
          "base_uri": "https://localhost:8080/"
        }
      },
      "outputs": [
        {
          "output_type": "execute_result",
          "data": {
            "text/plain": [
              "array([48.89, 37.78, 43.33, 36.67, 38.89, 35.  , 26.67, 23.89])"
            ]
          },
          "metadata": {},
          "execution_count": 6
        }
      ],
      "source": [
        "((temp_array - 32)* (5/9)).round(2)"
      ]
    },
    {
      "cell_type": "markdown",
      "id": "e0e17e63-3ea5-49ba-8824-5b76bdeeb5db",
      "metadata": {
        "id": "e0e17e63-3ea5-49ba-8824-5b76bdeeb5db"
      },
      "source": [
        "str > float > int"
      ]
    },
    {
      "cell_type": "code",
      "execution_count": 7,
      "id": "2181018f-dcfd-4c68-a117-14cc1a25485d",
      "metadata": {
        "id": "2181018f-dcfd-4c68-a117-14cc1a25485d",
        "outputId": "fff6b3c4-9e7c-4a14-89aa-c2b38c8d9fd1",
        "colab": {
          "base_uri": "https://localhost:8080/"
        }
      },
      "outputs": [
        {
          "output_type": "execute_result",
          "data": {
            "text/plain": [
              "array(['2', '23', '67.09', 'True'], dtype='<U32')"
            ]
          },
          "metadata": {},
          "execution_count": 7
        }
      ],
      "source": [
        "np.array([2, '23', 67.09, True])"
      ]
    },
    {
      "cell_type": "code",
      "execution_count": 8,
      "id": "95b06211-09ce-4254-8176-4182a04a9e0e",
      "metadata": {
        "id": "95b06211-09ce-4254-8176-4182a04a9e0e",
        "outputId": "827c8dbf-5beb-4ff4-bdb9-028774eedb1f",
        "colab": {
          "base_uri": "https://localhost:8080/"
        }
      },
      "outputs": [
        {
          "output_type": "execute_result",
          "data": {
            "text/plain": [
              "array([ 2, 23, 67,  1])"
            ]
          },
          "metadata": {},
          "execution_count": 8
        }
      ],
      "source": [
        "np.array([2, '23', 67.09, True], dtype = int )"
      ]
    },
    {
      "cell_type": "markdown",
      "id": "097edb05-bd9a-4a12-82f8-ddbd12f4b8b6",
      "metadata": {
        "id": "097edb05-bd9a-4a12-82f8-ddbd12f4b8b6"
      },
      "source": [
        "### 2 dimensional array"
      ]
    },
    {
      "cell_type": "markdown",
      "id": "8c8a0e31-854b-4fb4-8296-a91a9bbb652e",
      "metadata": {
        "id": "8c8a0e31-854b-4fb4-8296-a91a9bbb652e"
      },
      "source": [
        "### Side note - Random number generation\n"
      ]
    },
    {
      "cell_type": "code",
      "execution_count": 9,
      "id": "6f8f24ec-5ba6-4247-b84d-540d3c61c132",
      "metadata": {
        "collapsed": true,
        "jupyter": {
          "outputs_hidden": true
        },
        "id": "6f8f24ec-5ba6-4247-b84d-540d3c61c132",
        "outputId": "fcf03d74-8219-4dc7-ea58-385c9b6976f9",
        "colab": {
          "base_uri": "https://localhost:8080/"
        }
      },
      "outputs": [
        {
          "output_type": "execute_result",
          "data": {
            "text/plain": [
              "array([[106, 108,  85,  66,  67, 103],\n",
              "       [100,  65,  58,  63, 103, 104],\n",
              "       [118,  91,  73,  79, 112,  87],\n",
              "       [ 65,  84,  95,  95, 111,  81],\n",
              "       [101,  72,  74,  55,  75,  98]])"
            ]
          },
          "metadata": {},
          "execution_count": 9
        }
      ],
      "source": [
        "np.random.randint(50, 120, (5,6) )"
      ]
    },
    {
      "cell_type": "code",
      "execution_count": 10,
      "id": "1ccba1a4-a39e-42ef-a045-80bd270b7688",
      "metadata": {
        "id": "1ccba1a4-a39e-42ef-a045-80bd270b7688"
      },
      "outputs": [],
      "source": [
        "temps_fahrenheit = np.array([[85, 87, 84, 82, 86, 88],\n",
        "                             [90, 91, 89, 88, 92, 93],\n",
        "                             [78, 80, 79, 77, 81, 83],\n",
        "                             [95, 96, 94, 93, 97, 98],\n",
        "                             [88, 89, 87, 86, 90, 91]])"
      ]
    },
    {
      "cell_type": "code",
      "execution_count": 11,
      "id": "3ea47071-b410-48c7-b86f-834f5b5290be",
      "metadata": {
        "id": "3ea47071-b410-48c7-b86f-834f5b5290be",
        "outputId": "4bdc6775-e88f-47c9-bfb0-e546bd856159",
        "colab": {
          "base_uri": "https://localhost:8080/"
        }
      },
      "outputs": [
        {
          "output_type": "stream",
          "name": "stdout",
          "text": [
            "No. of dimensions :  2\n",
            "Shape of the array:  (5, 6)\n",
            "Size of the array :  30\n",
            "Dtype of the array:  int64\n"
          ]
        }
      ],
      "source": [
        "# properties of array\n",
        "print(\"No. of dimensions : \", temps_fahrenheit.ndim)\n",
        "print(\"Shape of the array: \", temps_fahrenheit.shape) # how many elements in each dimensional\n",
        "print(\"Size of the array : \", temps_fahrenheit.size) # Total number of elements\n",
        "print(\"Dtype of the array: \", temps_fahrenheit.dtype) #data type"
      ]
    },
    {
      "cell_type": "markdown",
      "id": "530f512e-c48e-452e-a799-7ecac37ed9f7",
      "metadata": {
        "id": "530f512e-c48e-452e-a799-7ecac37ed9f7"
      },
      "source": [
        "### add data for the 7th day"
      ]
    },
    {
      "cell_type": "markdown",
      "id": "61f38326-e599-4f6f-91a5-91b497c26d28",
      "metadata": {
        "id": "61f38326-e599-4f6f-91a5-91b497c26d28"
      },
      "source": [
        "-----\n",
        " stack\n",
        "\n",
        "------------\n",
        "- **hstack** : concatenates 2 arrays increasing the columns\n",
        "- **vstack** : concatenates 2 arrays increasing the rows"
      ]
    },
    {
      "cell_type": "code",
      "execution_count": 12,
      "id": "3139ae38-95af-46c3-b7d4-4b4d0a5c707a",
      "metadata": {
        "id": "3139ae38-95af-46c3-b7d4-4b4d0a5c707a",
        "outputId": "71c6cb71-5833-4ae8-fee6-e56140e4292f",
        "colab": {
          "base_uri": "https://localhost:8080/"
        }
      },
      "outputs": [
        {
          "output_type": "stream",
          "name": "stdout",
          "text": [
            "(5, 1)\n"
          ]
        }
      ],
      "source": [
        "## add data for the 7th day\n",
        "day7 = np.array([[89], [94], [82], [99], [92]])\n",
        "print(day7.shape)"
      ]
    },
    {
      "cell_type": "code",
      "execution_count": 13,
      "id": "cfa98ad4-83c7-4fc6-9d4a-cf23c6c8384b",
      "metadata": {
        "id": "cfa98ad4-83c7-4fc6-9d4a-cf23c6c8384b",
        "outputId": "243341be-f189-4300-d115-3c2f97998466",
        "colab": {
          "base_uri": "https://localhost:8080/"
        }
      },
      "outputs": [
        {
          "output_type": "execute_result",
          "data": {
            "text/plain": [
              "array([[85, 87, 84, 82, 86, 88, 89],\n",
              "       [90, 91, 89, 88, 92, 93, 94],\n",
              "       [78, 80, 79, 77, 81, 83, 82],\n",
              "       [95, 96, 94, 93, 97, 98, 99],\n",
              "       [88, 89, 87, 86, 90, 91, 92]])"
            ]
          },
          "metadata": {},
          "execution_count": 13
        }
      ],
      "source": [
        "np.hstack((temps_fahrenheit, day7))"
      ]
    },
    {
      "cell_type": "markdown",
      "id": "11abf925-7eeb-49d4-9d70-0a2ba8c182c7",
      "metadata": {
        "id": "11abf925-7eeb-49d4-9d70-0a2ba8c182c7"
      },
      "source": [
        "### access elements :"
      ]
    },
    {
      "cell_type": "code",
      "execution_count": 14,
      "id": "75695601-9db4-4574-96e5-2c58f75a7ed3",
      "metadata": {
        "id": "75695601-9db4-4574-96e5-2c58f75a7ed3",
        "outputId": "dc453136-92a4-4cc6-dcb7-228adfc0525e",
        "colab": {
          "base_uri": "https://localhost:8080/"
        }
      },
      "outputs": [
        {
          "output_type": "execute_result",
          "data": {
            "text/plain": [
              "array([110,  95, 100])"
            ]
          },
          "metadata": {},
          "execution_count": 14
        }
      ],
      "source": [
        "temp_array[[2, 5, 1]]"
      ]
    },
    {
      "cell_type": "code",
      "execution_count": 15,
      "id": "165ce5ea-ffaa-4c4e-8564-d4457cae55ad",
      "metadata": {
        "id": "165ce5ea-ffaa-4c4e-8564-d4457cae55ad",
        "outputId": "85da0eea-ad62-4426-8b4a-d1b3ae309864",
        "colab": {
          "base_uri": "https://localhost:8080/"
        }
      },
      "outputs": [
        {
          "output_type": "execute_result",
          "data": {
            "text/plain": [
              "np.int64(97)"
            ]
          },
          "metadata": {},
          "execution_count": 15
        }
      ],
      "source": [
        "# for 1 value\n",
        "temps_fahrenheit[3, 4]"
      ]
    },
    {
      "cell_type": "code",
      "execution_count": 16,
      "id": "a395ca4d-37cb-44e0-b1e9-91e01da32dba",
      "metadata": {
        "id": "a395ca4d-37cb-44e0-b1e9-91e01da32dba",
        "outputId": "d44b6931-92f9-407f-f3f7-d7fd3d2bb683",
        "colab": {
          "base_uri": "https://localhost:8080/"
        }
      },
      "outputs": [
        {
          "output_type": "execute_result",
          "data": {
            "text/plain": [
              "array([[85, 87, 84, 82, 86, 88],\n",
              "       [90, 91, 89, 88, 92, 93],\n",
              "       [78, 80, 79, 77, 81, 83],\n",
              "       [95, 96, 94, 93, 97, 98],\n",
              "       [88, 89, 87, 86, 90, 91]])"
            ]
          },
          "metadata": {},
          "execution_count": 16
        }
      ],
      "source": [
        "temps_fahrenheit"
      ]
    },
    {
      "cell_type": "code",
      "execution_count": 17,
      "id": "52e8c2ab-9fe9-46ec-a661-fbfdca8df0d7",
      "metadata": {
        "id": "52e8c2ab-9fe9-46ec-a661-fbfdca8df0d7",
        "outputId": "75100eb3-603f-43fe-a175-e8b71d0bdd73",
        "colab": {
          "base_uri": "https://localhost:8080/"
        }
      },
      "outputs": [
        {
          "output_type": "execute_result",
          "data": {
            "text/plain": [
              "array([78, 80, 79, 77, 81, 83])"
            ]
          },
          "metadata": {},
          "execution_count": 17
        }
      ],
      "source": [
        "# for a complete row:\n",
        "temps_fahrenheit[2]"
      ]
    },
    {
      "cell_type": "code",
      "execution_count": 18,
      "id": "8658b292-b73c-418a-8df0-ffe57da8e053",
      "metadata": {
        "id": "8658b292-b73c-418a-8df0-ffe57da8e053",
        "outputId": "ceaa91f3-771f-4b1b-e9ac-e9b98baf4839",
        "colab": {
          "base_uri": "https://localhost:8080/"
        }
      },
      "outputs": [
        {
          "output_type": "execute_result",
          "data": {
            "text/plain": [
              "array([82, 88, 77, 93, 86])"
            ]
          },
          "metadata": {},
          "execution_count": 18
        }
      ],
      "source": [
        "# for a complete col:\n",
        "temps_fahrenheit[:, 3] # 1 d"
      ]
    },
    {
      "cell_type": "code",
      "execution_count": 19,
      "id": "53cfee72-edd4-417f-b26a-bbe7098dccbe",
      "metadata": {
        "id": "53cfee72-edd4-417f-b26a-bbe7098dccbe",
        "outputId": "8105c473-c023-4e7b-b532-413f25372402",
        "colab": {
          "base_uri": "https://localhost:8080/"
        }
      },
      "outputs": [
        {
          "output_type": "execute_result",
          "data": {
            "text/plain": [
              "array([[82],\n",
              "       [88],\n",
              "       [77],\n",
              "       [93],\n",
              "       [86]])"
            ]
          },
          "metadata": {},
          "execution_count": 19
        }
      ],
      "source": [
        "# for a complete col:\n",
        "temps_fahrenheit[:, [3]] # 2d"
      ]
    },
    {
      "cell_type": "code",
      "execution_count": 20,
      "id": "e7d03cd3-6fdf-4509-bcf8-30ab4a2eabd5",
      "metadata": {
        "id": "e7d03cd3-6fdf-4509-bcf8-30ab4a2eabd5"
      },
      "outputs": [],
      "source": [
        "# access elements 1 to 5"
      ]
    },
    {
      "cell_type": "code",
      "execution_count": 21,
      "id": "21227b34-fa0c-486d-957d-c681056d139e",
      "metadata": {
        "id": "21227b34-fa0c-486d-957d-c681056d139e",
        "outputId": "19d9813f-0b69-4571-af2c-c9d8af3ab65b",
        "colab": {
          "base_uri": "https://localhost:8080/"
        }
      },
      "outputs": [
        {
          "output_type": "execute_result",
          "data": {
            "text/plain": [
              "array([100, 110,  98, 102,  95])"
            ]
          },
          "metadata": {},
          "execution_count": 21
        }
      ],
      "source": [
        "temp_array[1: 6]"
      ]
    },
    {
      "cell_type": "markdown",
      "id": "e1f093b3-634e-4677-986a-9a5131386d35",
      "metadata": {
        "id": "e1f093b3-634e-4677-986a-9a5131386d35"
      },
      "source": [
        "### Array Mathematics"
      ]
    },
    {
      "cell_type": "code",
      "execution_count": 22,
      "id": "3d8decce-21a8-46bb-85c8-1c7915802ec5",
      "metadata": {
        "id": "3d8decce-21a8-46bb-85c8-1c7915802ec5"
      },
      "outputs": [],
      "source": [
        "t1 = np.array([1,2,3,4,5])\n",
        "t2 = np.array([1,2,3,4,5])"
      ]
    },
    {
      "cell_type": "code",
      "execution_count": 23,
      "id": "e9c65c40-4496-4b96-8ec9-5a322593597f",
      "metadata": {
        "id": "e9c65c40-4496-4b96-8ec9-5a322593597f",
        "outputId": "7778a08b-c433-4e85-fc6b-62fb310531ad",
        "colab": {
          "base_uri": "https://localhost:8080/"
        }
      },
      "outputs": [
        {
          "output_type": "execute_result",
          "data": {
            "text/plain": [
              "array([ 2,  4,  6,  8, 10])"
            ]
          },
          "metadata": {},
          "execution_count": 23
        }
      ],
      "source": [
        "t1 + t2"
      ]
    },
    {
      "cell_type": "code",
      "execution_count": 24,
      "id": "fdef297c-2a60-41b2-b74a-03ddcb782ec8",
      "metadata": {
        "id": "fdef297c-2a60-41b2-b74a-03ddcb782ec8",
        "outputId": "828b36bc-57ac-4a86-e1d1-f8096704afd7",
        "colab": {
          "base_uri": "https://localhost:8080/"
        }
      },
      "outputs": [
        {
          "output_type": "execute_result",
          "data": {
            "text/plain": [
              "array([ 1,  4,  9, 16, 25])"
            ]
          },
          "metadata": {},
          "execution_count": 24
        }
      ],
      "source": [
        "t1 * t2"
      ]
    },
    {
      "cell_type": "code",
      "execution_count": 25,
      "id": "572c9f0f-75de-4b38-8beb-c8c3d88fdb06",
      "metadata": {
        "id": "572c9f0f-75de-4b38-8beb-c8c3d88fdb06",
        "outputId": "97439fc2-2059-4b11-836d-57357814a945",
        "colab": {
          "base_uri": "https://localhost:8080/"
        }
      },
      "outputs": [
        {
          "output_type": "stream",
          "name": "stdout",
          "text": [
            "[[ 1  2  3  4  5]\n",
            " [11 12 13 14 15]]\n"
          ]
        }
      ],
      "source": [
        "t1 = np.array([[1, 2, 3, 4, 5], [11, 12,13, 14, 15]])\n",
        "print(t1)"
      ]
    },
    {
      "cell_type": "code",
      "execution_count": 26,
      "id": "170f25d2-f5dc-4ab0-9a7b-51ebcf987616",
      "metadata": {
        "id": "170f25d2-f5dc-4ab0-9a7b-51ebcf987616",
        "outputId": "6ba3cc5c-3c0d-4ae7-d457-454ffe270222",
        "colab": {
          "base_uri": "https://localhost:8080/"
        }
      },
      "outputs": [
        {
          "output_type": "execute_result",
          "data": {
            "text/plain": [
              "array([[ 5, 10, 15, 20, 25],\n",
              "       [55, 60, 65, 70, 75]])"
            ]
          },
          "metadata": {},
          "execution_count": 26
        }
      ],
      "source": [
        "t1 * 5"
      ]
    },
    {
      "cell_type": "code",
      "execution_count": 27,
      "id": "9a72463f-3b6e-40af-8c99-8e2b9b936d0b",
      "metadata": {
        "id": "9a72463f-3b6e-40af-8c99-8e2b9b936d0b",
        "outputId": "6da86f8b-3f55-40f5-9201-3901bc0a6945",
        "colab": {
          "base_uri": "https://localhost:8080/"
        }
      },
      "outputs": [
        {
          "output_type": "stream",
          "name": "stdout",
          "text": [
            "[10 20 30 40 50] (5,)\n"
          ]
        }
      ],
      "source": [
        "t2 = np.array([10,20,30,40,50])\n",
        "print(t2, t2.shape)"
      ]
    },
    {
      "cell_type": "code",
      "execution_count": 28,
      "id": "36e0b73f-63e5-4383-b4b8-085101baee2f",
      "metadata": {
        "id": "36e0b73f-63e5-4383-b4b8-085101baee2f",
        "outputId": "28e59e2c-091e-40c1-a319-86e8181d6f7f",
        "colab": {
          "base_uri": "https://localhost:8080/"
        }
      },
      "outputs": [
        {
          "output_type": "stream",
          "name": "stdout",
          "text": [
            "(2, 5)\n"
          ]
        }
      ],
      "source": [
        "print(t1.shape)"
      ]
    },
    {
      "cell_type": "code",
      "execution_count": 29,
      "id": "006d83c8-fa4c-4e0a-875f-7664ae0faf3d",
      "metadata": {
        "id": "006d83c8-fa4c-4e0a-875f-7664ae0faf3d",
        "outputId": "bbe78415-7e83-492c-ac64-a89a0056638f",
        "colab": {
          "base_uri": "https://localhost:8080/"
        }
      },
      "outputs": [
        {
          "output_type": "stream",
          "name": "stdout",
          "text": [
            "[[ 1  2  3  4  5]\n",
            " [11 12 13 14 15]]\n",
            "[10 20 30 40 50]\n"
          ]
        }
      ],
      "source": [
        "print(t1)\n",
        "print(t2)"
      ]
    },
    {
      "cell_type": "code",
      "execution_count": 30,
      "id": "15a0e91c-9cb9-4b1e-b6c1-3c015eca50d4",
      "metadata": {
        "id": "15a0e91c-9cb9-4b1e-b6c1-3c015eca50d4",
        "outputId": "8f53e179-804e-497a-fe00-ecff4a0e2cfe",
        "colab": {
          "base_uri": "https://localhost:8080/"
        }
      },
      "outputs": [
        {
          "output_type": "execute_result",
          "data": {
            "text/plain": [
              "array([[ 10,  40,  90, 160, 250],\n",
              "       [110, 240, 390, 560, 750]])"
            ]
          },
          "metadata": {},
          "execution_count": 30
        }
      ],
      "source": [
        "t1 * t2"
      ]
    },
    {
      "cell_type": "code",
      "execution_count": 31,
      "id": "5822db66-01df-47e9-a6a0-6051d86a9c03",
      "metadata": {
        "id": "5822db66-01df-47e9-a6a0-6051d86a9c03",
        "outputId": "8e2a490d-ff69-4b0c-978d-32ff4ef36ad2",
        "colab": {
          "base_uri": "https://localhost:8080/"
        }
      },
      "outputs": [
        {
          "output_type": "execute_result",
          "data": {
            "text/plain": [
              "array([[61, 65, 51, 71, 76, 53, 51],\n",
              "       [73, 53, 69, 71, 77, 83, 75],\n",
              "       [91, 79, 85, 96, 69, 57, 99],\n",
              "       [75, 53, 68, 59, 69, 62, 93],\n",
              "       [97, 62, 54, 84, 53, 77, 56]])"
            ]
          },
          "metadata": {},
          "execution_count": 31
        }
      ],
      "source": [
        "scores = np.random.randint(50, 101, (5, 7))\n",
        "scores"
      ]
    },
    {
      "cell_type": "code",
      "execution_count": 32,
      "id": "6a948724-367e-43eb-9c2a-225446228598",
      "metadata": {
        "id": "6a948724-367e-43eb-9c2a-225446228598",
        "outputId": "6f498707-09af-4ce7-8b38-4201d0ef57a4",
        "colab": {
          "base_uri": "https://localhost:8080/"
        }
      },
      "outputs": [
        {
          "output_type": "execute_result",
          "data": {
            "text/plain": [
              "np.float64(70.48571428571428)"
            ]
          },
          "metadata": {},
          "execution_count": 32
        }
      ],
      "source": [
        "scores.mean()"
      ]
    },
    {
      "cell_type": "code",
      "execution_count": 33,
      "id": "9d4272e8-fccd-43d8-892e-f641e67eaf7b",
      "metadata": {
        "id": "9d4272e8-fccd-43d8-892e-f641e67eaf7b"
      },
      "outputs": [],
      "source": [
        "# get the avg marks in each subject\n",
        "# get the tot marks for each student"
      ]
    },
    {
      "cell_type": "code",
      "execution_count": 34,
      "id": "9a3fb64b-f8cc-4c00-8d56-01a24bc77bb3",
      "metadata": {
        "id": "9a3fb64b-f8cc-4c00-8d56-01a24bc77bb3",
        "outputId": "f74cee32-b9bc-49cb-f7df-0c7a05387528",
        "colab": {
          "base_uri": "https://localhost:8080/"
        }
      },
      "outputs": [
        {
          "output_type": "execute_result",
          "data": {
            "text/plain": [
              "(5, 7)"
            ]
          },
          "metadata": {},
          "execution_count": 34
        }
      ],
      "source": [
        "scores.shape"
      ]
    },
    {
      "cell_type": "code",
      "execution_count": 35,
      "id": "7f79090e-54dc-4781-85b0-a497c46d5178",
      "metadata": {
        "id": "7f79090e-54dc-4781-85b0-a497c46d5178",
        "outputId": "25f77940-71b6-4d74-823c-a7068c5cee8a",
        "colab": {
          "base_uri": "https://localhost:8080/"
        }
      },
      "outputs": [
        {
          "output_type": "execute_result",
          "data": {
            "text/plain": [
              "array([[61, 65, 51, 71, 76, 53, 51],\n",
              "       [73, 53, 69, 71, 77, 83, 75],\n",
              "       [91, 79, 85, 96, 69, 57, 99],\n",
              "       [75, 53, 68, 59, 69, 62, 93],\n",
              "       [97, 62, 54, 84, 53, 77, 56]])"
            ]
          },
          "metadata": {},
          "execution_count": 35
        }
      ],
      "source": [
        "scores"
      ]
    },
    {
      "cell_type": "markdown",
      "id": "ce3631c2-09e8-4576-bbcf-35ab145975d7",
      "metadata": {
        "id": "ce3631c2-09e8-4576-bbcf-35ab145975d7"
      },
      "source": [
        "### get the avg marks in each subject\n",
        "1. Which dimension are we reducing? - reducing rows\n",
        "2. Along which dimension are we calculating? - calculation for  each column"
      ]
    },
    {
      "cell_type": "markdown",
      "id": "361a299c-bc34-4430-9513-7936cf0d1896",
      "metadata": {
        "id": "361a299c-bc34-4430-9513-7936cf0d1896"
      },
      "source": [
        "### In a 2D arry: Axis = 0 or 1\n",
        "represents the index of the dimension in the shape which you are looking to reduce"
      ]
    },
    {
      "cell_type": "code",
      "execution_count": 36,
      "id": "d4185132-35ea-465e-94d9-4d354d7c8b99",
      "metadata": {
        "id": "d4185132-35ea-465e-94d9-4d354d7c8b99",
        "outputId": "ac341fed-56b4-4115-e62e-5ce18cb4733f",
        "colab": {
          "base_uri": "https://localhost:8080/"
        }
      },
      "outputs": [
        {
          "output_type": "execute_result",
          "data": {
            "text/plain": [
              "(5, 7)"
            ]
          },
          "metadata": {},
          "execution_count": 36
        }
      ],
      "source": [
        "scores.shape"
      ]
    },
    {
      "cell_type": "markdown",
      "id": "b5bb935e-dfc5-4b87-908f-37ad7d5d3487",
      "metadata": {
        "id": "b5bb935e-dfc5-4b87-908f-37ad7d5d3487"
      },
      "source": [
        "- index = 0 in shape --> rows\n",
        "- index = 1 in shape --> columns"
      ]
    },
    {
      "cell_type": "code",
      "execution_count": 37,
      "id": "c35673b5-b21a-4f39-8e82-4682a2632f8e",
      "metadata": {
        "id": "c35673b5-b21a-4f39-8e82-4682a2632f8e",
        "outputId": "bf417a80-c24f-4390-ad9e-904728fb8be9",
        "colab": {
          "base_uri": "https://localhost:8080/"
        }
      },
      "outputs": [
        {
          "output_type": "execute_result",
          "data": {
            "text/plain": [
              "array([79.4, 62.4, 65.4, 76.2, 68.8, 66.4, 74.8])"
            ]
          },
          "metadata": {},
          "execution_count": 37
        }
      ],
      "source": [
        "scores.mean(axis = 0)"
      ]
    },
    {
      "cell_type": "code",
      "execution_count": 38,
      "id": "9a8882a9-0510-49ce-a2ed-6ab4c03a7684",
      "metadata": {
        "id": "9a8882a9-0510-49ce-a2ed-6ab4c03a7684"
      },
      "outputs": [],
      "source": [
        "# get the tot marks for each student"
      ]
    },
    {
      "cell_type": "code",
      "execution_count": 39,
      "id": "e426dc5e-3952-49b3-93f6-865c465ce780",
      "metadata": {
        "id": "e426dc5e-3952-49b3-93f6-865c465ce780",
        "outputId": "72285e4f-696c-4dbb-e545-454df83eaee1",
        "colab": {
          "base_uri": "https://localhost:8080/"
        }
      },
      "outputs": [
        {
          "output_type": "execute_result",
          "data": {
            "text/plain": [
              "array([428, 501, 576, 479, 483])"
            ]
          },
          "metadata": {},
          "execution_count": 39
        }
      ],
      "source": [
        "scores.sum(axis =1 )"
      ]
    },
    {
      "cell_type": "markdown",
      "id": "afbf24e4-6ac4-4e53-875f-77ccc183f521",
      "metadata": {
        "id": "afbf24e4-6ac4-4e53-875f-77ccc183f521"
      },
      "source": [
        "## Pandas  \n",
        "1. Series    : 1 dimensional labelled array like data structur\n",
        "2. DataFrame : 2 dimensional labelled array like data structur"
      ]
    },
    {
      "cell_type": "code",
      "execution_count": 40,
      "id": "1b350d38-5fba-426f-a66a-8e6c68a4ee1e",
      "metadata": {
        "id": "1b350d38-5fba-426f-a66a-8e6c68a4ee1e"
      },
      "outputs": [],
      "source": [
        "import pandas as pd"
      ]
    },
    {
      "cell_type": "code",
      "execution_count": 41,
      "id": "7603f0e3-8614-4544-a09a-c3a1e295bdc5",
      "metadata": {
        "id": "7603f0e3-8614-4544-a09a-c3a1e295bdc5",
        "outputId": "43c571f9-605a-4c2d-e327-e71161c6062f",
        "colab": {
          "base_uri": "https://localhost:8080/"
        }
      },
      "outputs": [
        {
          "output_type": "stream",
          "name": "stdout",
          "text": [
            "{'Name': ' Nimisha ', 'Age': 35, 'Salary': 6999.99, 'Hobbies': 'Reading'}\n"
          ]
        }
      ],
      "source": [
        "info = {'Name': ' Nimisha ', 'Age' : 35, 'Salary': 6999.99, 'Hobbies': 'Reading'}\n",
        "print(info)"
      ]
    },
    {
      "cell_type": "code",
      "execution_count": 42,
      "id": "dbfe9aff-80e1-4deb-b181-b50d24050308",
      "metadata": {
        "id": "dbfe9aff-80e1-4deb-b181-b50d24050308",
        "outputId": "9cb8bb34-24e6-442a-aa25-d4391725d2cd",
        "colab": {
          "base_uri": "https://localhost:8080/"
        }
      },
      "outputs": [
        {
          "output_type": "stream",
          "name": "stdout",
          "text": [
            "Name        Nimisha \n",
            "Age               35\n",
            "Salary       6999.99\n",
            "Hobbies      Reading\n",
            "dtype: object\n"
          ]
        }
      ],
      "source": [
        "info_ser = pd.Series(info)\n",
        "print(info_ser)"
      ]
    },
    {
      "cell_type": "code",
      "execution_count": 43,
      "id": "2044a412-0fbd-47c2-8af1-233dd21e2996",
      "metadata": {
        "id": "2044a412-0fbd-47c2-8af1-233dd21e2996",
        "outputId": "f95c02fa-5537-4537-d21b-19df79c98339",
        "colab": {
          "base_uri": "https://localhost:8080/",
          "height": 209
        }
      },
      "outputs": [
        {
          "output_type": "execute_result",
          "data": {
            "text/plain": [
              "Name        Nimisha  Nimisha \n",
              "Age                        70\n",
              "Salary               13999.98\n",
              "Hobbies        ReadingReading\n",
              "dtype: object"
            ],
            "text/html": [
              "<div>\n",
              "<style scoped>\n",
              "    .dataframe tbody tr th:only-of-type {\n",
              "        vertical-align: middle;\n",
              "    }\n",
              "\n",
              "    .dataframe tbody tr th {\n",
              "        vertical-align: top;\n",
              "    }\n",
              "\n",
              "    .dataframe thead th {\n",
              "        text-align: right;\n",
              "    }\n",
              "</style>\n",
              "<table border=\"1\" class=\"dataframe\">\n",
              "  <thead>\n",
              "    <tr style=\"text-align: right;\">\n",
              "      <th></th>\n",
              "      <th>0</th>\n",
              "    </tr>\n",
              "  </thead>\n",
              "  <tbody>\n",
              "    <tr>\n",
              "      <th>Name</th>\n",
              "      <td>Nimisha  Nimisha</td>\n",
              "    </tr>\n",
              "    <tr>\n",
              "      <th>Age</th>\n",
              "      <td>70</td>\n",
              "    </tr>\n",
              "    <tr>\n",
              "      <th>Salary</th>\n",
              "      <td>13999.98</td>\n",
              "    </tr>\n",
              "    <tr>\n",
              "      <th>Hobbies</th>\n",
              "      <td>ReadingReading</td>\n",
              "    </tr>\n",
              "  </tbody>\n",
              "</table>\n",
              "</div><br><label><b>dtype:</b> object</label>"
            ]
          },
          "metadata": {},
          "execution_count": 43
        }
      ],
      "source": [
        "info_ser * 2"
      ]
    },
    {
      "cell_type": "code",
      "execution_count": 44,
      "id": "ccf1530d-1b71-4604-9bbd-2cf215f44771",
      "metadata": {
        "id": "ccf1530d-1b71-4604-9bbd-2cf215f44771",
        "outputId": "c1e59d6f-ac6a-4417-d33b-e4f01a192b9c",
        "colab": {
          "base_uri": "https://localhost:8080/",
          "height": 36
        }
      },
      "outputs": [
        {
          "output_type": "execute_result",
          "data": {
            "text/plain": [
              "' Nimisha '"
            ],
            "application/vnd.google.colaboratory.intrinsic+json": {
              "type": "string"
            }
          },
          "metadata": {},
          "execution_count": 44
        }
      ],
      "source": [
        "info_ser['Name']"
      ]
    },
    {
      "cell_type": "code",
      "execution_count": 45,
      "id": "8e43a43b-2c5a-459d-a364-97e3ebcdbfa9",
      "metadata": {
        "id": "8e43a43b-2c5a-459d-a364-97e3ebcdbfa9",
        "outputId": "5d9af86f-667e-4422-834d-39b6c35b3c48",
        "colab": {
          "base_uri": "https://localhost:8080/",
          "height": 36
        }
      },
      "outputs": [
        {
          "output_type": "execute_result",
          "data": {
            "text/plain": [
              "' Nimisha '"
            ],
            "application/vnd.google.colaboratory.intrinsic+json": {
              "type": "string"
            }
          },
          "metadata": {},
          "execution_count": 45
        }
      ],
      "source": [
        "info_ser.iloc[0]"
      ]
    },
    {
      "cell_type": "code",
      "execution_count": 46,
      "id": "4d44954a-3ac2-48ba-b7fc-cb15933080f3",
      "metadata": {
        "id": "4d44954a-3ac2-48ba-b7fc-cb15933080f3",
        "outputId": "f69329e0-3c91-4a0a-eaad-61604a7383df",
        "colab": {
          "base_uri": "https://localhost:8080/"
        }
      },
      "outputs": [
        {
          "output_type": "stream",
          "name": "stdout",
          "text": [
            "0    10\n",
            "1    30\n",
            "2    40\n",
            "3    50\n",
            "4    70\n",
            "5    80\n",
            "6    90\n",
            "dtype: int64\n"
          ]
        }
      ],
      "source": [
        "ser1 = pd.Series([10,  30, 40, 50,70, 80, 90])\n",
        "print(ser1)"
      ]
    },
    {
      "cell_type": "raw",
      "id": "5e0dd091-4644-46f3-9bc2-9d5bfc1126ab",
      "metadata": {
        "id": "5e0dd091-4644-46f3-9bc2-9d5bfc1126ab"
      },
      "source": [
        "index and labels are same\n",
        "0 -> vishal\n",
        "1 -> Seema\n",
        "2 -> Garima\n",
        "3 -> Vaishali\n",
        "4 -> Abhay"
      ]
    },
    {
      "cell_type": "markdown",
      "id": "fae34fd0-e9af-4efa-afc5-484035f552d3",
      "metadata": {
        "id": "fae34fd0-e9af-4efa-afc5-484035f552d3"
      },
      "source": [
        "|index | value | label|\n",
        "|-|-|-|\n",
        "|0 | Abhay | 4|\n",
        "|1 | Garima | 2|\n",
        "|2 | Seema | 1|\n",
        "|3 | Vaishali | 3|\n",
        "|4 | Vishal | 0 |"
      ]
    },
    {
      "cell_type": "code",
      "execution_count": 47,
      "id": "e2342c39-1758-4de8-80bf-673407d213e7",
      "metadata": {
        "id": "e2342c39-1758-4de8-80bf-673407d213e7",
        "outputId": "d1f70423-03c0-4203-ac07-5c8163dd783a",
        "colab": {
          "base_uri": "https://localhost:8080/"
        }
      },
      "outputs": [
        {
          "output_type": "stream",
          "name": "stdout",
          "text": [
            "A    10\n",
            "C    30\n",
            "D    40\n",
            "E    50\n",
            "G    70\n",
            "H    80\n",
            "I    90\n",
            "dtype: int64\n"
          ]
        }
      ],
      "source": [
        "ser1 = pd.Series([10,  30, 40, 50,70, 80, 90], index = ['A', 'C', 'D', 'E', 'G', 'H', 'I'])\n",
        "print(ser1)"
      ]
    },
    {
      "cell_type": "code",
      "execution_count": 48,
      "id": "aa02acb7-75be-4a1f-871c-0b902fcde007",
      "metadata": {
        "id": "aa02acb7-75be-4a1f-871c-0b902fcde007",
        "outputId": "8d758be1-ec7e-490e-9617-73a58b6e1649",
        "colab": {
          "base_uri": "https://localhost:8080/"
        }
      },
      "outputs": [
        {
          "output_type": "stream",
          "name": "stdout",
          "text": [
            "A     10\n",
            "B     20\n",
            "C     30\n",
            "F     60\n",
            "E     50\n",
            "G     70\n",
            "J    100\n",
            "K    110\n",
            "dtype: int64\n"
          ]
        }
      ],
      "source": [
        "ser2 = pd.Series([10, 20, 30, 60, 50,70, 100, 110], index = ['A', 'B', 'C', 'F', 'E' , 'G', 'J', 'K'])\n",
        "print(ser2)"
      ]
    },
    {
      "cell_type": "code",
      "execution_count": 49,
      "id": "a38a07ce-797b-40e0-8482-7fb11206d8ff",
      "metadata": {
        "id": "a38a07ce-797b-40e0-8482-7fb11206d8ff",
        "outputId": "80885f13-972e-4f49-bc0f-d4e6727cbd79",
        "colab": {
          "base_uri": "https://localhost:8080/",
          "height": 429
        }
      },
      "outputs": [
        {
          "output_type": "execute_result",
          "data": {
            "text/plain": [
              "A     20.0\n",
              "B      NaN\n",
              "C     60.0\n",
              "D      NaN\n",
              "E    100.0\n",
              "F      NaN\n",
              "G    140.0\n",
              "H      NaN\n",
              "I      NaN\n",
              "J      NaN\n",
              "K      NaN\n",
              "dtype: float64"
            ],
            "text/html": [
              "<div>\n",
              "<style scoped>\n",
              "    .dataframe tbody tr th:only-of-type {\n",
              "        vertical-align: middle;\n",
              "    }\n",
              "\n",
              "    .dataframe tbody tr th {\n",
              "        vertical-align: top;\n",
              "    }\n",
              "\n",
              "    .dataframe thead th {\n",
              "        text-align: right;\n",
              "    }\n",
              "</style>\n",
              "<table border=\"1\" class=\"dataframe\">\n",
              "  <thead>\n",
              "    <tr style=\"text-align: right;\">\n",
              "      <th></th>\n",
              "      <th>0</th>\n",
              "    </tr>\n",
              "  </thead>\n",
              "  <tbody>\n",
              "    <tr>\n",
              "      <th>A</th>\n",
              "      <td>20.0</td>\n",
              "    </tr>\n",
              "    <tr>\n",
              "      <th>B</th>\n",
              "      <td>NaN</td>\n",
              "    </tr>\n",
              "    <tr>\n",
              "      <th>C</th>\n",
              "      <td>60.0</td>\n",
              "    </tr>\n",
              "    <tr>\n",
              "      <th>D</th>\n",
              "      <td>NaN</td>\n",
              "    </tr>\n",
              "    <tr>\n",
              "      <th>E</th>\n",
              "      <td>100.0</td>\n",
              "    </tr>\n",
              "    <tr>\n",
              "      <th>F</th>\n",
              "      <td>NaN</td>\n",
              "    </tr>\n",
              "    <tr>\n",
              "      <th>G</th>\n",
              "      <td>140.0</td>\n",
              "    </tr>\n",
              "    <tr>\n",
              "      <th>H</th>\n",
              "      <td>NaN</td>\n",
              "    </tr>\n",
              "    <tr>\n",
              "      <th>I</th>\n",
              "      <td>NaN</td>\n",
              "    </tr>\n",
              "    <tr>\n",
              "      <th>J</th>\n",
              "      <td>NaN</td>\n",
              "    </tr>\n",
              "    <tr>\n",
              "      <th>K</th>\n",
              "      <td>NaN</td>\n",
              "    </tr>\n",
              "  </tbody>\n",
              "</table>\n",
              "</div><br><label><b>dtype:</b> float64</label>"
            ]
          },
          "metadata": {},
          "execution_count": 49
        }
      ],
      "source": [
        "ser1 + ser2"
      ]
    },
    {
      "cell_type": "code",
      "execution_count": 50,
      "id": "1c88cd64-07cc-4341-8ed4-b8284d560a77",
      "metadata": {
        "id": "1c88cd64-07cc-4341-8ed4-b8284d560a77",
        "outputId": "2d1ae0ba-5d99-454a-fbaa-3432bea5992e",
        "colab": {
          "base_uri": "https://localhost:8080/",
          "height": 429
        }
      },
      "outputs": [
        {
          "output_type": "execute_result",
          "data": {
            "text/plain": [
              "A       20.0\n",
              "B    10019.0\n",
              "C       60.0\n",
              "D    10039.0\n",
              "E      100.0\n",
              "F    10059.0\n",
              "G      140.0\n",
              "H    10079.0\n",
              "I    10089.0\n",
              "J    10099.0\n",
              "K    10109.0\n",
              "dtype: float64"
            ],
            "text/html": [
              "<div>\n",
              "<style scoped>\n",
              "    .dataframe tbody tr th:only-of-type {\n",
              "        vertical-align: middle;\n",
              "    }\n",
              "\n",
              "    .dataframe tbody tr th {\n",
              "        vertical-align: top;\n",
              "    }\n",
              "\n",
              "    .dataframe thead th {\n",
              "        text-align: right;\n",
              "    }\n",
              "</style>\n",
              "<table border=\"1\" class=\"dataframe\">\n",
              "  <thead>\n",
              "    <tr style=\"text-align: right;\">\n",
              "      <th></th>\n",
              "      <th>0</th>\n",
              "    </tr>\n",
              "  </thead>\n",
              "  <tbody>\n",
              "    <tr>\n",
              "      <th>A</th>\n",
              "      <td>20.0</td>\n",
              "    </tr>\n",
              "    <tr>\n",
              "      <th>B</th>\n",
              "      <td>10019.0</td>\n",
              "    </tr>\n",
              "    <tr>\n",
              "      <th>C</th>\n",
              "      <td>60.0</td>\n",
              "    </tr>\n",
              "    <tr>\n",
              "      <th>D</th>\n",
              "      <td>10039.0</td>\n",
              "    </tr>\n",
              "    <tr>\n",
              "      <th>E</th>\n",
              "      <td>100.0</td>\n",
              "    </tr>\n",
              "    <tr>\n",
              "      <th>F</th>\n",
              "      <td>10059.0</td>\n",
              "    </tr>\n",
              "    <tr>\n",
              "      <th>G</th>\n",
              "      <td>140.0</td>\n",
              "    </tr>\n",
              "    <tr>\n",
              "      <th>H</th>\n",
              "      <td>10079.0</td>\n",
              "    </tr>\n",
              "    <tr>\n",
              "      <th>I</th>\n",
              "      <td>10089.0</td>\n",
              "    </tr>\n",
              "    <tr>\n",
              "      <th>J</th>\n",
              "      <td>10099.0</td>\n",
              "    </tr>\n",
              "    <tr>\n",
              "      <th>K</th>\n",
              "      <td>10109.0</td>\n",
              "    </tr>\n",
              "  </tbody>\n",
              "</table>\n",
              "</div><br><label><b>dtype:</b> float64</label>"
            ]
          },
          "metadata": {},
          "execution_count": 50
        }
      ],
      "source": [
        "ser1.add( ser2, fill_value = 9999)"
      ]
    },
    {
      "cell_type": "markdown",
      "id": "2819a5f7-289b-4693-8ddb-c68491d103f1",
      "metadata": {
        "id": "2819a5f7-289b-4693-8ddb-c68491d103f1"
      },
      "source": [
        "## DataFrames : stack of series\n",
        "- each column is a series\n",
        "- each row is also a series"
      ]
    },
    {
      "cell_type": "code",
      "execution_count": 51,
      "id": "d4629bfb-30a8-4a90-bfae-9ec9b359d155",
      "metadata": {
        "id": "d4629bfb-30a8-4a90-bfae-9ec9b359d155"
      },
      "outputs": [],
      "source": [
        "data = {\n",
        "    'Country': ['Brazil', 'Russia', 'India', 'China', 'South Africa'],\n",
        "    'Capital': ['Brasília', 'Moscow', 'New Delhi', 'Beijing', 'Pretoria'],\n",
        "    'Area_1000sqkm': [8516, 17098, 3287, 9597, 1221],\n",
        "    'Population_B': [0.214, 0.143, 1.428, 1.412, 0.060],\n",
        "    'GDP_per_capita_USD': [8860, 12720, 2540, 12560, 6610]\n",
        "}"
      ]
    },
    {
      "cell_type": "code",
      "execution_count": 52,
      "id": "f885cfee-ca17-400c-b2a2-896353f83ccf",
      "metadata": {
        "id": "f885cfee-ca17-400c-b2a2-896353f83ccf"
      },
      "outputs": [],
      "source": [
        "brics = pd.DataFrame(data)"
      ]
    },
    {
      "cell_type": "code",
      "execution_count": 53,
      "id": "a0e7827f-70a8-46f9-802c-12eabdeb9b29",
      "metadata": {
        "id": "a0e7827f-70a8-46f9-802c-12eabdeb9b29",
        "outputId": "8c2b733f-4a6f-4ad6-f372-69d6455cd2fd",
        "colab": {
          "base_uri": "https://localhost:8080/",
          "height": 206
        }
      },
      "outputs": [
        {
          "output_type": "execute_result",
          "data": {
            "text/plain": [
              "        Country    Capital  Area_1000sqkm  Population_B  GDP_per_capita_USD\n",
              "0        Brazil   Brasília           8516         0.214                8860\n",
              "1        Russia     Moscow          17098         0.143               12720\n",
              "2         India  New Delhi           3287         1.428                2540\n",
              "3         China    Beijing           9597         1.412               12560\n",
              "4  South Africa   Pretoria           1221         0.060                6610"
            ],
            "text/html": [
              "\n",
              "  <div id=\"df-c094c9ce-213c-487e-9920-11100fc6ad5f\" class=\"colab-df-container\">\n",
              "    <div>\n",
              "<style scoped>\n",
              "    .dataframe tbody tr th:only-of-type {\n",
              "        vertical-align: middle;\n",
              "    }\n",
              "\n",
              "    .dataframe tbody tr th {\n",
              "        vertical-align: top;\n",
              "    }\n",
              "\n",
              "    .dataframe thead th {\n",
              "        text-align: right;\n",
              "    }\n",
              "</style>\n",
              "<table border=\"1\" class=\"dataframe\">\n",
              "  <thead>\n",
              "    <tr style=\"text-align: right;\">\n",
              "      <th></th>\n",
              "      <th>Country</th>\n",
              "      <th>Capital</th>\n",
              "      <th>Area_1000sqkm</th>\n",
              "      <th>Population_B</th>\n",
              "      <th>GDP_per_capita_USD</th>\n",
              "    </tr>\n",
              "  </thead>\n",
              "  <tbody>\n",
              "    <tr>\n",
              "      <th>0</th>\n",
              "      <td>Brazil</td>\n",
              "      <td>Brasília</td>\n",
              "      <td>8516</td>\n",
              "      <td>0.214</td>\n",
              "      <td>8860</td>\n",
              "    </tr>\n",
              "    <tr>\n",
              "      <th>1</th>\n",
              "      <td>Russia</td>\n",
              "      <td>Moscow</td>\n",
              "      <td>17098</td>\n",
              "      <td>0.143</td>\n",
              "      <td>12720</td>\n",
              "    </tr>\n",
              "    <tr>\n",
              "      <th>2</th>\n",
              "      <td>India</td>\n",
              "      <td>New Delhi</td>\n",
              "      <td>3287</td>\n",
              "      <td>1.428</td>\n",
              "      <td>2540</td>\n",
              "    </tr>\n",
              "    <tr>\n",
              "      <th>3</th>\n",
              "      <td>China</td>\n",
              "      <td>Beijing</td>\n",
              "      <td>9597</td>\n",
              "      <td>1.412</td>\n",
              "      <td>12560</td>\n",
              "    </tr>\n",
              "    <tr>\n",
              "      <th>4</th>\n",
              "      <td>South Africa</td>\n",
              "      <td>Pretoria</td>\n",
              "      <td>1221</td>\n",
              "      <td>0.060</td>\n",
              "      <td>6610</td>\n",
              "    </tr>\n",
              "  </tbody>\n",
              "</table>\n",
              "</div>\n",
              "    <div class=\"colab-df-buttons\">\n",
              "\n",
              "  <div class=\"colab-df-container\">\n",
              "    <button class=\"colab-df-convert\" onclick=\"convertToInteractive('df-c094c9ce-213c-487e-9920-11100fc6ad5f')\"\n",
              "            title=\"Convert this dataframe to an interactive table.\"\n",
              "            style=\"display:none;\">\n",
              "\n",
              "  <svg xmlns=\"http://www.w3.org/2000/svg\" height=\"24px\" viewBox=\"0 -960 960 960\">\n",
              "    <path d=\"M120-120v-720h720v720H120Zm60-500h600v-160H180v160Zm220 220h160v-160H400v160Zm0 220h160v-160H400v160ZM180-400h160v-160H180v160Zm440 0h160v-160H620v160ZM180-180h160v-160H180v160Zm440 0h160v-160H620v160Z\"/>\n",
              "  </svg>\n",
              "    </button>\n",
              "\n",
              "  <style>\n",
              "    .colab-df-container {\n",
              "      display:flex;\n",
              "      gap: 12px;\n",
              "    }\n",
              "\n",
              "    .colab-df-convert {\n",
              "      background-color: #E8F0FE;\n",
              "      border: none;\n",
              "      border-radius: 50%;\n",
              "      cursor: pointer;\n",
              "      display: none;\n",
              "      fill: #1967D2;\n",
              "      height: 32px;\n",
              "      padding: 0 0 0 0;\n",
              "      width: 32px;\n",
              "    }\n",
              "\n",
              "    .colab-df-convert:hover {\n",
              "      background-color: #E2EBFA;\n",
              "      box-shadow: 0px 1px 2px rgba(60, 64, 67, 0.3), 0px 1px 3px 1px rgba(60, 64, 67, 0.15);\n",
              "      fill: #174EA6;\n",
              "    }\n",
              "\n",
              "    .colab-df-buttons div {\n",
              "      margin-bottom: 4px;\n",
              "    }\n",
              "\n",
              "    [theme=dark] .colab-df-convert {\n",
              "      background-color: #3B4455;\n",
              "      fill: #D2E3FC;\n",
              "    }\n",
              "\n",
              "    [theme=dark] .colab-df-convert:hover {\n",
              "      background-color: #434B5C;\n",
              "      box-shadow: 0px 1px 3px 1px rgba(0, 0, 0, 0.15);\n",
              "      filter: drop-shadow(0px 1px 2px rgba(0, 0, 0, 0.3));\n",
              "      fill: #FFFFFF;\n",
              "    }\n",
              "  </style>\n",
              "\n",
              "    <script>\n",
              "      const buttonEl =\n",
              "        document.querySelector('#df-c094c9ce-213c-487e-9920-11100fc6ad5f button.colab-df-convert');\n",
              "      buttonEl.style.display =\n",
              "        google.colab.kernel.accessAllowed ? 'block' : 'none';\n",
              "\n",
              "      async function convertToInteractive(key) {\n",
              "        const element = document.querySelector('#df-c094c9ce-213c-487e-9920-11100fc6ad5f');\n",
              "        const dataTable =\n",
              "          await google.colab.kernel.invokeFunction('convertToInteractive',\n",
              "                                                    [key], {});\n",
              "        if (!dataTable) return;\n",
              "\n",
              "        const docLinkHtml = 'Like what you see? Visit the ' +\n",
              "          '<a target=\"_blank\" href=https://colab.research.google.com/notebooks/data_table.ipynb>data table notebook</a>'\n",
              "          + ' to learn more about interactive tables.';\n",
              "        element.innerHTML = '';\n",
              "        dataTable['output_type'] = 'display_data';\n",
              "        await google.colab.output.renderOutput(dataTable, element);\n",
              "        const docLink = document.createElement('div');\n",
              "        docLink.innerHTML = docLinkHtml;\n",
              "        element.appendChild(docLink);\n",
              "      }\n",
              "    </script>\n",
              "  </div>\n",
              "\n",
              "\n",
              "    <div id=\"df-9bab37e2-a785-4fd7-aab7-3ad0c7c299a8\">\n",
              "      <button class=\"colab-df-quickchart\" onclick=\"quickchart('df-9bab37e2-a785-4fd7-aab7-3ad0c7c299a8')\"\n",
              "                title=\"Suggest charts\"\n",
              "                style=\"display:none;\">\n",
              "\n",
              "<svg xmlns=\"http://www.w3.org/2000/svg\" height=\"24px\"viewBox=\"0 0 24 24\"\n",
              "     width=\"24px\">\n",
              "    <g>\n",
              "        <path d=\"M19 3H5c-1.1 0-2 .9-2 2v14c0 1.1.9 2 2 2h14c1.1 0 2-.9 2-2V5c0-1.1-.9-2-2-2zM9 17H7v-7h2v7zm4 0h-2V7h2v10zm4 0h-2v-4h2v4z\"/>\n",
              "    </g>\n",
              "</svg>\n",
              "      </button>\n",
              "\n",
              "<style>\n",
              "  .colab-df-quickchart {\n",
              "      --bg-color: #E8F0FE;\n",
              "      --fill-color: #1967D2;\n",
              "      --hover-bg-color: #E2EBFA;\n",
              "      --hover-fill-color: #174EA6;\n",
              "      --disabled-fill-color: #AAA;\n",
              "      --disabled-bg-color: #DDD;\n",
              "  }\n",
              "\n",
              "  [theme=dark] .colab-df-quickchart {\n",
              "      --bg-color: #3B4455;\n",
              "      --fill-color: #D2E3FC;\n",
              "      --hover-bg-color: #434B5C;\n",
              "      --hover-fill-color: #FFFFFF;\n",
              "      --disabled-bg-color: #3B4455;\n",
              "      --disabled-fill-color: #666;\n",
              "  }\n",
              "\n",
              "  .colab-df-quickchart {\n",
              "    background-color: var(--bg-color);\n",
              "    border: none;\n",
              "    border-radius: 50%;\n",
              "    cursor: pointer;\n",
              "    display: none;\n",
              "    fill: var(--fill-color);\n",
              "    height: 32px;\n",
              "    padding: 0;\n",
              "    width: 32px;\n",
              "  }\n",
              "\n",
              "  .colab-df-quickchart:hover {\n",
              "    background-color: var(--hover-bg-color);\n",
              "    box-shadow: 0 1px 2px rgba(60, 64, 67, 0.3), 0 1px 3px 1px rgba(60, 64, 67, 0.15);\n",
              "    fill: var(--button-hover-fill-color);\n",
              "  }\n",
              "\n",
              "  .colab-df-quickchart-complete:disabled,\n",
              "  .colab-df-quickchart-complete:disabled:hover {\n",
              "    background-color: var(--disabled-bg-color);\n",
              "    fill: var(--disabled-fill-color);\n",
              "    box-shadow: none;\n",
              "  }\n",
              "\n",
              "  .colab-df-spinner {\n",
              "    border: 2px solid var(--fill-color);\n",
              "    border-color: transparent;\n",
              "    border-bottom-color: var(--fill-color);\n",
              "    animation:\n",
              "      spin 1s steps(1) infinite;\n",
              "  }\n",
              "\n",
              "  @keyframes spin {\n",
              "    0% {\n",
              "      border-color: transparent;\n",
              "      border-bottom-color: var(--fill-color);\n",
              "      border-left-color: var(--fill-color);\n",
              "    }\n",
              "    20% {\n",
              "      border-color: transparent;\n",
              "      border-left-color: var(--fill-color);\n",
              "      border-top-color: var(--fill-color);\n",
              "    }\n",
              "    30% {\n",
              "      border-color: transparent;\n",
              "      border-left-color: var(--fill-color);\n",
              "      border-top-color: var(--fill-color);\n",
              "      border-right-color: var(--fill-color);\n",
              "    }\n",
              "    40% {\n",
              "      border-color: transparent;\n",
              "      border-right-color: var(--fill-color);\n",
              "      border-top-color: var(--fill-color);\n",
              "    }\n",
              "    60% {\n",
              "      border-color: transparent;\n",
              "      border-right-color: var(--fill-color);\n",
              "    }\n",
              "    80% {\n",
              "      border-color: transparent;\n",
              "      border-right-color: var(--fill-color);\n",
              "      border-bottom-color: var(--fill-color);\n",
              "    }\n",
              "    90% {\n",
              "      border-color: transparent;\n",
              "      border-bottom-color: var(--fill-color);\n",
              "    }\n",
              "  }\n",
              "</style>\n",
              "\n",
              "      <script>\n",
              "        async function quickchart(key) {\n",
              "          const quickchartButtonEl =\n",
              "            document.querySelector('#' + key + ' button');\n",
              "          quickchartButtonEl.disabled = true;  // To prevent multiple clicks.\n",
              "          quickchartButtonEl.classList.add('colab-df-spinner');\n",
              "          try {\n",
              "            const charts = await google.colab.kernel.invokeFunction(\n",
              "                'suggestCharts', [key], {});\n",
              "          } catch (error) {\n",
              "            console.error('Error during call to suggestCharts:', error);\n",
              "          }\n",
              "          quickchartButtonEl.classList.remove('colab-df-spinner');\n",
              "          quickchartButtonEl.classList.add('colab-df-quickchart-complete');\n",
              "        }\n",
              "        (() => {\n",
              "          let quickchartButtonEl =\n",
              "            document.querySelector('#df-9bab37e2-a785-4fd7-aab7-3ad0c7c299a8 button');\n",
              "          quickchartButtonEl.style.display =\n",
              "            google.colab.kernel.accessAllowed ? 'block' : 'none';\n",
              "        })();\n",
              "      </script>\n",
              "    </div>\n",
              "\n",
              "  <div id=\"id_e24ac121-a947-4961-b08e-247bab91a766\">\n",
              "    <style>\n",
              "      .colab-df-generate {\n",
              "        background-color: #E8F0FE;\n",
              "        border: none;\n",
              "        border-radius: 50%;\n",
              "        cursor: pointer;\n",
              "        display: none;\n",
              "        fill: #1967D2;\n",
              "        height: 32px;\n",
              "        padding: 0 0 0 0;\n",
              "        width: 32px;\n",
              "      }\n",
              "\n",
              "      .colab-df-generate:hover {\n",
              "        background-color: #E2EBFA;\n",
              "        box-shadow: 0px 1px 2px rgba(60, 64, 67, 0.3), 0px 1px 3px 1px rgba(60, 64, 67, 0.15);\n",
              "        fill: #174EA6;\n",
              "      }\n",
              "\n",
              "      [theme=dark] .colab-df-generate {\n",
              "        background-color: #3B4455;\n",
              "        fill: #D2E3FC;\n",
              "      }\n",
              "\n",
              "      [theme=dark] .colab-df-generate:hover {\n",
              "        background-color: #434B5C;\n",
              "        box-shadow: 0px 1px 3px 1px rgba(0, 0, 0, 0.15);\n",
              "        filter: drop-shadow(0px 1px 2px rgba(0, 0, 0, 0.3));\n",
              "        fill: #FFFFFF;\n",
              "      }\n",
              "    </style>\n",
              "    <button class=\"colab-df-generate\" onclick=\"generateWithVariable('brics')\"\n",
              "            title=\"Generate code using this dataframe.\"\n",
              "            style=\"display:none;\">\n",
              "\n",
              "  <svg xmlns=\"http://www.w3.org/2000/svg\" height=\"24px\"viewBox=\"0 0 24 24\"\n",
              "       width=\"24px\">\n",
              "    <path d=\"M7,19H8.4L18.45,9,17,7.55,7,17.6ZM5,21V16.75L18.45,3.32a2,2,0,0,1,2.83,0l1.4,1.43a1.91,1.91,0,0,1,.58,1.4,1.91,1.91,0,0,1-.58,1.4L9.25,21ZM18.45,9,17,7.55Zm-12,3A5.31,5.31,0,0,0,4.9,8.1,5.31,5.31,0,0,0,1,6.5,5.31,5.31,0,0,0,4.9,4.9,5.31,5.31,0,0,0,6.5,1,5.31,5.31,0,0,0,8.1,4.9,5.31,5.31,0,0,0,12,6.5,5.46,5.46,0,0,0,6.5,12Z\"/>\n",
              "  </svg>\n",
              "    </button>\n",
              "    <script>\n",
              "      (() => {\n",
              "      const buttonEl =\n",
              "        document.querySelector('#id_e24ac121-a947-4961-b08e-247bab91a766 button.colab-df-generate');\n",
              "      buttonEl.style.display =\n",
              "        google.colab.kernel.accessAllowed ? 'block' : 'none';\n",
              "\n",
              "      buttonEl.onclick = () => {\n",
              "        google.colab.notebook.generateWithVariable('brics');\n",
              "      }\n",
              "      })();\n",
              "    </script>\n",
              "  </div>\n",
              "\n",
              "    </div>\n",
              "  </div>\n"
            ],
            "application/vnd.google.colaboratory.intrinsic+json": {
              "type": "dataframe",
              "variable_name": "brics",
              "summary": "{\n  \"name\": \"brics\",\n  \"rows\": 5,\n  \"fields\": [\n    {\n      \"column\": \"Country\",\n      \"properties\": {\n        \"dtype\": \"string\",\n        \"num_unique_values\": 5,\n        \"samples\": [\n          \"Russia\",\n          \"South Africa\",\n          \"India\"\n        ],\n        \"semantic_type\": \"\",\n        \"description\": \"\"\n      }\n    },\n    {\n      \"column\": \"Capital\",\n      \"properties\": {\n        \"dtype\": \"string\",\n        \"num_unique_values\": 5,\n        \"samples\": [\n          \"Moscow\",\n          \"Pretoria\",\n          \"New Delhi\"\n        ],\n        \"semantic_type\": \"\",\n        \"description\": \"\"\n      }\n    },\n    {\n      \"column\": \"Area_1000sqkm\",\n      \"properties\": {\n        \"dtype\": \"number\",\n        \"std\": 6199,\n        \"min\": 1221,\n        \"max\": 17098,\n        \"num_unique_values\": 5,\n        \"samples\": [\n          17098,\n          1221,\n          3287\n        ],\n        \"semantic_type\": \"\",\n        \"description\": \"\"\n      }\n    },\n    {\n      \"column\": \"Population_B\",\n      \"properties\": {\n        \"dtype\": \"number\",\n        \"std\": 0.7037689961912218,\n        \"min\": 0.06,\n        \"max\": 1.428,\n        \"num_unique_values\": 5,\n        \"samples\": [\n          0.143,\n          0.06,\n          1.428\n        ],\n        \"semantic_type\": \"\",\n        \"description\": \"\"\n      }\n    },\n    {\n      \"column\": \"GDP_per_capita_USD\",\n      \"properties\": {\n        \"dtype\": \"number\",\n        \"std\": 4283,\n        \"min\": 2540,\n        \"max\": 12720,\n        \"num_unique_values\": 5,\n        \"samples\": [\n          12720,\n          6610,\n          2540\n        ],\n        \"semantic_type\": \"\",\n        \"description\": \"\"\n      }\n    }\n  ]\n}"
            }
          },
          "metadata": {},
          "execution_count": 53
        }
      ],
      "source": [
        "brics"
      ]
    },
    {
      "cell_type": "markdown",
      "id": "3735f75d-e54a-421b-8ba9-738f94303e6d",
      "metadata": {
        "id": "3735f75d-e54a-421b-8ba9-738f94303e6d"
      },
      "source": [
        "### Working directory"
      ]
    },
    {
      "cell_type": "code",
      "execution_count": 54,
      "id": "0d33f4aa-5ffd-4f91-a350-f13235e763f8",
      "metadata": {
        "id": "0d33f4aa-5ffd-4f91-a350-f13235e763f8",
        "outputId": "a0d56279-7089-483d-cdd1-5f41ef73b4d6",
        "colab": {
          "base_uri": "https://localhost:8080/",
          "height": 36
        }
      },
      "outputs": [
        {
          "output_type": "execute_result",
          "data": {
            "text/plain": [
              "'/content'"
            ],
            "application/vnd.google.colaboratory.intrinsic+json": {
              "type": "string"
            }
          },
          "metadata": {},
          "execution_count": 54
        }
      ],
      "source": [
        "pwd()"
      ]
    },
    {
      "cell_type": "code",
      "execution_count": 55,
      "id": "9d57c214-e396-47c7-9808-e548e994257c",
      "metadata": {
        "id": "9d57c214-e396-47c7-9808-e548e994257c",
        "outputId": "d7ff9723-a72c-4feb-a509-629bd870e457",
        "colab": {
          "base_uri": "https://localhost:8080/",
          "height": 36
        }
      },
      "outputs": [
        {
          "output_type": "execute_result",
          "data": {
            "text/plain": [
              "'/content'"
            ],
            "application/vnd.google.colaboratory.intrinsic+json": {
              "type": "string"
            }
          },
          "metadata": {},
          "execution_count": 55
        }
      ],
      "source": [
        "import os\n",
        "os.getcwd()"
      ]
    },
    {
      "cell_type": "code",
      "execution_count": 56,
      "id": "86798d8e-9945-4bb0-9c78-30c4fb4f9551",
      "metadata": {
        "id": "86798d8e-9945-4bb0-9c78-30c4fb4f9551",
        "outputId": "178b2662-0c8a-46a3-c1ca-6fb7c6f66855",
        "colab": {
          "base_uri": "https://localhost:8080/",
          "height": 36
        }
      },
      "outputs": [
        {
          "output_type": "execute_result",
          "data": {
            "text/plain": [
              "'/Users/learnersgalaxy/Downloads/Week 16/sales_data.csv'"
            ],
            "application/vnd.google.colaboratory.intrinsic+json": {
              "type": "string"
            }
          },
          "metadata": {},
          "execution_count": 56
        }
      ],
      "source": [
        "'/Users/learnersgalaxy/Downloads/Week 16/sales_data.csv'"
      ]
    },
    {
      "cell_type": "code",
      "execution_count": 57,
      "id": "64af1567-1280-4ac9-b538-5e5d0cc134a3",
      "metadata": {
        "id": "64af1567-1280-4ac9-b538-5e5d0cc134a3",
        "outputId": "b7ffcea2-7dcd-484a-a02e-2c78f23f2d10",
        "colab": {
          "base_uri": "https://localhost:8080/",
          "height": 36
        }
      },
      "outputs": [
        {
          "output_type": "execute_result",
          "data": {
            "text/plain": [
              "'C:\\\\User\\\\admin\\\\downloads\\\\sales_data.csv'"
            ],
            "application/vnd.google.colaboratory.intrinsic+json": {
              "type": "string"
            }
          },
          "metadata": {},
          "execution_count": 57
        }
      ],
      "source": [
        "r'C:\\User\\admin\\downloads\\sales_data.csv'"
      ]
    },
    {
      "cell_type": "code",
      "execution_count": 58,
      "id": "4253e004-7458-483a-97b8-9658104c9740",
      "metadata": {
        "id": "4253e004-7458-483a-97b8-9658104c9740"
      },
      "outputs": [],
      "source": [
        "path = '~/Downloads/Week 16/sales_data.csv'"
      ]
    },
    {
      "cell_type": "code",
      "execution_count": 59,
      "id": "c0337bda-dbc2-4d3d-bf89-4c01fc6ec410",
      "metadata": {
        "collapsed": true,
        "jupyter": {
          "outputs_hidden": true
        },
        "id": "c0337bda-dbc2-4d3d-bf89-4c01fc6ec410",
        "outputId": "8fbc4470-a685-4e8f-831a-6f70b3d29fa0",
        "colab": {
          "base_uri": "https://localhost:8080/",
          "height": 296
        }
      },
      "outputs": [
        {
          "output_type": "error",
          "ename": "FileNotFoundError",
          "evalue": "[Errno 2] No such file or directory: '/root/Downloads/Week 16/sales_data.csv'",
          "traceback": [
            "\u001b[0;31m---------------------------------------------------------------------------\u001b[0m",
            "\u001b[0;31mFileNotFoundError\u001b[0m                         Traceback (most recent call last)",
            "\u001b[0;32m/tmp/ipython-input-1167399066.py\u001b[0m in \u001b[0;36m<cell line: 0>\u001b[0;34m()\u001b[0m\n\u001b[0;32m----> 1\u001b[0;31m \u001b[0mpd\u001b[0m\u001b[0;34m.\u001b[0m\u001b[0mread_csv\u001b[0m\u001b[0;34m(\u001b[0m\u001b[0mpath\u001b[0m\u001b[0;34m)\u001b[0m\u001b[0;34m\u001b[0m\u001b[0;34m\u001b[0m\u001b[0m\n\u001b[0m",
            "\u001b[0;32m/usr/local/lib/python3.12/dist-packages/pandas/io/parsers/readers.py\u001b[0m in \u001b[0;36mread_csv\u001b[0;34m(filepath_or_buffer, sep, delimiter, header, names, index_col, usecols, dtype, engine, converters, true_values, false_values, skipinitialspace, skiprows, skipfooter, nrows, na_values, keep_default_na, na_filter, verbose, skip_blank_lines, parse_dates, infer_datetime_format, keep_date_col, date_parser, date_format, dayfirst, cache_dates, iterator, chunksize, compression, thousands, decimal, lineterminator, quotechar, quoting, doublequote, escapechar, comment, encoding, encoding_errors, dialect, on_bad_lines, delim_whitespace, low_memory, memory_map, float_precision, storage_options, dtype_backend)\u001b[0m\n\u001b[1;32m   1024\u001b[0m     \u001b[0mkwds\u001b[0m\u001b[0;34m.\u001b[0m\u001b[0mupdate\u001b[0m\u001b[0;34m(\u001b[0m\u001b[0mkwds_defaults\u001b[0m\u001b[0;34m)\u001b[0m\u001b[0;34m\u001b[0m\u001b[0;34m\u001b[0m\u001b[0m\n\u001b[1;32m   1025\u001b[0m \u001b[0;34m\u001b[0m\u001b[0m\n\u001b[0;32m-> 1026\u001b[0;31m     \u001b[0;32mreturn\u001b[0m \u001b[0m_read\u001b[0m\u001b[0;34m(\u001b[0m\u001b[0mfilepath_or_buffer\u001b[0m\u001b[0;34m,\u001b[0m \u001b[0mkwds\u001b[0m\u001b[0;34m)\u001b[0m\u001b[0;34m\u001b[0m\u001b[0;34m\u001b[0m\u001b[0m\n\u001b[0m\u001b[1;32m   1027\u001b[0m \u001b[0;34m\u001b[0m\u001b[0m\n\u001b[1;32m   1028\u001b[0m \u001b[0;34m\u001b[0m\u001b[0m\n",
            "\u001b[0;32m/usr/local/lib/python3.12/dist-packages/pandas/io/parsers/readers.py\u001b[0m in \u001b[0;36m_read\u001b[0;34m(filepath_or_buffer, kwds)\u001b[0m\n\u001b[1;32m    618\u001b[0m \u001b[0;34m\u001b[0m\u001b[0m\n\u001b[1;32m    619\u001b[0m     \u001b[0;31m# Create the parser.\u001b[0m\u001b[0;34m\u001b[0m\u001b[0;34m\u001b[0m\u001b[0m\n\u001b[0;32m--> 620\u001b[0;31m     \u001b[0mparser\u001b[0m \u001b[0;34m=\u001b[0m \u001b[0mTextFileReader\u001b[0m\u001b[0;34m(\u001b[0m\u001b[0mfilepath_or_buffer\u001b[0m\u001b[0;34m,\u001b[0m \u001b[0;34m**\u001b[0m\u001b[0mkwds\u001b[0m\u001b[0;34m)\u001b[0m\u001b[0;34m\u001b[0m\u001b[0;34m\u001b[0m\u001b[0m\n\u001b[0m\u001b[1;32m    621\u001b[0m \u001b[0;34m\u001b[0m\u001b[0m\n\u001b[1;32m    622\u001b[0m     \u001b[0;32mif\u001b[0m \u001b[0mchunksize\u001b[0m \u001b[0;32mor\u001b[0m \u001b[0miterator\u001b[0m\u001b[0;34m:\u001b[0m\u001b[0;34m\u001b[0m\u001b[0;34m\u001b[0m\u001b[0m\n",
            "\u001b[0;32m/usr/local/lib/python3.12/dist-packages/pandas/io/parsers/readers.py\u001b[0m in \u001b[0;36m__init__\u001b[0;34m(self, f, engine, **kwds)\u001b[0m\n\u001b[1;32m   1618\u001b[0m \u001b[0;34m\u001b[0m\u001b[0m\n\u001b[1;32m   1619\u001b[0m         \u001b[0mself\u001b[0m\u001b[0;34m.\u001b[0m\u001b[0mhandles\u001b[0m\u001b[0;34m:\u001b[0m \u001b[0mIOHandles\u001b[0m \u001b[0;34m|\u001b[0m \u001b[0;32mNone\u001b[0m \u001b[0;34m=\u001b[0m \u001b[0;32mNone\u001b[0m\u001b[0;34m\u001b[0m\u001b[0;34m\u001b[0m\u001b[0m\n\u001b[0;32m-> 1620\u001b[0;31m         \u001b[0mself\u001b[0m\u001b[0;34m.\u001b[0m\u001b[0m_engine\u001b[0m \u001b[0;34m=\u001b[0m \u001b[0mself\u001b[0m\u001b[0;34m.\u001b[0m\u001b[0m_make_engine\u001b[0m\u001b[0;34m(\u001b[0m\u001b[0mf\u001b[0m\u001b[0;34m,\u001b[0m \u001b[0mself\u001b[0m\u001b[0;34m.\u001b[0m\u001b[0mengine\u001b[0m\u001b[0;34m)\u001b[0m\u001b[0;34m\u001b[0m\u001b[0;34m\u001b[0m\u001b[0m\n\u001b[0m\u001b[1;32m   1621\u001b[0m \u001b[0;34m\u001b[0m\u001b[0m\n\u001b[1;32m   1622\u001b[0m     \u001b[0;32mdef\u001b[0m \u001b[0mclose\u001b[0m\u001b[0;34m(\u001b[0m\u001b[0mself\u001b[0m\u001b[0;34m)\u001b[0m \u001b[0;34m->\u001b[0m \u001b[0;32mNone\u001b[0m\u001b[0;34m:\u001b[0m\u001b[0;34m\u001b[0m\u001b[0;34m\u001b[0m\u001b[0m\n",
            "\u001b[0;32m/usr/local/lib/python3.12/dist-packages/pandas/io/parsers/readers.py\u001b[0m in \u001b[0;36m_make_engine\u001b[0;34m(self, f, engine)\u001b[0m\n\u001b[1;32m   1878\u001b[0m                 \u001b[0;32mif\u001b[0m \u001b[0;34m\"b\"\u001b[0m \u001b[0;32mnot\u001b[0m \u001b[0;32min\u001b[0m \u001b[0mmode\u001b[0m\u001b[0;34m:\u001b[0m\u001b[0;34m\u001b[0m\u001b[0;34m\u001b[0m\u001b[0m\n\u001b[1;32m   1879\u001b[0m                     \u001b[0mmode\u001b[0m \u001b[0;34m+=\u001b[0m \u001b[0;34m\"b\"\u001b[0m\u001b[0;34m\u001b[0m\u001b[0;34m\u001b[0m\u001b[0m\n\u001b[0;32m-> 1880\u001b[0;31m             self.handles = get_handle(\n\u001b[0m\u001b[1;32m   1881\u001b[0m                 \u001b[0mf\u001b[0m\u001b[0;34m,\u001b[0m\u001b[0;34m\u001b[0m\u001b[0;34m\u001b[0m\u001b[0m\n\u001b[1;32m   1882\u001b[0m                 \u001b[0mmode\u001b[0m\u001b[0;34m,\u001b[0m\u001b[0;34m\u001b[0m\u001b[0;34m\u001b[0m\u001b[0m\n",
            "\u001b[0;32m/usr/local/lib/python3.12/dist-packages/pandas/io/common.py\u001b[0m in \u001b[0;36mget_handle\u001b[0;34m(path_or_buf, mode, encoding, compression, memory_map, is_text, errors, storage_options)\u001b[0m\n\u001b[1;32m    871\u001b[0m         \u001b[0;32mif\u001b[0m \u001b[0mioargs\u001b[0m\u001b[0;34m.\u001b[0m\u001b[0mencoding\u001b[0m \u001b[0;32mand\u001b[0m \u001b[0;34m\"b\"\u001b[0m \u001b[0;32mnot\u001b[0m \u001b[0;32min\u001b[0m \u001b[0mioargs\u001b[0m\u001b[0;34m.\u001b[0m\u001b[0mmode\u001b[0m\u001b[0;34m:\u001b[0m\u001b[0;34m\u001b[0m\u001b[0;34m\u001b[0m\u001b[0m\n\u001b[1;32m    872\u001b[0m             \u001b[0;31m# Encoding\u001b[0m\u001b[0;34m\u001b[0m\u001b[0;34m\u001b[0m\u001b[0m\n\u001b[0;32m--> 873\u001b[0;31m             handle = open(\n\u001b[0m\u001b[1;32m    874\u001b[0m                 \u001b[0mhandle\u001b[0m\u001b[0;34m,\u001b[0m\u001b[0;34m\u001b[0m\u001b[0;34m\u001b[0m\u001b[0m\n\u001b[1;32m    875\u001b[0m                 \u001b[0mioargs\u001b[0m\u001b[0;34m.\u001b[0m\u001b[0mmode\u001b[0m\u001b[0;34m,\u001b[0m\u001b[0;34m\u001b[0m\u001b[0;34m\u001b[0m\u001b[0m\n",
            "\u001b[0;31mFileNotFoundError\u001b[0m: [Errno 2] No such file or directory: '/root/Downloads/Week 16/sales_data.csv'"
          ]
        }
      ],
      "source": [
        "pd.read_csv(path)"
      ]
    },
    {
      "cell_type": "code",
      "execution_count": null,
      "id": "6a8309f9-2ed1-4a29-975e-4ba34cd5c2ad",
      "metadata": {
        "scrolled": true,
        "id": "6a8309f9-2ed1-4a29-975e-4ba34cd5c2ad"
      },
      "outputs": [],
      "source": [
        "sales_data = pd.read_csv('sales_data.csv')\n",
        "sales_data.info()"
      ]
    },
    {
      "cell_type": "code",
      "execution_count": null,
      "id": "144e44ab-9419-4ec9-acab-9a1a2f62b9bf",
      "metadata": {
        "id": "144e44ab-9419-4ec9-acab-9a1a2f62b9bf"
      },
      "outputs": [],
      "source": [
        "?pd.read_csv"
      ]
    },
    {
      "cell_type": "code",
      "execution_count": null,
      "id": "b2954fb1-eb48-4ba5-899d-0d2d2b2c6a71",
      "metadata": {
        "id": "b2954fb1-eb48-4ba5-899d-0d2d2b2c6a71"
      },
      "outputs": [],
      "source": []
    }
  ],
  "metadata": {
    "kernelspec": {
      "display_name": "Python 3 (ipykernel)",
      "language": "python",
      "name": "python3"
    },
    "language_info": {
      "codemirror_mode": {
        "name": "ipython",
        "version": 3
      },
      "file_extension": ".py",
      "mimetype": "text/x-python",
      "name": "python",
      "nbconvert_exporter": "python",
      "pygments_lexer": "ipython3",
      "version": "3.12.4"
    },
    "colab": {
      "provenance": []
    }
  },
  "nbformat": 4,
  "nbformat_minor": 5
}