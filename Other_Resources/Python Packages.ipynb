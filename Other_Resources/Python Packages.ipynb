{
 "cells": [
  {
   "cell_type": "markdown",
   "id": "5b866991-7c5f-4654-8f06-ab5e70c7fe0b",
   "metadata": {},
   "source": [
    "# July 20th"
   ]
  },
  {
   "cell_type": "markdown",
   "id": "ffc4d883-f375-4445-9f04-dad012411f73",
   "metadata": {},
   "source": [
    "## functions : reusable parts of code\n",
    "\n",
    "```python\n",
    "# function definition\n",
    "def function_name(parameters):\n",
    "    body of the function\n",
    "\n",
    "# function call\n",
    "function_name(parameters)\n",
    "\n",
    "```"
   ]
  },
  {
   "cell_type": "code",
   "execution_count": 3,
   "id": "daa5fa83-4917-419c-a914-28588667a018",
   "metadata": {},
   "outputs": [
    {
     "name": "stdout",
     "output_type": "stream",
     "text": [
      "6\n"
     ]
    }
   ],
   "source": [
    "def add(a, b):\n",
    "    tot = a + b\n",
    "    print(tot)\n",
    "\n",
    "add(2, 4)"
   ]
  },
  {
   "cell_type": "markdown",
   "id": "09f22f96-46cb-4fb5-ad09-868788e0b492",
   "metadata": {},
   "source": [
    "### Argument Matching \n",
    "- Positional\n",
    "- Keyword"
   ]
  },
  {
   "cell_type": "code",
   "execution_count": 221,
   "id": "ea76142a-579e-4a6a-86b3-d38cea86c2ab",
   "metadata": {},
   "outputs": [],
   "source": [
    "def example(first, second):\n",
    "    print(f'first: {first}')\n",
    "    print(f'Scnd : {second}')"
   ]
  },
  {
   "cell_type": "code",
   "execution_count": 223,
   "id": "f73fcfde-88c6-4b88-8b70-51c29d973593",
   "metadata": {},
   "outputs": [
    {
     "name": "stdout",
     "output_type": "stream",
     "text": [
      "first: One\n",
      "Scnd : Two\n"
     ]
    }
   ],
   "source": [
    "example(\"One\", \"Two\") # positional matching"
   ]
  },
  {
   "cell_type": "code",
   "execution_count": 225,
   "id": "510da802-f73c-4419-b7fd-699bfa02ec54",
   "metadata": {},
   "outputs": [
    {
     "name": "stdout",
     "output_type": "stream",
     "text": [
      "first: Two\n",
      "Scnd : One\n"
     ]
    }
   ],
   "source": [
    "example(\"Two\", \"One\") # positional matching"
   ]
  },
  {
   "cell_type": "code",
   "execution_count": 227,
   "id": "500046ef-c28a-4982-a4c2-0d67a82689ed",
   "metadata": {},
   "outputs": [
    {
     "name": "stdout",
     "output_type": "stream",
     "text": [
      "first: One\n",
      "Scnd : Two\n"
     ]
    }
   ],
   "source": [
    "example(second = 'Two', first = \"One\") # keyword matching"
   ]
  },
  {
   "cell_type": "code",
   "execution_count": 237,
   "id": "7c7820ea-3070-43d8-ac33-1ee3d14b91f6",
   "metadata": {},
   "outputs": [],
   "source": [
    "def welcome_message(name, greeting):\n",
    "    print(f\"Welcome {name}, {greeting}.\")"
   ]
  },
  {
   "cell_type": "code",
   "execution_count": 239,
   "id": "fb1d83d3-4bb7-4807-8432-b33630b23efe",
   "metadata": {},
   "outputs": [
    {
     "name": "stdout",
     "output_type": "stream",
     "text": [
      "Welcome Happy to have you, Alan.\n"
     ]
    }
   ],
   "source": [
    "welcome_message('Happy to have you', 'Alan')"
   ]
  },
  {
   "cell_type": "code",
   "execution_count": 241,
   "id": "cc12cd4b-a076-485c-b531-631cf3534230",
   "metadata": {},
   "outputs": [
    {
     "name": "stdout",
     "output_type": "stream",
     "text": [
      "Welcome Alan, Happy to have you.\n"
     ]
    }
   ],
   "source": [
    "welcome_message(greeting = 'Happy to have you', name = 'Alan')"
   ]
  },
  {
   "cell_type": "code",
   "execution_count": 243,
   "id": "4e0441a8-94ce-40bb-81ba-69fda51a12a9",
   "metadata": {},
   "outputs": [
    {
     "ename": "TypeError",
     "evalue": "welcome_message() missing 1 required positional argument: 'greeting'",
     "output_type": "error",
     "traceback": [
      "\u001b[0;31m---------------------------------------------------------------------------\u001b[0m",
      "\u001b[0;31mTypeError\u001b[0m                                 Traceback (most recent call last)",
      "Cell \u001b[0;32mIn[243], line 1\u001b[0m\n\u001b[0;32m----> 1\u001b[0m welcome_message(\u001b[38;5;124m'\u001b[39m\u001b[38;5;124mAlan\u001b[39m\u001b[38;5;124m'\u001b[39m)\n",
      "\u001b[0;31mTypeError\u001b[0m: welcome_message() missing 1 required positional argument: 'greeting'"
     ]
    }
   ],
   "source": [
    "welcome_message('Alan')"
   ]
  },
  {
   "cell_type": "markdown",
   "id": "43f0bb45-f993-496e-bc22-c7879a550619",
   "metadata": {},
   "source": [
    "### default values "
   ]
  },
  {
   "cell_type": "code",
   "execution_count": 6,
   "id": "27f20f44-d942-4c36-9d02-2039d9dd1fde",
   "metadata": {},
   "outputs": [],
   "source": [
    "def welcome_message_with_default(name, greeting= 'happy to have you!'):\n",
    "    print(f\"Welcome {name}, {greeting}\")"
   ]
  },
  {
   "cell_type": "code",
   "execution_count": 8,
   "id": "505cd07e-93e0-4ecf-9abe-915fc64b0ab1",
   "metadata": {},
   "outputs": [
    {
     "name": "stdout",
     "output_type": "stream",
     "text": [
      "Welcome Alan, happy to have you!\n"
     ]
    }
   ],
   "source": [
    "welcome_message_with_default('Alan')"
   ]
  },
  {
   "cell_type": "code",
   "execution_count": 10,
   "id": "5f739fdb-df15-4547-9665-b700cbb5162a",
   "metadata": {},
   "outputs": [
    {
     "name": "stdout",
     "output_type": "stream",
     "text": [
      "Welcome Alan, its our honour to have you here\n"
     ]
    }
   ],
   "source": [
    "welcome_message_with_default('Alan', 'its our honour to have you here')"
   ]
  },
  {
   "cell_type": "markdown",
   "id": "0b134dd4-0f0d-4bd6-ae01-6e874493e878",
   "metadata": {},
   "source": [
    "---\n",
    "\n",
    "**the default value will be picked when a value is not passed for that parameter**\n",
    "\n",
    "---"
   ]
  },
  {
   "cell_type": "markdown",
   "id": "dc8b2a8d-bdfc-4cde-a367-c69a28514949",
   "metadata": {},
   "source": [
    "## - Scope of data "
   ]
  },
  {
   "cell_type": "code",
   "execution_count": 16,
   "id": "46058d13-75b7-4ace-84c2-90f2288467cd",
   "metadata": {},
   "outputs": [
    {
     "name": "stdout",
     "output_type": "stream",
     "text": [
      "6\n"
     ]
    }
   ],
   "source": [
    "def add(a, b):\n",
    "    tot = a + b\n",
    "    print(tot)\n",
    "\n",
    "add(2, 4)"
   ]
  },
  {
   "cell_type": "code",
   "execution_count": 18,
   "id": "5f8bb216-85cc-448b-9a38-49f33d00fa3d",
   "metadata": {},
   "outputs": [
    {
     "ename": "NameError",
     "evalue": "name 'tot' is not defined",
     "output_type": "error",
     "traceback": [
      "\u001b[0;31m---------------------------------------------------------------------------\u001b[0m",
      "\u001b[0;31mNameError\u001b[0m                                 Traceback (most recent call last)",
      "Cell \u001b[0;32mIn[18], line 1\u001b[0m\n\u001b[0;32m----> 1\u001b[0m \u001b[38;5;28mprint\u001b[39m(tot)\n",
      "\u001b[0;31mNameError\u001b[0m: name 'tot' is not defined"
     ]
    }
   ],
   "source": [
    "print(tot)"
   ]
  },
  {
   "cell_type": "markdown",
   "id": "d9edcadb-2c19-46c2-8262-381168b3f141",
   "metadata": {},
   "source": [
    "#### tot - local scope to the function "
   ]
  },
  {
   "cell_type": "markdown",
   "id": "ccf0fa7a-1730-4dbb-ae14-79ee692845fe",
   "metadata": {},
   "source": [
    "- Global Scope: any variable/ function defined outside a function or class (anywhere in the kernel) is global scope.\n",
    "- Local Scope : any variable/function defined inside a function or a class is local to that funtion or class."
   ]
  },
  {
   "cell_type": "code",
   "execution_count": 23,
   "id": "a53d51be-0a2b-4bce-95ad-a5043cb04911",
   "metadata": {},
   "outputs": [],
   "source": [
    "def add(a, b):\n",
    "    tot = a + b\n",
    "    print(tot)\n",
    "\n",
    "# a, b and tot are local to the function add"
   ]
  },
  {
   "cell_type": "code",
   "execution_count": 25,
   "id": "e456ac45-bed3-4e1f-a9ee-49490a81796e",
   "metadata": {},
   "outputs": [],
   "source": [
    "x = 100\n",
    "\n",
    "def add(a,b):\n",
    "    tot = (a + b) * x\n",
    "    print(tot)\n",
    "\n",
    "# since x is not defined in the function, hence global will be taken up"
   ]
  },
  {
   "cell_type": "code",
   "execution_count": 27,
   "id": "1ed00beb-bb55-4c16-903e-ad673857b0e7",
   "metadata": {},
   "outputs": [
    {
     "name": "stdout",
     "output_type": "stream",
     "text": [
      "500\n"
     ]
    }
   ],
   "source": [
    "add(2,3)"
   ]
  },
  {
   "cell_type": "markdown",
   "id": "046dd91c-20e1-44a2-af65-43c010df8b93",
   "metadata": {},
   "source": [
    "---\n",
    "<b>\n",
    "there can same variable names for local as well as global scope, preference will be given to the envireonment from where they have been called\n",
    "</b>\n",
    "\n",
    "---"
   ]
  },
  {
   "cell_type": "code",
   "execution_count": 32,
   "id": "076b88f7-7919-4644-a92a-cd90c6a95540",
   "metadata": {},
   "outputs": [],
   "source": [
    "x = 100 # global\n",
    "def add(a,b):\n",
    "    x = 0.1  # local\n",
    "    tot = (a + b) * x\n",
    "    print(tot)"
   ]
  },
  {
   "cell_type": "code",
   "execution_count": 34,
   "id": "923d0566-8bc3-4b11-ac5e-7a7c3b2b6536",
   "metadata": {},
   "outputs": [
    {
     "name": "stdout",
     "output_type": "stream",
     "text": [
      "0.5\n"
     ]
    }
   ],
   "source": [
    "add(2,3)"
   ]
  },
  {
   "cell_type": "code",
   "execution_count": 36,
   "id": "9ade412b-2dca-4218-96ba-409db0f2a9ab",
   "metadata": {},
   "outputs": [
    {
     "name": "stdout",
     "output_type": "stream",
     "text": [
      "100\n"
     ]
    }
   ],
   "source": [
    "print(x)"
   ]
  },
  {
   "cell_type": "code",
   "execution_count": 50,
   "id": "016c3d41-8a42-4c40-914c-ac7f31de6e8b",
   "metadata": {},
   "outputs": [],
   "source": [
    "def calculate_painting_area(length, width, height):\n",
    "    total_wall_area = (length + width ) * height\n",
    "    return total_wall_area"
   ]
  },
  {
   "cell_type": "code",
   "execution_count": 54,
   "id": "688fb747-dd22-486f-998a-2e2b9fe4c5cb",
   "metadata": {},
   "outputs": [],
   "source": [
    "area = calculate_painting_area(15, 12, 10)"
   ]
  },
  {
   "cell_type": "code",
   "execution_count": 56,
   "id": "a92ef889-723d-4c9a-a9a5-f23602133098",
   "metadata": {},
   "outputs": [
    {
     "ename": "NameError",
     "evalue": "name 'total_wall_area' is not defined",
     "output_type": "error",
     "traceback": [
      "\u001b[0;31m---------------------------------------------------------------------------\u001b[0m",
      "\u001b[0;31mNameError\u001b[0m                                 Traceback (most recent call last)",
      "Cell \u001b[0;32mIn[56], line 1\u001b[0m\n\u001b[0;32m----> 1\u001b[0m total_wall_area\n",
      "\u001b[0;31mNameError\u001b[0m: name 'total_wall_area' is not defined"
     ]
    }
   ],
   "source": [
    "total_wall_area"
   ]
  },
  {
   "cell_type": "code",
   "execution_count": 58,
   "id": "272de239-63d9-471a-a507-565a842f099f",
   "metadata": {},
   "outputs": [
    {
     "data": {
      "text/plain": [
       "270"
      ]
     },
     "execution_count": 58,
     "metadata": {},
     "output_type": "execute_result"
    }
   ],
   "source": [
    "area"
   ]
  },
  {
   "cell_type": "code",
   "execution_count": 66,
   "id": "e43ce772-8b68-49b6-834b-a0a30eaee8b1",
   "metadata": {},
   "outputs": [],
   "source": [
    "def calculate_painting_cost(area, type_of_paint):\n",
    "    if type_of_paint == 'standard':\n",
    "        material_cost = 12\n",
    "        labor_cost = 8\n",
    "    elif type_of_paint == 'premium':\n",
    "        material_cost = 18\n",
    "        labor_cost = 12\n",
    "    elif type_of_paint == 'luxury':\n",
    "        material_cost = 25\n",
    "        labor_cost = 18\n",
    "    else:\n",
    "        print('Invalid paint type')\n",
    "        material_cost = -9999\n",
    "        labor_cost = -9999\n",
    "    return (material_cost +labor_cost) * area\n",
    "        "
   ]
  },
  {
   "cell_type": "code",
   "execution_count": 68,
   "id": "3b246d81-08e5-440d-bf02-7cac465f7dbf",
   "metadata": {},
   "outputs": [
    {
     "data": {
      "text/plain": [
       "8100"
      ]
     },
     "execution_count": 68,
     "metadata": {},
     "output_type": "execute_result"
    }
   ],
   "source": [
    "calculate_painting_cost(area, 'premium')"
   ]
  },
  {
   "cell_type": "markdown",
   "id": "4f4551e2-2a4c-463f-9ff4-eca9832ee0f1",
   "metadata": {},
   "source": [
    "## Modules vs  Package vs Libraries\n",
    "\n",
    "- modules are any **.py** extension files\n",
    "- package directory containing modules/collection of modules\n",
    "- library is a collection of modules performing specific task"
   ]
  },
  {
   "cell_type": "code",
   "execution_count": 74,
   "id": "425fc814-f7cf-4e7a-afa2-75d20877d19e",
   "metadata": {},
   "outputs": [],
   "source": [
    "# what are modules and packages and libraries available : "
   ]
  },
  {
   "cell_type": "code",
   "execution_count": null,
   "id": "145d05d7-033e-4d79-b568-2fea2ed0397f",
   "metadata": {},
   "outputs": [],
   "source": [
    "help(\"modules\")"
   ]
  },
  {
   "cell_type": "code",
   "execution_count": null,
   "id": "c0be1cb8-dec9-49d0-830a-45f25e089297",
   "metadata": {},
   "outputs": [],
   "source": [
    "# to install new modules "
   ]
  },
  {
   "cell_type": "raw",
   "id": "4b4f0a5e-ecbb-46b8-8332-c891f62e9831",
   "metadata": {},
   "source": [
    "!pip install <package-name>"
   ]
  },
  {
   "cell_type": "raw",
   "id": "63729222-045f-4b4a-b36a-36c5f4b508d5",
   "metadata": {},
   "source": [
    "!conda install <package-name>"
   ]
  },
  {
   "cell_type": "markdown",
   "id": "ad8fae1d-97ed-4841-963b-76f59a67d81b",
   "metadata": {},
   "source": [
    "## import statement\n",
    "- Search for the module\n",
    "1. Current directory\n",
    "2. Standard library path\n",
    "3. any other  path "
   ]
  },
  {
   "cell_type": "code",
   "execution_count": 79,
   "id": "647d9bac-42bc-4590-bcdf-ec65471619a2",
   "metadata": {},
   "outputs": [
    {
     "name": "stdout",
     "output_type": "stream",
     "text": [
      "0. /Users/learnersgalaxy/Library/CloudStorage/OneDrive-Personal/Emeritus/IITG-DSBA March 27th/Python\n",
      "1. /opt/anaconda3/lib/python312.zip\n",
      "2. /opt/anaconda3/lib/python3.12\n",
      "3. /opt/anaconda3/lib/python3.12/lib-dynload\n",
      "4. \n",
      "5. /opt/anaconda3/lib/python3.12/site-packages\n",
      "6. /opt/anaconda3/lib/python3.12/site-packages/aeosa\n"
     ]
    }
   ],
   "source": [
    "import sys\n",
    "\n",
    "for i,p in enumerate(sys.path):\n",
    "    print(f\"{i}. {p}\")"
   ]
  },
  {
   "cell_type": "code",
   "execution_count": 83,
   "id": "ec5c1c8f-7f9b-42a5-aa4c-eedbbc307a48",
   "metadata": {},
   "outputs": [
    {
     "data": {
      "text/plain": [
       "[(0, 'a'), (1, 'b'), (2, 'c')]"
      ]
     },
     "execution_count": 83,
     "metadata": {},
     "output_type": "execute_result"
    }
   ],
   "source": [
    "list(enumerate(['a', 'b', 'c']))"
   ]
  },
  {
   "cell_type": "markdown",
   "id": "959bc509-e638-442a-9b48-1b20d9eb927a",
   "metadata": {},
   "source": [
    "```python\n",
    "\n",
    "import package-name\n",
    "```\n",
    "**Search for the package and create an instance in present kernel with the same name.**"
   ]
  },
  {
   "cell_type": "code",
   "execution_count": 86,
   "id": "65b4292b-6eb3-44b7-b3ce-00d204f82929",
   "metadata": {},
   "outputs": [],
   "source": [
    "import math"
   ]
  },
  {
   "cell_type": "code",
   "execution_count": 88,
   "id": "e1086457-4444-476c-a344-1513eb297afe",
   "metadata": {},
   "outputs": [
    {
     "name": "stdout",
     "output_type": "stream",
     "text": [
      "['__doc__', '__file__', '__loader__', '__name__', '__package__', '__spec__', 'acos', 'acosh', 'asin', 'asinh', 'atan', 'atan2', 'atanh', 'cbrt', 'ceil', 'comb', 'copysign', 'cos', 'cosh', 'degrees', 'dist', 'e', 'erf', 'erfc', 'exp', 'exp2', 'expm1', 'fabs', 'factorial', 'floor', 'fmod', 'frexp', 'fsum', 'gamma', 'gcd', 'hypot', 'inf', 'isclose', 'isfinite', 'isinf', 'isnan', 'isqrt', 'lcm', 'ldexp', 'lgamma', 'log', 'log10', 'log1p', 'log2', 'modf', 'nan', 'nextafter', 'perm', 'pi', 'pow', 'prod', 'radians', 'remainder', 'sin', 'sinh', 'sqrt', 'sumprod', 'tan', 'tanh', 'tau', 'trunc', 'ulp']\n"
     ]
    }
   ],
   "source": [
    "print(dir(math))"
   ]
  },
  {
   "cell_type": "code",
   "execution_count": 90,
   "id": "6984910a-5a2f-44a2-aa66-2a5f56d1b2a8",
   "metadata": {},
   "outputs": [
    {
     "data": {
      "text/plain": [
       "1.3010299956639813"
      ]
     },
     "execution_count": 90,
     "metadata": {},
     "output_type": "execute_result"
    }
   ],
   "source": [
    "math.log10(20)"
   ]
  },
  {
   "cell_type": "markdown",
   "id": "7011e2c3-9b65-4d64-bab3-487b971a9024",
   "metadata": {},
   "source": [
    "```python\n",
    "import package-name as alias\n",
    "```\n",
    "**Search for the package and create an instance in present kernel with the alias name.**"
   ]
  },
  {
   "cell_type": "code",
   "execution_count": 96,
   "id": "c3a1f94d-30c7-4a66-bdbb-5f595e46e405",
   "metadata": {},
   "outputs": [],
   "source": [
    "import string as strn"
   ]
  },
  {
   "cell_type": "code",
   "execution_count": 98,
   "id": "524a44d4-7128-46a8-a2bd-ecddb08469d4",
   "metadata": {},
   "outputs": [
    {
     "ename": "NameError",
     "evalue": "name 'string' is not defined",
     "output_type": "error",
     "traceback": [
      "\u001b[0;31m---------------------------------------------------------------------------\u001b[0m",
      "\u001b[0;31mNameError\u001b[0m                                 Traceback (most recent call last)",
      "Cell \u001b[0;32mIn[98], line 1\u001b[0m\n\u001b[0;32m----> 1\u001b[0m \u001b[38;5;28mprint\u001b[39m(\u001b[38;5;28mdir\u001b[39m(string))\n",
      "\u001b[0;31mNameError\u001b[0m: name 'string' is not defined"
     ]
    }
   ],
   "source": [
    "print(dir(string))"
   ]
  },
  {
   "cell_type": "code",
   "execution_count": 100,
   "id": "c35016a5-b88e-44d8-8685-bad6cb84389b",
   "metadata": {},
   "outputs": [
    {
     "name": "stdout",
     "output_type": "stream",
     "text": [
      "['Formatter', 'Template', '_ChainMap', '__all__', '__builtins__', '__cached__', '__doc__', '__file__', '__loader__', '__name__', '__package__', '__spec__', '_re', '_sentinel_dict', '_string', 'ascii_letters', 'ascii_lowercase', 'ascii_uppercase', 'capwords', 'digits', 'hexdigits', 'octdigits', 'printable', 'punctuation', 'whitespace']\n"
     ]
    }
   ],
   "source": [
    "print(dir(strn))"
   ]
  },
  {
   "cell_type": "code",
   "execution_count": 102,
   "id": "076f3801-6fd0-4c02-a32c-71f4dfee18e8",
   "metadata": {},
   "outputs": [
    {
     "data": {
      "text/plain": [
       "'Hello People'"
      ]
     },
     "execution_count": 102,
     "metadata": {},
     "output_type": "execute_result"
    }
   ],
   "source": [
    "strn.capwords('hello people')"
   ]
  },
  {
   "cell_type": "code",
   "execution_count": 104,
   "id": "919ae4d1-70b6-4a5c-8dc1-339ce7ce2101",
   "metadata": {},
   "outputs": [
    {
     "data": {
      "text/plain": [
       "'0123456789'"
      ]
     },
     "execution_count": 104,
     "metadata": {},
     "output_type": "execute_result"
    }
   ],
   "source": [
    "strn.digits"
   ]
  },
  {
   "cell_type": "code",
   "execution_count": 106,
   "id": "d8bb865c-8b5b-40ef-90e4-224294547760",
   "metadata": {},
   "outputs": [
    {
     "data": {
      "text/plain": [
       "'!\"#$%&\\'()*+,-./:;<=>?@[\\\\]^_`{|}~'"
      ]
     },
     "execution_count": 106,
     "metadata": {},
     "output_type": "execute_result"
    }
   ],
   "source": [
    "strn.punctuation"
   ]
  },
  {
   "cell_type": "markdown",
   "id": "1a604ded-c631-4178-a348-2c822aaf6267",
   "metadata": {},
   "source": [
    "``` python\n",
    "\n",
    "from package-name import specific functions or data attributes\n",
    "```\n",
    "\n",
    "**Searches for the package and gets only the specific function or data attributes and creates its instance inthe present runtime**"
   ]
  },
  {
   "cell_type": "code",
   "execution_count": 110,
   "id": "474eed02-3297-4c4c-b05f-e540a08e02fd",
   "metadata": {},
   "outputs": [],
   "source": [
    "from string import punctuation"
   ]
  },
  {
   "cell_type": "code",
   "execution_count": 114,
   "id": "4e671b96-66b8-4275-a15e-36e4bfe5e668",
   "metadata": {},
   "outputs": [
    {
     "data": {
      "text/plain": [
       "'!\"#$%&\\'()*+,-./:;<=>?@[\\\\]^_`{|}~'"
      ]
     },
     "execution_count": 114,
     "metadata": {},
     "output_type": "execute_result"
    }
   ],
   "source": [
    "punctuation"
   ]
  },
  {
   "cell_type": "code",
   "execution_count": 117,
   "id": "412b320e-8a52-4c1c-8efa-545f6c277f6b",
   "metadata": {},
   "outputs": [],
   "source": [
    "from string import punctuation as punc, digits as dg"
   ]
  },
  {
   "cell_type": "code",
   "execution_count": 121,
   "id": "ddbe32b1-4cdc-4286-a58f-e85530ebada6",
   "metadata": {},
   "outputs": [
    {
     "data": {
      "text/plain": [
       "'!\"#$%&\\'()*+,-./:;<=>?@[\\\\]^_`{|}~'"
      ]
     },
     "execution_count": 121,
     "metadata": {},
     "output_type": "execute_result"
    }
   ],
   "source": [
    "punc"
   ]
  },
  {
   "cell_type": "code",
   "execution_count": 123,
   "id": "e38866c2-8201-42e8-8339-4a88591b28de",
   "metadata": {},
   "outputs": [
    {
     "data": {
      "text/plain": [
       "'0123456789'"
      ]
     },
     "execution_count": 123,
     "metadata": {},
     "output_type": "execute_result"
    }
   ],
   "source": [
    "dg"
   ]
  },
  {
   "cell_type": "code",
   "execution_count": 127,
   "id": "0d9757f4-768a-421b-afae-a0bdb40d0db5",
   "metadata": {},
   "outputs": [
    {
     "name": "stdout",
     "output_type": "stream",
     "text": [
      "Welcome to mymodule\n"
     ]
    }
   ],
   "source": [
    "import mymodule"
   ]
  },
  {
   "cell_type": "markdown",
   "id": "7c784f23-5242-4f84-97ec-10b53ed00214",
   "metadata": {},
   "source": [
    "# NumPy: Numerical Python\n",
    "1. Array creation and storage and all functions \n",
    "2. Laplace, Fourier Advance maths and linear algebra\n",
    "3. Random Numbers "
   ]
  },
  {
   "cell_type": "markdown",
   "id": "62136550-d2e1-420d-ba33-32c8dc4a97e7",
   "metadata": {},
   "source": [
    "## Arrays: 1 to n dimensional homogenous data strucntures"
   ]
  },
  {
   "cell_type": "code",
   "execution_count": 131,
   "id": "57673a7d-5a03-4cc9-9e7c-42b0e77fb56b",
   "metadata": {},
   "outputs": [],
   "source": [
    "import numpy as np"
   ]
  },
  {
   "cell_type": "code",
   "execution_count": 135,
   "id": "c643072d-49bf-46c6-a501-cce6fc9a2fd5",
   "metadata": {},
   "outputs": [],
   "source": [
    "temp = [120, 100, 110,98, 102, 95, 80, 75]"
   ]
  },
  {
   "cell_type": "markdown",
   "id": "10a324f9-5eb5-43f8-b33c-906fb013d595",
   "metadata": {},
   "source": [
    "$C = (F - 32) * \\frac{5}{9}$"
   ]
  },
  {
   "cell_type": "code",
   "execution_count": 138,
   "id": "abef382a-6eda-41b9-a2d9-3458572e5b9a",
   "metadata": {},
   "outputs": [
    {
     "name": "stdout",
     "output_type": "stream",
     "text": [
      "[48.89, 37.78, 43.33, 36.67, 38.89, 35.0, 26.67, 23.89]\n"
     ]
    }
   ],
   "source": [
    "temp_C = [round((F- 32) * (5/9),2) for F in temp]\n",
    "print(temp_C)"
   ]
  },
  {
   "cell_type": "code",
   "execution_count": null,
   "id": "337daff6-bd31-45a2-adc1-f5e4def3f685",
   "metadata": {},
   "outputs": [],
   "source": [
    "# 1 dimensional "
   ]
  },
  {
   "cell_type": "code",
   "execution_count": 133,
   "id": "e417e98a-3e5d-43d6-98de-edec598b2d0f",
   "metadata": {},
   "outputs": [],
   "source": [
    "temp_array = np.array([120, 100, 110,98, 102, 95, 80, 75])"
   ]
  },
  {
   "cell_type": "code",
   "execution_count": 144,
   "id": "1e9237c1-9c28-4c92-8567-c57e1dbc94f6",
   "metadata": {},
   "outputs": [
    {
     "data": {
      "text/plain": [
       "array([48.89, 37.78, 43.33, 36.67, 38.89, 35.  , 26.67, 23.89])"
      ]
     },
     "execution_count": 144,
     "metadata": {},
     "output_type": "execute_result"
    }
   ],
   "source": [
    "((temp_array - 32)* (5/9)).round(2)"
   ]
  },
  {
   "cell_type": "markdown",
   "id": "e0e17e63-3ea5-49ba-8824-5b76bdeeb5db",
   "metadata": {},
   "source": [
    "str > float > int"
   ]
  },
  {
   "cell_type": "code",
   "execution_count": 147,
   "id": "2181018f-dcfd-4c68-a117-14cc1a25485d",
   "metadata": {},
   "outputs": [
    {
     "data": {
      "text/plain": [
       "array(['2', '23', '67.09', 'True'], dtype='<U32')"
      ]
     },
     "execution_count": 147,
     "metadata": {},
     "output_type": "execute_result"
    }
   ],
   "source": [
    "np.array([2, '23', 67.09, True])"
   ]
  },
  {
   "cell_type": "code",
   "execution_count": 149,
   "id": "95b06211-09ce-4254-8176-4182a04a9e0e",
   "metadata": {},
   "outputs": [
    {
     "data": {
      "text/plain": [
       "array([ 2, 23, 67,  1])"
      ]
     },
     "execution_count": 149,
     "metadata": {},
     "output_type": "execute_result"
    }
   ],
   "source": [
    "np.array([2, '23', 67.09, True], dtype = int )"
   ]
  },
  {
   "cell_type": "markdown",
   "id": "097edb05-bd9a-4a12-82f8-ddbd12f4b8b6",
   "metadata": {},
   "source": [
    "### 2 dimensional array"
   ]
  },
  {
   "cell_type": "markdown",
   "id": "8c8a0e31-854b-4fb4-8296-a91a9bbb652e",
   "metadata": {},
   "source": [
    "### Side note - Random number generation\n"
   ]
  },
  {
   "cell_type": "code",
   "execution_count": 162,
   "id": "6f8f24ec-5ba6-4247-b84d-540d3c61c132",
   "metadata": {
    "collapsed": true,
    "jupyter": {
     "outputs_hidden": true
    }
   },
   "outputs": [
    {
     "data": {
      "text/plain": [
       "array([[ 65,  65,  71,  70, 105,  96],\n",
       "       [113,  63, 103,  79,  83,  80],\n",
       "       [ 96,  53,  82,  63,  92,  54],\n",
       "       [ 82,  82, 106, 114, 103, 113],\n",
       "       [112, 118,  75,  59, 103, 107]])"
      ]
     },
     "execution_count": 162,
     "metadata": {},
     "output_type": "execute_result"
    }
   ],
   "source": [
    "np.random.randint(50, 120, (5,6) )"
   ]
  },
  {
   "cell_type": "code",
   "execution_count": 166,
   "id": "1ccba1a4-a39e-42ef-a045-80bd270b7688",
   "metadata": {},
   "outputs": [],
   "source": [
    "temps_fahrenheit = np.array([[85, 87, 84, 82, 86, 88],     \n",
    "                             [90, 91, 89, 88, 92, 93],     \n",
    "                             [78, 80, 79, 77, 81, 83],     \n",
    "                             [95, 96, 94, 93, 97, 98],     \n",
    "                             [88, 89, 87, 86, 90, 91]])"
   ]
  },
  {
   "cell_type": "code",
   "execution_count": 168,
   "id": "3ea47071-b410-48c7-b86f-834f5b5290be",
   "metadata": {},
   "outputs": [
    {
     "name": "stdout",
     "output_type": "stream",
     "text": [
      "No. of dimensions :  2\n",
      "Shape of the array:  (5, 6)\n",
      "Size of the array :  30\n",
      "Dtype of the array:  int64\n"
     ]
    }
   ],
   "source": [
    "# properties of array \n",
    "print(\"No. of dimensions : \", temps_fahrenheit.ndim)\n",
    "print(\"Shape of the array: \", temps_fahrenheit.shape)\n",
    "print(\"Size of the array : \", temps_fahrenheit.size)\n",
    "print(\"Dtype of the array: \", temps_fahrenheit.dtype)"
   ]
  },
  {
   "cell_type": "markdown",
   "id": "530f512e-c48e-452e-a799-7ecac37ed9f7",
   "metadata": {},
   "source": [
    "### add data for the 7th day "
   ]
  },
  {
   "cell_type": "markdown",
   "id": "61f38326-e599-4f6f-91a5-91b497c26d28",
   "metadata": {},
   "source": [
    "### -- stack\n",
    "hstack : concatenates 2 arrays increasing the columns\n",
    "vstack : concatenates 2 arrays increasing the rows"
   ]
  },
  {
   "cell_type": "code",
   "execution_count": 186,
   "id": "3139ae38-95af-46c3-b7d4-4b4d0a5c707a",
   "metadata": {},
   "outputs": [
    {
     "name": "stdout",
     "output_type": "stream",
     "text": [
      "(5, 1)\n"
     ]
    }
   ],
   "source": [
    "## add data for the 7th day \n",
    "day7 = np.array([[89], [94], [82], [99], [92]])\n",
    "print(day7.shape)"
   ]
  },
  {
   "cell_type": "code",
   "execution_count": 180,
   "id": "cfa98ad4-83c7-4fc6-9d4a-cf23c6c8384b",
   "metadata": {},
   "outputs": [
    {
     "data": {
      "text/plain": [
       "array([[85, 87, 84, 82, 86, 88, 89],\n",
       "       [90, 91, 89, 88, 92, 93, 94],\n",
       "       [78, 80, 79, 77, 81, 83, 82],\n",
       "       [95, 96, 94, 93, 97, 98, 99],\n",
       "       [88, 89, 87, 86, 90, 91, 92]])"
      ]
     },
     "execution_count": 180,
     "metadata": {},
     "output_type": "execute_result"
    }
   ],
   "source": [
    "np.hstack((temps_fahrenheit, day7))"
   ]
  },
  {
   "cell_type": "markdown",
   "id": "11abf925-7eeb-49d4-9d70-0a2ba8c182c7",
   "metadata": {},
   "source": [
    "### access elements :"
   ]
  },
  {
   "cell_type": "code",
   "execution_count": null,
   "id": "75695601-9db4-4574-96e5-2c58f75a7ed3",
   "metadata": {},
   "outputs": [
    {
     "data": {
      "text/plain": [
       "array([110,  95, 100])"
      ]
     },
     "execution_count": 190,
     "metadata": {},
     "output_type": "execute_result"
    }
   ],
   "source": [
    "temp_array[[2, 5, 1]]"
   ]
  },
  {
   "cell_type": "code",
   "execution_count": 194,
   "id": "165ce5ea-ffaa-4c4e-8564-d4457cae55ad",
   "metadata": {},
   "outputs": [
    {
     "data": {
      "text/plain": [
       "97"
      ]
     },
     "execution_count": 194,
     "metadata": {},
     "output_type": "execute_result"
    }
   ],
   "source": [
    "# for 1 value\n",
    "temps_fahrenheit[3, 4]"
   ]
  },
  {
   "cell_type": "code",
   "execution_count": 196,
   "id": "a395ca4d-37cb-44e0-b1e9-91e01da32dba",
   "metadata": {},
   "outputs": [
    {
     "data": {
      "text/plain": [
       "array([[85, 87, 84, 82, 86, 88],\n",
       "       [90, 91, 89, 88, 92, 93],\n",
       "       [78, 80, 79, 77, 81, 83],\n",
       "       [95, 96, 94, 93, 97, 98],\n",
       "       [88, 89, 87, 86, 90, 91]])"
      ]
     },
     "execution_count": 196,
     "metadata": {},
     "output_type": "execute_result"
    }
   ],
   "source": [
    "temps_fahrenheit"
   ]
  },
  {
   "cell_type": "code",
   "execution_count": 198,
   "id": "52e8c2ab-9fe9-46ec-a661-fbfdca8df0d7",
   "metadata": {},
   "outputs": [
    {
     "data": {
      "text/plain": [
       "array([78, 80, 79, 77, 81, 83])"
      ]
     },
     "execution_count": 198,
     "metadata": {},
     "output_type": "execute_result"
    }
   ],
   "source": [
    "# for a complete row: \n",
    "temps_fahrenheit[2]"
   ]
  },
  {
   "cell_type": "code",
   "execution_count": 202,
   "id": "8658b292-b73c-418a-8df0-ffe57da8e053",
   "metadata": {},
   "outputs": [
    {
     "data": {
      "text/plain": [
       "array([82, 88, 77, 93, 86])"
      ]
     },
     "execution_count": 202,
     "metadata": {},
     "output_type": "execute_result"
    }
   ],
   "source": [
    "# for a complete col: \n",
    "temps_fahrenheit[:, 3] # 1 d"
   ]
  },
  {
   "cell_type": "code",
   "execution_count": 206,
   "id": "53cfee72-edd4-417f-b26a-bbe7098dccbe",
   "metadata": {},
   "outputs": [
    {
     "data": {
      "text/plain": [
       "array([[82],\n",
       "       [88],\n",
       "       [77],\n",
       "       [93],\n",
       "       [86]])"
      ]
     },
     "execution_count": 206,
     "metadata": {},
     "output_type": "execute_result"
    }
   ],
   "source": [
    "# for a complete col: \n",
    "temps_fahrenheit[:, [3]] # 2d"
   ]
  },
  {
   "cell_type": "code",
   "execution_count": 208,
   "id": "e7d03cd3-6fdf-4509-bcf8-30ab4a2eabd5",
   "metadata": {},
   "outputs": [],
   "source": [
    "# access elements 1 to 5"
   ]
  },
  {
   "cell_type": "code",
   "execution_count": 210,
   "id": "21227b34-fa0c-486d-957d-c681056d139e",
   "metadata": {},
   "outputs": [
    {
     "data": {
      "text/plain": [
       "array([100, 110,  98, 102,  95])"
      ]
     },
     "execution_count": 210,
     "metadata": {},
     "output_type": "execute_result"
    }
   ],
   "source": [
    "temp_array[1: 6]"
   ]
  },
  {
   "cell_type": "markdown",
   "id": "e1f093b3-634e-4677-986a-9a5131386d35",
   "metadata": {},
   "source": [
    "### Array Mathematics"
   ]
  },
  {
   "cell_type": "code",
   "execution_count": 213,
   "id": "3d8decce-21a8-46bb-85c8-1c7915802ec5",
   "metadata": {},
   "outputs": [],
   "source": [
    "t1 = np.array([1,2,3,4,5])\n",
    "t2 = np.array([1,2,3,4,5])"
   ]
  },
  {
   "cell_type": "code",
   "execution_count": 215,
   "id": "e9c65c40-4496-4b96-8ec9-5a322593597f",
   "metadata": {},
   "outputs": [
    {
     "data": {
      "text/plain": [
       "array([ 2,  4,  6,  8, 10])"
      ]
     },
     "execution_count": 215,
     "metadata": {},
     "output_type": "execute_result"
    }
   ],
   "source": [
    "t1 + t2"
   ]
  },
  {
   "cell_type": "code",
   "execution_count": 217,
   "id": "fdef297c-2a60-41b2-b74a-03ddcb782ec8",
   "metadata": {},
   "outputs": [
    {
     "data": {
      "text/plain": [
       "array([ 1,  4,  9, 16, 25])"
      ]
     },
     "execution_count": 217,
     "metadata": {},
     "output_type": "execute_result"
    }
   ],
   "source": [
    "t1 * t2"
   ]
  },
  {
   "cell_type": "code",
   "execution_count": 219,
   "id": "572c9f0f-75de-4b38-8beb-c8c3d88fdb06",
   "metadata": {},
   "outputs": [
    {
     "name": "stdout",
     "output_type": "stream",
     "text": [
      "[[ 1  2  3  4  5]\n",
      " [11 12 13 14 15]]\n"
     ]
    }
   ],
   "source": [
    "t1 = np.array([[1, 2, 3, 4, 5], [11, 12,13, 14, 15]])\n",
    "print(t1)"
   ]
  },
  {
   "cell_type": "code",
   "execution_count": 221,
   "id": "170f25d2-f5dc-4ab0-9a7b-51ebcf987616",
   "metadata": {},
   "outputs": [
    {
     "data": {
      "text/plain": [
       "array([[ 5, 10, 15, 20, 25],\n",
       "       [55, 60, 65, 70, 75]])"
      ]
     },
     "execution_count": 221,
     "metadata": {},
     "output_type": "execute_result"
    }
   ],
   "source": [
    "t1 * 5"
   ]
  },
  {
   "cell_type": "code",
   "execution_count": 223,
   "id": "9a72463f-3b6e-40af-8c99-8e2b9b936d0b",
   "metadata": {},
   "outputs": [
    {
     "name": "stdout",
     "output_type": "stream",
     "text": [
      "[10 20 30 40 50] (5,)\n"
     ]
    }
   ],
   "source": [
    "t2 = np.array([10,20,30,40,50])\n",
    "print(t2, t2.shape)"
   ]
  },
  {
   "cell_type": "code",
   "execution_count": 225,
   "id": "36e0b73f-63e5-4383-b4b8-085101baee2f",
   "metadata": {},
   "outputs": [
    {
     "name": "stdout",
     "output_type": "stream",
     "text": [
      "(2, 5)\n"
     ]
    }
   ],
   "source": [
    "print(t1.shape)"
   ]
  },
  {
   "cell_type": "code",
   "execution_count": 227,
   "id": "006d83c8-fa4c-4e0a-875f-7664ae0faf3d",
   "metadata": {},
   "outputs": [
    {
     "name": "stdout",
     "output_type": "stream",
     "text": [
      "[[ 1  2  3  4  5]\n",
      " [11 12 13 14 15]]\n",
      "[10 20 30 40 50]\n"
     ]
    }
   ],
   "source": [
    "print(t1)\n",
    "print(t2)"
   ]
  },
  {
   "cell_type": "code",
   "execution_count": 229,
   "id": "15a0e91c-9cb9-4b1e-b6c1-3c015eca50d4",
   "metadata": {},
   "outputs": [
    {
     "data": {
      "text/plain": [
       "array([[ 10,  40,  90, 160, 250],\n",
       "       [110, 240, 390, 560, 750]])"
      ]
     },
     "execution_count": 229,
     "metadata": {},
     "output_type": "execute_result"
    }
   ],
   "source": [
    "t1 * t2 "
   ]
  },
  {
   "cell_type": "code",
   "execution_count": 231,
   "id": "5822db66-01df-47e9-a6a0-6051d86a9c03",
   "metadata": {},
   "outputs": [
    {
     "data": {
      "text/plain": [
       "array([[ 62,  51,  77,  99,  55,  96,  81],\n",
       "       [ 73,  69,  96,  91,  73,  86,  86],\n",
       "       [ 95,  72,  76,  81,  91,  78,  50],\n",
       "       [ 79,  98,  68,  75, 100,  92,  80],\n",
       "       [ 66,  73,  77,  92,  84,  97,  94]])"
      ]
     },
     "execution_count": 231,
     "metadata": {},
     "output_type": "execute_result"
    }
   ],
   "source": [
    "scores = np.random.randint(50, 101, (5, 7))\n",
    "scores"
   ]
  },
  {
   "cell_type": "code",
   "execution_count": 233,
   "id": "6a948724-367e-43eb-9c2a-225446228598",
   "metadata": {},
   "outputs": [
    {
     "data": {
      "text/plain": [
       "80.37142857142857"
      ]
     },
     "execution_count": 233,
     "metadata": {},
     "output_type": "execute_result"
    }
   ],
   "source": [
    "scores.mean()"
   ]
  },
  {
   "cell_type": "code",
   "execution_count": 235,
   "id": "9d4272e8-fccd-43d8-892e-f641e67eaf7b",
   "metadata": {},
   "outputs": [],
   "source": [
    "# get the avg marks in each subject \n",
    "# get the tot marks for each student"
   ]
  },
  {
   "cell_type": "code",
   "execution_count": 237,
   "id": "9a3fb64b-f8cc-4c00-8d56-01a24bc77bb3",
   "metadata": {},
   "outputs": [
    {
     "data": {
      "text/plain": [
       "(5, 7)"
      ]
     },
     "execution_count": 237,
     "metadata": {},
     "output_type": "execute_result"
    }
   ],
   "source": [
    "scores.shape"
   ]
  },
  {
   "cell_type": "code",
   "execution_count": 240,
   "id": "7f79090e-54dc-4781-85b0-a497c46d5178",
   "metadata": {},
   "outputs": [
    {
     "data": {
      "text/plain": [
       "array([[ 62,  51,  77,  99,  55,  96,  81],\n",
       "       [ 73,  69,  96,  91,  73,  86,  86],\n",
       "       [ 95,  72,  76,  81,  91,  78,  50],\n",
       "       [ 79,  98,  68,  75, 100,  92,  80],\n",
       "       [ 66,  73,  77,  92,  84,  97,  94]])"
      ]
     },
     "execution_count": 240,
     "metadata": {},
     "output_type": "execute_result"
    }
   ],
   "source": [
    "scores"
   ]
  },
  {
   "cell_type": "markdown",
   "id": "ce3631c2-09e8-4576-bbcf-35ab145975d7",
   "metadata": {},
   "source": [
    "### get the avg marks in each subject \n",
    "1. Which dimension are we reducing? - reducing rows\n",
    "2. Along which dimension are we calculating? - calculation for  each column "
   ]
  },
  {
   "cell_type": "markdown",
   "id": "361a299c-bc34-4430-9513-7936cf0d1896",
   "metadata": {},
   "source": [
    "### In a 2D arry: Axis = 0 or 1\n",
    "represents the index of the dimension in the shape which you are looking to reduce"
   ]
  },
  {
   "cell_type": "code",
   "execution_count": 244,
   "id": "d4185132-35ea-465e-94d9-4d354d7c8b99",
   "metadata": {},
   "outputs": [
    {
     "data": {
      "text/plain": [
       "(5, 7)"
      ]
     },
     "execution_count": 244,
     "metadata": {},
     "output_type": "execute_result"
    }
   ],
   "source": [
    "scores.shape"
   ]
  },
  {
   "cell_type": "markdown",
   "id": "b5bb935e-dfc5-4b87-908f-37ad7d5d3487",
   "metadata": {},
   "source": [
    "- index = 0 in shape --> rows\n",
    "- index = 1 in shape --> columns"
   ]
  },
  {
   "cell_type": "code",
   "execution_count": 247,
   "id": "c35673b5-b21a-4f39-8e82-4682a2632f8e",
   "metadata": {},
   "outputs": [
    {
     "data": {
      "text/plain": [
       "array([75. , 72.6, 78.8, 87.6, 80.6, 89.8, 78.2])"
      ]
     },
     "execution_count": 247,
     "metadata": {},
     "output_type": "execute_result"
    }
   ],
   "source": [
    "scores.mean(axis = 0)"
   ]
  },
  {
   "cell_type": "code",
   "execution_count": 249,
   "id": "9a8882a9-0510-49ce-a2ed-6ab4c03a7684",
   "metadata": {},
   "outputs": [],
   "source": [
    "# get the tot marks for each student"
   ]
  },
  {
   "cell_type": "code",
   "execution_count": 251,
   "id": "e426dc5e-3952-49b3-93f6-865c465ce780",
   "metadata": {},
   "outputs": [
    {
     "data": {
      "text/plain": [
       "array([521, 574, 543, 592, 583])"
      ]
     },
     "execution_count": 251,
     "metadata": {},
     "output_type": "execute_result"
    }
   ],
   "source": [
    "scores.sum(axis =1 )"
   ]
  },
  {
   "cell_type": "markdown",
   "id": "afbf24e4-6ac4-4e53-875f-77ccc183f521",
   "metadata": {},
   "source": [
    "## Pandas  \n",
    "1. Series    : 1 dimensional labelled array like data structur\n",
    "2. DataFrame : 2 dimensional labelled array like data structur"
   ]
  },
  {
   "cell_type": "code",
   "execution_count": 259,
   "id": "1b350d38-5fba-426f-a66a-8e6c68a4ee1e",
   "metadata": {},
   "outputs": [],
   "source": [
    "import pandas as pd"
   ]
  },
  {
   "cell_type": "code",
   "execution_count": 261,
   "id": "7603f0e3-8614-4544-a09a-c3a1e295bdc5",
   "metadata": {},
   "outputs": [
    {
     "name": "stdout",
     "output_type": "stream",
     "text": [
      "{'Name': ' Nimisha ', 'Age': 35, 'Salary': 6999.99, 'Hobbies': 'Reading'}\n"
     ]
    }
   ],
   "source": [
    "info = {'Name': ' Nimisha ', 'Age' : 35, 'Salary': 6999.99, 'Hobbies': 'Reading'}\n",
    "print(info)"
   ]
  },
  {
   "cell_type": "code",
   "execution_count": 263,
   "id": "dbfe9aff-80e1-4deb-b181-b50d24050308",
   "metadata": {},
   "outputs": [
    {
     "name": "stdout",
     "output_type": "stream",
     "text": [
      "Name        Nimisha \n",
      "Age               35\n",
      "Salary       6999.99\n",
      "Hobbies      Reading\n",
      "dtype: object\n"
     ]
    }
   ],
   "source": [
    "info_ser = pd.Series(info)\n",
    "print(info_ser)"
   ]
  },
  {
   "cell_type": "code",
   "execution_count": 265,
   "id": "2044a412-0fbd-47c2-8af1-233dd21e2996",
   "metadata": {},
   "outputs": [
    {
     "data": {
      "text/plain": [
       "Name        Nimisha  Nimisha \n",
       "Age                        70\n",
       "Salary               13999.98\n",
       "Hobbies        ReadingReading\n",
       "dtype: object"
      ]
     },
     "execution_count": 265,
     "metadata": {},
     "output_type": "execute_result"
    }
   ],
   "source": [
    "info_ser * 2"
   ]
  },
  {
   "cell_type": "code",
   "execution_count": 267,
   "id": "ccf1530d-1b71-4604-9bbd-2cf215f44771",
   "metadata": {},
   "outputs": [
    {
     "data": {
      "text/plain": [
       "' Nimisha '"
      ]
     },
     "execution_count": 267,
     "metadata": {},
     "output_type": "execute_result"
    }
   ],
   "source": [
    "info_ser['Name']"
   ]
  },
  {
   "cell_type": "code",
   "execution_count": 269,
   "id": "8e43a43b-2c5a-459d-a364-97e3ebcdbfa9",
   "metadata": {},
   "outputs": [
    {
     "data": {
      "text/plain": [
       "' Nimisha '"
      ]
     },
     "execution_count": 269,
     "metadata": {},
     "output_type": "execute_result"
    }
   ],
   "source": [
    "info_ser.iloc[0]"
   ]
  },
  {
   "cell_type": "code",
   "execution_count": 271,
   "id": "4d44954a-3ac2-48ba-b7fc-cb15933080f3",
   "metadata": {},
   "outputs": [
    {
     "name": "stdout",
     "output_type": "stream",
     "text": [
      "0    10\n",
      "1    30\n",
      "2    40\n",
      "3    50\n",
      "4    70\n",
      "5    80\n",
      "6    90\n",
      "dtype: int64\n"
     ]
    }
   ],
   "source": [
    "ser1 = pd.Series([10,  30, 40, 50,70, 80, 90])\n",
    "print(ser1)"
   ]
  },
  {
   "cell_type": "raw",
   "id": "5e0dd091-4644-46f3-9bc2-9d5bfc1126ab",
   "metadata": {},
   "source": [
    "index and labels are same\n",
    "0 -> vishal\n",
    "1 -> Seema\n",
    "2 -> Garima\n",
    "3 -> Vaishali\n",
    "4 -> Abhay"
   ]
  },
  {
   "cell_type": "markdown",
   "id": "fae34fd0-e9af-4efa-afc5-484035f552d3",
   "metadata": {},
   "source": [
    "|index | value | label|\n",
    "|-|-|-|\n",
    "|0 | Abhay | 4|\n",
    "|1 | Garima | 2|\n",
    "|2 | Seema | 1|\n",
    "|3 | Vaishali | 3|\n",
    "|4 | Vishal | 0 |"
   ]
  },
  {
   "cell_type": "code",
   "execution_count": 275,
   "id": "e2342c39-1758-4de8-80bf-673407d213e7",
   "metadata": {},
   "outputs": [
    {
     "name": "stdout",
     "output_type": "stream",
     "text": [
      "A    10\n",
      "C    30\n",
      "D    40\n",
      "E    50\n",
      "G    70\n",
      "H    80\n",
      "I    90\n",
      "dtype: int64\n"
     ]
    }
   ],
   "source": [
    "ser1 = pd.Series([10,  30, 40, 50,70, 80, 90], index = ['A', 'C', 'D', 'E', 'G', 'H', 'I'])\n",
    "print(ser1)"
   ]
  },
  {
   "cell_type": "code",
   "execution_count": 279,
   "id": "aa02acb7-75be-4a1f-871c-0b902fcde007",
   "metadata": {},
   "outputs": [
    {
     "name": "stdout",
     "output_type": "stream",
     "text": [
      "A     10\n",
      "B     20\n",
      "C     30\n",
      "F     60\n",
      "E     50\n",
      "G     70\n",
      "J    100\n",
      "K    110\n",
      "dtype: int64\n"
     ]
    }
   ],
   "source": [
    "ser2 = pd.Series([10, 20, 30, 60, 50,70, 100, 110], index = ['A', 'B', 'C', 'F', 'E' , 'G', 'J', 'K'])\n",
    "print(ser2)"
   ]
  },
  {
   "cell_type": "code",
   "execution_count": 281,
   "id": "a38a07ce-797b-40e0-8482-7fb11206d8ff",
   "metadata": {},
   "outputs": [
    {
     "data": {
      "text/plain": [
       "A     20.0\n",
       "B      NaN\n",
       "C     60.0\n",
       "D      NaN\n",
       "E    100.0\n",
       "F      NaN\n",
       "G    140.0\n",
       "H      NaN\n",
       "I      NaN\n",
       "J      NaN\n",
       "K      NaN\n",
       "dtype: float64"
      ]
     },
     "execution_count": 281,
     "metadata": {},
     "output_type": "execute_result"
    }
   ],
   "source": [
    "ser1 + ser2"
   ]
  },
  {
   "cell_type": "code",
   "execution_count": 291,
   "id": "1c88cd64-07cc-4341-8ed4-b8284d560a77",
   "metadata": {},
   "outputs": [
    {
     "data": {
      "text/plain": [
       "A       20.0\n",
       "B    10019.0\n",
       "C       60.0\n",
       "D    10039.0\n",
       "E      100.0\n",
       "F    10059.0\n",
       "G      140.0\n",
       "H    10079.0\n",
       "I    10089.0\n",
       "J    10099.0\n",
       "K    10109.0\n",
       "dtype: float64"
      ]
     },
     "execution_count": 291,
     "metadata": {},
     "output_type": "execute_result"
    }
   ],
   "source": [
    "ser1.add( ser2, fill_value = 9999)"
   ]
  },
  {
   "cell_type": "markdown",
   "id": "2819a5f7-289b-4693-8ddb-c68491d103f1",
   "metadata": {},
   "source": [
    "## DataFrames : stack of series \n",
    "- each column is a series\n",
    "- each row is also a series"
   ]
  },
  {
   "cell_type": "code",
   "execution_count": 294,
   "id": "d4629bfb-30a8-4a90-bfae-9ec9b359d155",
   "metadata": {},
   "outputs": [],
   "source": [
    "data = {\n",
    "    'Country': ['Brazil', 'Russia', 'India', 'China', 'South Africa'],\n",
    "    'Capital': ['Brasília', 'Moscow', 'New Delhi', 'Beijing', 'Pretoria'],\n",
    "    'Area_1000sqkm': [8516, 17098, 3287, 9597, 1221],\n",
    "    'Population_B': [0.214, 0.143, 1.428, 1.412, 0.060],\n",
    "    'GDP_per_capita_USD': [8860, 12720, 2540, 12560, 6610]\n",
    "}"
   ]
  },
  {
   "cell_type": "code",
   "execution_count": 298,
   "id": "f885cfee-ca17-400c-b2a2-896353f83ccf",
   "metadata": {},
   "outputs": [],
   "source": [
    "brics = pd.DataFrame(data)"
   ]
  },
  {
   "cell_type": "code",
   "execution_count": 300,
   "id": "a0e7827f-70a8-46f9-802c-12eabdeb9b29",
   "metadata": {},
   "outputs": [
    {
     "data": {
      "text/html": [
       "<div>\n",
       "<style scoped>\n",
       "    .dataframe tbody tr th:only-of-type {\n",
       "        vertical-align: middle;\n",
       "    }\n",
       "\n",
       "    .dataframe tbody tr th {\n",
       "        vertical-align: top;\n",
       "    }\n",
       "\n",
       "    .dataframe thead th {\n",
       "        text-align: right;\n",
       "    }\n",
       "</style>\n",
       "<table border=\"1\" class=\"dataframe\">\n",
       "  <thead>\n",
       "    <tr style=\"text-align: right;\">\n",
       "      <th></th>\n",
       "      <th>Country</th>\n",
       "      <th>Capital</th>\n",
       "      <th>Area_1000sqkm</th>\n",
       "      <th>Population_B</th>\n",
       "      <th>GDP_per_capita_USD</th>\n",
       "    </tr>\n",
       "  </thead>\n",
       "  <tbody>\n",
       "    <tr>\n",
       "      <th>0</th>\n",
       "      <td>Brazil</td>\n",
       "      <td>Brasília</td>\n",
       "      <td>8516</td>\n",
       "      <td>0.214</td>\n",
       "      <td>8860</td>\n",
       "    </tr>\n",
       "    <tr>\n",
       "      <th>1</th>\n",
       "      <td>Russia</td>\n",
       "      <td>Moscow</td>\n",
       "      <td>17098</td>\n",
       "      <td>0.143</td>\n",
       "      <td>12720</td>\n",
       "    </tr>\n",
       "    <tr>\n",
       "      <th>2</th>\n",
       "      <td>India</td>\n",
       "      <td>New Delhi</td>\n",
       "      <td>3287</td>\n",
       "      <td>1.428</td>\n",
       "      <td>2540</td>\n",
       "    </tr>\n",
       "    <tr>\n",
       "      <th>3</th>\n",
       "      <td>China</td>\n",
       "      <td>Beijing</td>\n",
       "      <td>9597</td>\n",
       "      <td>1.412</td>\n",
       "      <td>12560</td>\n",
       "    </tr>\n",
       "    <tr>\n",
       "      <th>4</th>\n",
       "      <td>South Africa</td>\n",
       "      <td>Pretoria</td>\n",
       "      <td>1221</td>\n",
       "      <td>0.060</td>\n",
       "      <td>6610</td>\n",
       "    </tr>\n",
       "  </tbody>\n",
       "</table>\n",
       "</div>"
      ],
      "text/plain": [
       "        Country    Capital  Area_1000sqkm  Population_B  GDP_per_capita_USD\n",
       "0        Brazil   Brasília           8516         0.214                8860\n",
       "1        Russia     Moscow          17098         0.143               12720\n",
       "2         India  New Delhi           3287         1.428                2540\n",
       "3         China    Beijing           9597         1.412               12560\n",
       "4  South Africa   Pretoria           1221         0.060                6610"
      ]
     },
     "execution_count": 300,
     "metadata": {},
     "output_type": "execute_result"
    }
   ],
   "source": [
    "brics"
   ]
  },
  {
   "cell_type": "markdown",
   "id": "3735f75d-e54a-421b-8ba9-738f94303e6d",
   "metadata": {},
   "source": [
    "### Working directory "
   ]
  },
  {
   "cell_type": "code",
   "execution_count": 303,
   "id": "0d33f4aa-5ffd-4f91-a350-f13235e763f8",
   "metadata": {},
   "outputs": [
    {
     "data": {
      "text/plain": [
       "'/Users/learnersgalaxy/Library/CloudStorage/OneDrive-Personal/Emeritus/IITG-DSBA March 27th/Python'"
      ]
     },
     "execution_count": 303,
     "metadata": {},
     "output_type": "execute_result"
    }
   ],
   "source": [
    "pwd()"
   ]
  },
  {
   "cell_type": "code",
   "execution_count": 305,
   "id": "9d57c214-e396-47c7-9808-e548e994257c",
   "metadata": {},
   "outputs": [
    {
     "data": {
      "text/plain": [
       "'/Users/learnersgalaxy/Library/CloudStorage/OneDrive-Personal/Emeritus/IITG-DSBA March 27th/Python'"
      ]
     },
     "execution_count": 305,
     "metadata": {},
     "output_type": "execute_result"
    }
   ],
   "source": [
    "import os \n",
    "os.getcwd()"
   ]
  },
  {
   "cell_type": "code",
   "execution_count": null,
   "id": "86798d8e-9945-4bb0-9c78-30c4fb4f9551",
   "metadata": {},
   "outputs": [],
   "source": [
    "'/Users/learnersgalaxy/Downloads/Week 16/sales_data.csv'"
   ]
  },
  {
   "cell_type": "code",
   "execution_count": null,
   "id": "64af1567-1280-4ac9-b538-5e5d0cc134a3",
   "metadata": {},
   "outputs": [],
   "source": [
    "r'C:\\User\\admin\\downloads\\sales_data.csv'"
   ]
  },
  {
   "cell_type": "code",
   "execution_count": 319,
   "id": "4253e004-7458-483a-97b8-9658104c9740",
   "metadata": {},
   "outputs": [],
   "source": [
    "path = '~/Downloads/Week 16/sales_data.csv'"
   ]
  },
  {
   "cell_type": "code",
   "execution_count": 321,
   "id": "c0337bda-dbc2-4d3d-bf89-4c01fc6ec410",
   "metadata": {
    "collapsed": true,
    "jupyter": {
     "outputs_hidden": true
    }
   },
   "outputs": [
    {
     "data": {
      "text/html": [
       "<div>\n",
       "<style scoped>\n",
       "    .dataframe tbody tr th:only-of-type {\n",
       "        vertical-align: middle;\n",
       "    }\n",
       "\n",
       "    .dataframe tbody tr th {\n",
       "        vertical-align: top;\n",
       "    }\n",
       "\n",
       "    .dataframe thead th {\n",
       "        text-align: right;\n",
       "    }\n",
       "</style>\n",
       "<table border=\"1\" class=\"dataframe\">\n",
       "  <thead>\n",
       "    <tr style=\"text-align: right;\">\n",
       "      <th></th>\n",
       "      <th>Product</th>\n",
       "      <th>Price</th>\n",
       "      <th>Sales</th>\n",
       "      <th>Cost</th>\n",
       "      <th>Region</th>\n",
       "    </tr>\n",
       "  </thead>\n",
       "  <tbody>\n",
       "    <tr>\n",
       "      <th>0</th>\n",
       "      <td>Laptop</td>\n",
       "      <td>1000</td>\n",
       "      <td>800</td>\n",
       "      <td>600</td>\n",
       "      <td>North</td>\n",
       "    </tr>\n",
       "    <tr>\n",
       "      <th>1</th>\n",
       "      <td>Smartphone</td>\n",
       "      <td>600</td>\n",
       "      <td>500</td>\n",
       "      <td>400</td>\n",
       "      <td>South</td>\n",
       "    </tr>\n",
       "    <tr>\n",
       "      <th>2</th>\n",
       "      <td>Tablet</td>\n",
       "      <td>400</td>\n",
       "      <td>300</td>\n",
       "      <td>250</td>\n",
       "      <td>East</td>\n",
       "    </tr>\n",
       "    <tr>\n",
       "      <th>3</th>\n",
       "      <td>Monitor</td>\n",
       "      <td>300</td>\n",
       "      <td>150</td>\n",
       "      <td>100</td>\n",
       "      <td>West</td>\n",
       "    </tr>\n",
       "    <tr>\n",
       "      <th>4</th>\n",
       "      <td>Laptop</td>\n",
       "      <td>950</td>\n",
       "      <td>700</td>\n",
       "      <td>500</td>\n",
       "      <td>East</td>\n",
       "    </tr>\n",
       "    <tr>\n",
       "      <th>5</th>\n",
       "      <td>Smartphone</td>\n",
       "      <td>650</td>\n",
       "      <td>600</td>\n",
       "      <td>450</td>\n",
       "      <td>North</td>\n",
       "    </tr>\n",
       "    <tr>\n",
       "      <th>6</th>\n",
       "      <td>Headphones</td>\n",
       "      <td>150</td>\n",
       "      <td>80</td>\n",
       "      <td>60</td>\n",
       "      <td>South</td>\n",
       "    </tr>\n",
       "    <tr>\n",
       "      <th>7</th>\n",
       "      <td>Mouse</td>\n",
       "      <td>50</td>\n",
       "      <td>200</td>\n",
       "      <td>30</td>\n",
       "      <td>West</td>\n",
       "    </tr>\n",
       "    <tr>\n",
       "      <th>8</th>\n",
       "      <td>Keyboard</td>\n",
       "      <td>100</td>\n",
       "      <td>120</td>\n",
       "      <td>80</td>\n",
       "      <td>North</td>\n",
       "    </tr>\n",
       "    <tr>\n",
       "      <th>9</th>\n",
       "      <td>Monitor</td>\n",
       "      <td>350</td>\n",
       "      <td>200</td>\n",
       "      <td>150</td>\n",
       "      <td>East</td>\n",
       "    </tr>\n",
       "    <tr>\n",
       "      <th>10</th>\n",
       "      <td>Tablet</td>\n",
       "      <td>420</td>\n",
       "      <td>350</td>\n",
       "      <td>300</td>\n",
       "      <td>South</td>\n",
       "    </tr>\n",
       "    <tr>\n",
       "      <th>11</th>\n",
       "      <td>Headphones</td>\n",
       "      <td>170</td>\n",
       "      <td>140</td>\n",
       "      <td>90</td>\n",
       "      <td>West</td>\n",
       "    </tr>\n",
       "    <tr>\n",
       "      <th>12</th>\n",
       "      <td>Smartphone</td>\n",
       "      <td>700</td>\n",
       "      <td>650</td>\n",
       "      <td>500</td>\n",
       "      <td>East</td>\n",
       "    </tr>\n",
       "    <tr>\n",
       "      <th>13</th>\n",
       "      <td>Smartwatch</td>\n",
       "      <td>250</td>\n",
       "      <td>100</td>\n",
       "      <td>80</td>\n",
       "      <td>North</td>\n",
       "    </tr>\n",
       "    <tr>\n",
       "      <th>14</th>\n",
       "      <td>Laptop</td>\n",
       "      <td>1100</td>\n",
       "      <td>900</td>\n",
       "      <td>700</td>\n",
       "      <td>South</td>\n",
       "    </tr>\n",
       "    <tr>\n",
       "      <th>15</th>\n",
       "      <td>Mouse</td>\n",
       "      <td>60</td>\n",
       "      <td>220</td>\n",
       "      <td>40</td>\n",
       "      <td>East</td>\n",
       "    </tr>\n",
       "    <tr>\n",
       "      <th>16</th>\n",
       "      <td>Keyboard</td>\n",
       "      <td>90</td>\n",
       "      <td>110</td>\n",
       "      <td>70</td>\n",
       "      <td>West</td>\n",
       "    </tr>\n",
       "    <tr>\n",
       "      <th>17</th>\n",
       "      <td>Smartwatch</td>\n",
       "      <td>270</td>\n",
       "      <td>180</td>\n",
       "      <td>130</td>\n",
       "      <td>East</td>\n",
       "    </tr>\n",
       "    <tr>\n",
       "      <th>18</th>\n",
       "      <td>Tablet</td>\n",
       "      <td>390</td>\n",
       "      <td>320</td>\n",
       "      <td>270</td>\n",
       "      <td>North</td>\n",
       "    </tr>\n",
       "    <tr>\n",
       "      <th>19</th>\n",
       "      <td>Headphones</td>\n",
       "      <td>160</td>\n",
       "      <td>120</td>\n",
       "      <td>80</td>\n",
       "      <td>South</td>\n",
       "    </tr>\n",
       "    <tr>\n",
       "      <th>20</th>\n",
       "      <td>Laptop</td>\n",
       "      <td>950</td>\n",
       "      <td>750</td>\n",
       "      <td>600</td>\n",
       "      <td>West</td>\n",
       "    </tr>\n",
       "    <tr>\n",
       "      <th>21</th>\n",
       "      <td>Smartphone</td>\n",
       "      <td>620</td>\n",
       "      <td>550</td>\n",
       "      <td>420</td>\n",
       "      <td>East</td>\n",
       "    </tr>\n",
       "    <tr>\n",
       "      <th>22</th>\n",
       "      <td>Monitor</td>\n",
       "      <td>330</td>\n",
       "      <td>180</td>\n",
       "      <td>130</td>\n",
       "      <td>North</td>\n",
       "    </tr>\n",
       "    <tr>\n",
       "      <th>23</th>\n",
       "      <td>Smartwatch</td>\n",
       "      <td>240</td>\n",
       "      <td>140</td>\n",
       "      <td>110</td>\n",
       "      <td>South</td>\n",
       "    </tr>\n",
       "    <tr>\n",
       "      <th>24</th>\n",
       "      <td>Mouse</td>\n",
       "      <td>55</td>\n",
       "      <td>210</td>\n",
       "      <td>35</td>\n",
       "      <td>West</td>\n",
       "    </tr>\n",
       "    <tr>\n",
       "      <th>25</th>\n",
       "      <td>Tablet</td>\n",
       "      <td>410</td>\n",
       "      <td>330</td>\n",
       "      <td>280</td>\n",
       "      <td>South</td>\n",
       "    </tr>\n",
       "  </tbody>\n",
       "</table>\n",
       "</div>"
      ],
      "text/plain": [
       "       Product  Price  Sales  Cost Region\n",
       "0       Laptop   1000    800   600  North\n",
       "1   Smartphone    600    500   400  South\n",
       "2       Tablet    400    300   250   East\n",
       "3      Monitor    300    150   100   West\n",
       "4       Laptop    950    700   500   East\n",
       "5   Smartphone    650    600   450  North\n",
       "6   Headphones    150     80    60  South\n",
       "7        Mouse     50    200    30   West\n",
       "8     Keyboard    100    120    80  North\n",
       "9      Monitor    350    200   150   East\n",
       "10      Tablet    420    350   300  South\n",
       "11  Headphones    170    140    90   West\n",
       "12  Smartphone    700    650   500   East\n",
       "13  Smartwatch    250    100    80  North\n",
       "14      Laptop   1100    900   700  South\n",
       "15       Mouse     60    220    40   East\n",
       "16    Keyboard     90    110    70   West\n",
       "17  Smartwatch    270    180   130   East\n",
       "18      Tablet    390    320   270  North\n",
       "19  Headphones    160    120    80  South\n",
       "20      Laptop    950    750   600   West\n",
       "21  Smartphone    620    550   420   East\n",
       "22     Monitor    330    180   130  North\n",
       "23  Smartwatch    240    140   110  South\n",
       "24       Mouse     55    210    35   West\n",
       "25      Tablet    410    330   280  South"
      ]
     },
     "execution_count": 321,
     "metadata": {},
     "output_type": "execute_result"
    }
   ],
   "source": [
    "pd.read_csv(path)"
   ]
  },
  {
   "cell_type": "code",
   "execution_count": 329,
   "id": "6a8309f9-2ed1-4a29-975e-4ba34cd5c2ad",
   "metadata": {
    "scrolled": true
   },
   "outputs": [
    {
     "name": "stdout",
     "output_type": "stream",
     "text": [
      "<class 'pandas.core.frame.DataFrame'>\n",
      "RangeIndex: 26 entries, 0 to 25\n",
      "Data columns (total 5 columns):\n",
      " #   Column   Non-Null Count  Dtype \n",
      "---  ------   --------------  ----- \n",
      " 0   Product  26 non-null     object\n",
      " 1   Price    26 non-null     int64 \n",
      " 2   Sales    26 non-null     int64 \n",
      " 3   Cost     26 non-null     int64 \n",
      " 4   Region   26 non-null     object\n",
      "dtypes: int64(3), object(2)\n",
      "memory usage: 1.1+ KB\n"
     ]
    }
   ],
   "source": [
    "sales_data = pd.read_csv('sales_data.csv')\n",
    "sales_data.info()"
   ]
  },
  {
   "cell_type": "code",
   "execution_count": 331,
   "id": "144e44ab-9419-4ec9-acab-9a1a2f62b9bf",
   "metadata": {},
   "outputs": [
    {
     "data": {
      "text/plain": [
       "\u001b[0;31mSignature:\u001b[0m\n",
       "\u001b[0mpd\u001b[0m\u001b[0;34m.\u001b[0m\u001b[0mread_csv\u001b[0m\u001b[0;34m(\u001b[0m\u001b[0;34m\u001b[0m\n",
       "\u001b[0;34m\u001b[0m    \u001b[0mfilepath_or_buffer\u001b[0m\u001b[0;34m:\u001b[0m \u001b[0;34m'FilePath | ReadCsvBuffer[bytes] | ReadCsvBuffer[str]'\u001b[0m\u001b[0;34m,\u001b[0m\u001b[0;34m\u001b[0m\n",
       "\u001b[0;34m\u001b[0m    \u001b[0;34m*\u001b[0m\u001b[0;34m,\u001b[0m\u001b[0;34m\u001b[0m\n",
       "\u001b[0;34m\u001b[0m    \u001b[0msep\u001b[0m\u001b[0;34m:\u001b[0m \u001b[0;34m'str | None | lib.NoDefault'\u001b[0m \u001b[0;34m=\u001b[0m \u001b[0;34m<\u001b[0m\u001b[0mno_default\u001b[0m\u001b[0;34m>\u001b[0m\u001b[0;34m,\u001b[0m\u001b[0;34m\u001b[0m\n",
       "\u001b[0;34m\u001b[0m    \u001b[0mdelimiter\u001b[0m\u001b[0;34m:\u001b[0m \u001b[0;34m'str | None | lib.NoDefault'\u001b[0m \u001b[0;34m=\u001b[0m \u001b[0;32mNone\u001b[0m\u001b[0;34m,\u001b[0m\u001b[0;34m\u001b[0m\n",
       "\u001b[0;34m\u001b[0m    \u001b[0mheader\u001b[0m\u001b[0;34m:\u001b[0m \u001b[0;34m\"int | Sequence[int] | None | Literal['infer']\"\u001b[0m \u001b[0;34m=\u001b[0m \u001b[0;34m'infer'\u001b[0m\u001b[0;34m,\u001b[0m\u001b[0;34m\u001b[0m\n",
       "\u001b[0;34m\u001b[0m    \u001b[0mnames\u001b[0m\u001b[0;34m:\u001b[0m \u001b[0;34m'Sequence[Hashable] | None | lib.NoDefault'\u001b[0m \u001b[0;34m=\u001b[0m \u001b[0;34m<\u001b[0m\u001b[0mno_default\u001b[0m\u001b[0;34m>\u001b[0m\u001b[0;34m,\u001b[0m\u001b[0;34m\u001b[0m\n",
       "\u001b[0;34m\u001b[0m    \u001b[0mindex_col\u001b[0m\u001b[0;34m:\u001b[0m \u001b[0;34m'IndexLabel | Literal[False] | None'\u001b[0m \u001b[0;34m=\u001b[0m \u001b[0;32mNone\u001b[0m\u001b[0;34m,\u001b[0m\u001b[0;34m\u001b[0m\n",
       "\u001b[0;34m\u001b[0m    \u001b[0musecols\u001b[0m\u001b[0;34m:\u001b[0m \u001b[0;34m'UsecolsArgType'\u001b[0m \u001b[0;34m=\u001b[0m \u001b[0;32mNone\u001b[0m\u001b[0;34m,\u001b[0m\u001b[0;34m\u001b[0m\n",
       "\u001b[0;34m\u001b[0m    \u001b[0mdtype\u001b[0m\u001b[0;34m:\u001b[0m \u001b[0;34m'DtypeArg | None'\u001b[0m \u001b[0;34m=\u001b[0m \u001b[0;32mNone\u001b[0m\u001b[0;34m,\u001b[0m\u001b[0;34m\u001b[0m\n",
       "\u001b[0;34m\u001b[0m    \u001b[0mengine\u001b[0m\u001b[0;34m:\u001b[0m \u001b[0;34m'CSVEngine | None'\u001b[0m \u001b[0;34m=\u001b[0m \u001b[0;32mNone\u001b[0m\u001b[0;34m,\u001b[0m\u001b[0;34m\u001b[0m\n",
       "\u001b[0;34m\u001b[0m    \u001b[0mconverters\u001b[0m\u001b[0;34m:\u001b[0m \u001b[0;34m'Mapping[Hashable, Callable] | None'\u001b[0m \u001b[0;34m=\u001b[0m \u001b[0;32mNone\u001b[0m\u001b[0;34m,\u001b[0m\u001b[0;34m\u001b[0m\n",
       "\u001b[0;34m\u001b[0m    \u001b[0mtrue_values\u001b[0m\u001b[0;34m:\u001b[0m \u001b[0;34m'list | None'\u001b[0m \u001b[0;34m=\u001b[0m \u001b[0;32mNone\u001b[0m\u001b[0;34m,\u001b[0m\u001b[0;34m\u001b[0m\n",
       "\u001b[0;34m\u001b[0m    \u001b[0mfalse_values\u001b[0m\u001b[0;34m:\u001b[0m \u001b[0;34m'list | None'\u001b[0m \u001b[0;34m=\u001b[0m \u001b[0;32mNone\u001b[0m\u001b[0;34m,\u001b[0m\u001b[0;34m\u001b[0m\n",
       "\u001b[0;34m\u001b[0m    \u001b[0mskipinitialspace\u001b[0m\u001b[0;34m:\u001b[0m \u001b[0;34m'bool'\u001b[0m \u001b[0;34m=\u001b[0m \u001b[0;32mFalse\u001b[0m\u001b[0;34m,\u001b[0m\u001b[0;34m\u001b[0m\n",
       "\u001b[0;34m\u001b[0m    \u001b[0mskiprows\u001b[0m\u001b[0;34m:\u001b[0m \u001b[0;34m'list[int] | int | Callable[[Hashable], bool] | None'\u001b[0m \u001b[0;34m=\u001b[0m \u001b[0;32mNone\u001b[0m\u001b[0;34m,\u001b[0m\u001b[0;34m\u001b[0m\n",
       "\u001b[0;34m\u001b[0m    \u001b[0mskipfooter\u001b[0m\u001b[0;34m:\u001b[0m \u001b[0;34m'int'\u001b[0m \u001b[0;34m=\u001b[0m \u001b[0;36m0\u001b[0m\u001b[0;34m,\u001b[0m\u001b[0;34m\u001b[0m\n",
       "\u001b[0;34m\u001b[0m    \u001b[0mnrows\u001b[0m\u001b[0;34m:\u001b[0m \u001b[0;34m'int | None'\u001b[0m \u001b[0;34m=\u001b[0m \u001b[0;32mNone\u001b[0m\u001b[0;34m,\u001b[0m\u001b[0;34m\u001b[0m\n",
       "\u001b[0;34m\u001b[0m    \u001b[0mna_values\u001b[0m\u001b[0;34m:\u001b[0m \u001b[0;34m'Hashable | Iterable[Hashable] | Mapping[Hashable, Iterable[Hashable]] | None'\u001b[0m \u001b[0;34m=\u001b[0m \u001b[0;32mNone\u001b[0m\u001b[0;34m,\u001b[0m\u001b[0;34m\u001b[0m\n",
       "\u001b[0;34m\u001b[0m    \u001b[0mkeep_default_na\u001b[0m\u001b[0;34m:\u001b[0m \u001b[0;34m'bool'\u001b[0m \u001b[0;34m=\u001b[0m \u001b[0;32mTrue\u001b[0m\u001b[0;34m,\u001b[0m\u001b[0;34m\u001b[0m\n",
       "\u001b[0;34m\u001b[0m    \u001b[0mna_filter\u001b[0m\u001b[0;34m:\u001b[0m \u001b[0;34m'bool'\u001b[0m \u001b[0;34m=\u001b[0m \u001b[0;32mTrue\u001b[0m\u001b[0;34m,\u001b[0m\u001b[0;34m\u001b[0m\n",
       "\u001b[0;34m\u001b[0m    \u001b[0mverbose\u001b[0m\u001b[0;34m:\u001b[0m \u001b[0;34m'bool | lib.NoDefault'\u001b[0m \u001b[0;34m=\u001b[0m \u001b[0;34m<\u001b[0m\u001b[0mno_default\u001b[0m\u001b[0;34m>\u001b[0m\u001b[0;34m,\u001b[0m\u001b[0;34m\u001b[0m\n",
       "\u001b[0;34m\u001b[0m    \u001b[0mskip_blank_lines\u001b[0m\u001b[0;34m:\u001b[0m \u001b[0;34m'bool'\u001b[0m \u001b[0;34m=\u001b[0m \u001b[0;32mTrue\u001b[0m\u001b[0;34m,\u001b[0m\u001b[0;34m\u001b[0m\n",
       "\u001b[0;34m\u001b[0m    \u001b[0mparse_dates\u001b[0m\u001b[0;34m:\u001b[0m \u001b[0;34m'bool | Sequence[Hashable] | None'\u001b[0m \u001b[0;34m=\u001b[0m \u001b[0;32mNone\u001b[0m\u001b[0;34m,\u001b[0m\u001b[0;34m\u001b[0m\n",
       "\u001b[0;34m\u001b[0m    \u001b[0minfer_datetime_format\u001b[0m\u001b[0;34m:\u001b[0m \u001b[0;34m'bool | lib.NoDefault'\u001b[0m \u001b[0;34m=\u001b[0m \u001b[0;34m<\u001b[0m\u001b[0mno_default\u001b[0m\u001b[0;34m>\u001b[0m\u001b[0;34m,\u001b[0m\u001b[0;34m\u001b[0m\n",
       "\u001b[0;34m\u001b[0m    \u001b[0mkeep_date_col\u001b[0m\u001b[0;34m:\u001b[0m \u001b[0;34m'bool | lib.NoDefault'\u001b[0m \u001b[0;34m=\u001b[0m \u001b[0;34m<\u001b[0m\u001b[0mno_default\u001b[0m\u001b[0;34m>\u001b[0m\u001b[0;34m,\u001b[0m\u001b[0;34m\u001b[0m\n",
       "\u001b[0;34m\u001b[0m    \u001b[0mdate_parser\u001b[0m\u001b[0;34m:\u001b[0m \u001b[0;34m'Callable | lib.NoDefault'\u001b[0m \u001b[0;34m=\u001b[0m \u001b[0;34m<\u001b[0m\u001b[0mno_default\u001b[0m\u001b[0;34m>\u001b[0m\u001b[0;34m,\u001b[0m\u001b[0;34m\u001b[0m\n",
       "\u001b[0;34m\u001b[0m    \u001b[0mdate_format\u001b[0m\u001b[0;34m:\u001b[0m \u001b[0;34m'str | dict[Hashable, str] | None'\u001b[0m \u001b[0;34m=\u001b[0m \u001b[0;32mNone\u001b[0m\u001b[0;34m,\u001b[0m\u001b[0;34m\u001b[0m\n",
       "\u001b[0;34m\u001b[0m    \u001b[0mdayfirst\u001b[0m\u001b[0;34m:\u001b[0m \u001b[0;34m'bool'\u001b[0m \u001b[0;34m=\u001b[0m \u001b[0;32mFalse\u001b[0m\u001b[0;34m,\u001b[0m\u001b[0;34m\u001b[0m\n",
       "\u001b[0;34m\u001b[0m    \u001b[0mcache_dates\u001b[0m\u001b[0;34m:\u001b[0m \u001b[0;34m'bool'\u001b[0m \u001b[0;34m=\u001b[0m \u001b[0;32mTrue\u001b[0m\u001b[0;34m,\u001b[0m\u001b[0;34m\u001b[0m\n",
       "\u001b[0;34m\u001b[0m    \u001b[0miterator\u001b[0m\u001b[0;34m:\u001b[0m \u001b[0;34m'bool'\u001b[0m \u001b[0;34m=\u001b[0m \u001b[0;32mFalse\u001b[0m\u001b[0;34m,\u001b[0m\u001b[0;34m\u001b[0m\n",
       "\u001b[0;34m\u001b[0m    \u001b[0mchunksize\u001b[0m\u001b[0;34m:\u001b[0m \u001b[0;34m'int | None'\u001b[0m \u001b[0;34m=\u001b[0m \u001b[0;32mNone\u001b[0m\u001b[0;34m,\u001b[0m\u001b[0;34m\u001b[0m\n",
       "\u001b[0;34m\u001b[0m    \u001b[0mcompression\u001b[0m\u001b[0;34m:\u001b[0m \u001b[0;34m'CompressionOptions'\u001b[0m \u001b[0;34m=\u001b[0m \u001b[0;34m'infer'\u001b[0m\u001b[0;34m,\u001b[0m\u001b[0;34m\u001b[0m\n",
       "\u001b[0;34m\u001b[0m    \u001b[0mthousands\u001b[0m\u001b[0;34m:\u001b[0m \u001b[0;34m'str | None'\u001b[0m \u001b[0;34m=\u001b[0m \u001b[0;32mNone\u001b[0m\u001b[0;34m,\u001b[0m\u001b[0;34m\u001b[0m\n",
       "\u001b[0;34m\u001b[0m    \u001b[0mdecimal\u001b[0m\u001b[0;34m:\u001b[0m \u001b[0;34m'str'\u001b[0m \u001b[0;34m=\u001b[0m \u001b[0;34m'.'\u001b[0m\u001b[0;34m,\u001b[0m\u001b[0;34m\u001b[0m\n",
       "\u001b[0;34m\u001b[0m    \u001b[0mlineterminator\u001b[0m\u001b[0;34m:\u001b[0m \u001b[0;34m'str | None'\u001b[0m \u001b[0;34m=\u001b[0m \u001b[0;32mNone\u001b[0m\u001b[0;34m,\u001b[0m\u001b[0;34m\u001b[0m\n",
       "\u001b[0;34m\u001b[0m    \u001b[0mquotechar\u001b[0m\u001b[0;34m:\u001b[0m \u001b[0;34m'str'\u001b[0m \u001b[0;34m=\u001b[0m \u001b[0;34m'\"'\u001b[0m\u001b[0;34m,\u001b[0m\u001b[0;34m\u001b[0m\n",
       "\u001b[0;34m\u001b[0m    \u001b[0mquoting\u001b[0m\u001b[0;34m:\u001b[0m \u001b[0;34m'int'\u001b[0m \u001b[0;34m=\u001b[0m \u001b[0;36m0\u001b[0m\u001b[0;34m,\u001b[0m\u001b[0;34m\u001b[0m\n",
       "\u001b[0;34m\u001b[0m    \u001b[0mdoublequote\u001b[0m\u001b[0;34m:\u001b[0m \u001b[0;34m'bool'\u001b[0m \u001b[0;34m=\u001b[0m \u001b[0;32mTrue\u001b[0m\u001b[0;34m,\u001b[0m\u001b[0;34m\u001b[0m\n",
       "\u001b[0;34m\u001b[0m    \u001b[0mescapechar\u001b[0m\u001b[0;34m:\u001b[0m \u001b[0;34m'str | None'\u001b[0m \u001b[0;34m=\u001b[0m \u001b[0;32mNone\u001b[0m\u001b[0;34m,\u001b[0m\u001b[0;34m\u001b[0m\n",
       "\u001b[0;34m\u001b[0m    \u001b[0mcomment\u001b[0m\u001b[0;34m:\u001b[0m \u001b[0;34m'str | None'\u001b[0m \u001b[0;34m=\u001b[0m \u001b[0;32mNone\u001b[0m\u001b[0;34m,\u001b[0m\u001b[0;34m\u001b[0m\n",
       "\u001b[0;34m\u001b[0m    \u001b[0mencoding\u001b[0m\u001b[0;34m:\u001b[0m \u001b[0;34m'str | None'\u001b[0m \u001b[0;34m=\u001b[0m \u001b[0;32mNone\u001b[0m\u001b[0;34m,\u001b[0m\u001b[0;34m\u001b[0m\n",
       "\u001b[0;34m\u001b[0m    \u001b[0mencoding_errors\u001b[0m\u001b[0;34m:\u001b[0m \u001b[0;34m'str | None'\u001b[0m \u001b[0;34m=\u001b[0m \u001b[0;34m'strict'\u001b[0m\u001b[0;34m,\u001b[0m\u001b[0;34m\u001b[0m\n",
       "\u001b[0;34m\u001b[0m    \u001b[0mdialect\u001b[0m\u001b[0;34m:\u001b[0m \u001b[0;34m'str | csv.Dialect | None'\u001b[0m \u001b[0;34m=\u001b[0m \u001b[0;32mNone\u001b[0m\u001b[0;34m,\u001b[0m\u001b[0;34m\u001b[0m\n",
       "\u001b[0;34m\u001b[0m    \u001b[0mon_bad_lines\u001b[0m\u001b[0;34m:\u001b[0m \u001b[0;34m'str'\u001b[0m \u001b[0;34m=\u001b[0m \u001b[0;34m'error'\u001b[0m\u001b[0;34m,\u001b[0m\u001b[0;34m\u001b[0m\n",
       "\u001b[0;34m\u001b[0m    \u001b[0mdelim_whitespace\u001b[0m\u001b[0;34m:\u001b[0m \u001b[0;34m'bool | lib.NoDefault'\u001b[0m \u001b[0;34m=\u001b[0m \u001b[0;34m<\u001b[0m\u001b[0mno_default\u001b[0m\u001b[0;34m>\u001b[0m\u001b[0;34m,\u001b[0m\u001b[0;34m\u001b[0m\n",
       "\u001b[0;34m\u001b[0m    \u001b[0mlow_memory\u001b[0m\u001b[0;34m:\u001b[0m \u001b[0;34m'bool'\u001b[0m \u001b[0;34m=\u001b[0m \u001b[0;32mTrue\u001b[0m\u001b[0;34m,\u001b[0m\u001b[0;34m\u001b[0m\n",
       "\u001b[0;34m\u001b[0m    \u001b[0mmemory_map\u001b[0m\u001b[0;34m:\u001b[0m \u001b[0;34m'bool'\u001b[0m \u001b[0;34m=\u001b[0m \u001b[0;32mFalse\u001b[0m\u001b[0;34m,\u001b[0m\u001b[0;34m\u001b[0m\n",
       "\u001b[0;34m\u001b[0m    \u001b[0mfloat_precision\u001b[0m\u001b[0;34m:\u001b[0m \u001b[0;34m\"Literal['high', 'legacy'] | None\"\u001b[0m \u001b[0;34m=\u001b[0m \u001b[0;32mNone\u001b[0m\u001b[0;34m,\u001b[0m\u001b[0;34m\u001b[0m\n",
       "\u001b[0;34m\u001b[0m    \u001b[0mstorage_options\u001b[0m\u001b[0;34m:\u001b[0m \u001b[0;34m'StorageOptions | None'\u001b[0m \u001b[0;34m=\u001b[0m \u001b[0;32mNone\u001b[0m\u001b[0;34m,\u001b[0m\u001b[0;34m\u001b[0m\n",
       "\u001b[0;34m\u001b[0m    \u001b[0mdtype_backend\u001b[0m\u001b[0;34m:\u001b[0m \u001b[0;34m'DtypeBackend | lib.NoDefault'\u001b[0m \u001b[0;34m=\u001b[0m \u001b[0;34m<\u001b[0m\u001b[0mno_default\u001b[0m\u001b[0;34m>\u001b[0m\u001b[0;34m,\u001b[0m\u001b[0;34m\u001b[0m\n",
       "\u001b[0;34m\u001b[0m\u001b[0;34m)\u001b[0m \u001b[0;34m->\u001b[0m \u001b[0;34m'DataFrame | TextFileReader'\u001b[0m\u001b[0;34m\u001b[0m\u001b[0;34m\u001b[0m\u001b[0m\n",
       "\u001b[0;31mDocstring:\u001b[0m\n",
       "Read a comma-separated values (csv) file into DataFrame.\n",
       "\n",
       "Also supports optionally iterating or breaking of the file\n",
       "into chunks.\n",
       "\n",
       "Additional help can be found in the online docs for\n",
       "`IO Tools <https://pandas.pydata.org/pandas-docs/stable/user_guide/io.html>`_.\n",
       "\n",
       "Parameters\n",
       "----------\n",
       "filepath_or_buffer : str, path object or file-like object\n",
       "    Any valid string path is acceptable. The string could be a URL. Valid\n",
       "    URL schemes include http, ftp, s3, gs, and file. For file URLs, a host is\n",
       "    expected. A local file could be: file://localhost/path/to/table.csv.\n",
       "\n",
       "    If you want to pass in a path object, pandas accepts any ``os.PathLike``.\n",
       "\n",
       "    By file-like object, we refer to objects with a ``read()`` method, such as\n",
       "    a file handle (e.g. via builtin ``open`` function) or ``StringIO``.\n",
       "sep : str, default ','\n",
       "    Character or regex pattern to treat as the delimiter. If ``sep=None``, the\n",
       "    C engine cannot automatically detect\n",
       "    the separator, but the Python parsing engine can, meaning the latter will\n",
       "    be used and automatically detect the separator from only the first valid\n",
       "    row of the file by Python's builtin sniffer tool, ``csv.Sniffer``.\n",
       "    In addition, separators longer than 1 character and different from\n",
       "    ``'\\s+'`` will be interpreted as regular expressions and will also force\n",
       "    the use of the Python parsing engine. Note that regex delimiters are prone\n",
       "    to ignoring quoted data. Regex example: ``'\\r\\t'``.\n",
       "delimiter : str, optional\n",
       "    Alias for ``sep``.\n",
       "header : int, Sequence of int, 'infer' or None, default 'infer'\n",
       "    Row number(s) containing column labels and marking the start of the\n",
       "    data (zero-indexed). Default behavior is to infer the column names: if no ``names``\n",
       "    are passed the behavior is identical to ``header=0`` and column\n",
       "    names are inferred from the first line of the file, if column\n",
       "    names are passed explicitly to ``names`` then the behavior is identical to\n",
       "    ``header=None``. Explicitly pass ``header=0`` to be able to\n",
       "    replace existing names. The header can be a list of integers that\n",
       "    specify row locations for a :class:`~pandas.MultiIndex` on the columns\n",
       "    e.g. ``[0, 1, 3]``. Intervening rows that are not specified will be\n",
       "    skipped (e.g. 2 in this example is skipped). Note that this\n",
       "    parameter ignores commented lines and empty lines if\n",
       "    ``skip_blank_lines=True``, so ``header=0`` denotes the first line of\n",
       "    data rather than the first line of the file.\n",
       "names : Sequence of Hashable, optional\n",
       "    Sequence of column labels to apply. If the file contains a header row,\n",
       "    then you should explicitly pass ``header=0`` to override the column names.\n",
       "    Duplicates in this list are not allowed.\n",
       "index_col : Hashable, Sequence of Hashable or False, optional\n",
       "  Column(s) to use as row label(s), denoted either by column labels or column\n",
       "  indices.  If a sequence of labels or indices is given, :class:`~pandas.MultiIndex`\n",
       "  will be formed for the row labels.\n",
       "\n",
       "  Note: ``index_col=False`` can be used to force pandas to *not* use the first\n",
       "  column as the index, e.g., when you have a malformed file with delimiters at\n",
       "  the end of each line.\n",
       "usecols : Sequence of Hashable or Callable, optional\n",
       "    Subset of columns to select, denoted either by column labels or column indices.\n",
       "    If list-like, all elements must either\n",
       "    be positional (i.e. integer indices into the document columns) or strings\n",
       "    that correspond to column names provided either by the user in ``names`` or\n",
       "    inferred from the document header row(s). If ``names`` are given, the document\n",
       "    header row(s) are not taken into account. For example, a valid list-like\n",
       "    ``usecols`` parameter would be ``[0, 1, 2]`` or ``['foo', 'bar', 'baz']``.\n",
       "    Element order is ignored, so ``usecols=[0, 1]`` is the same as ``[1, 0]``.\n",
       "    To instantiate a :class:`~pandas.DataFrame` from ``data`` with element order\n",
       "    preserved use ``pd.read_csv(data, usecols=['foo', 'bar'])[['foo', 'bar']]``\n",
       "    for columns in ``['foo', 'bar']`` order or\n",
       "    ``pd.read_csv(data, usecols=['foo', 'bar'])[['bar', 'foo']]``\n",
       "    for ``['bar', 'foo']`` order.\n",
       "\n",
       "    If callable, the callable function will be evaluated against the column\n",
       "    names, returning names where the callable function evaluates to ``True``. An\n",
       "    example of a valid callable argument would be ``lambda x: x.upper() in\n",
       "    ['AAA', 'BBB', 'DDD']``. Using this parameter results in much faster\n",
       "    parsing time and lower memory usage.\n",
       "dtype : dtype or dict of {Hashable : dtype}, optional\n",
       "    Data type(s) to apply to either the whole dataset or individual columns.\n",
       "    E.g., ``{'a': np.float64, 'b': np.int32, 'c': 'Int64'}``\n",
       "    Use ``str`` or ``object`` together with suitable ``na_values`` settings\n",
       "    to preserve and not interpret ``dtype``.\n",
       "    If ``converters`` are specified, they will be applied INSTEAD\n",
       "    of ``dtype`` conversion.\n",
       "\n",
       "    .. versionadded:: 1.5.0\n",
       "\n",
       "        Support for ``defaultdict`` was added. Specify a ``defaultdict`` as input where\n",
       "        the default determines the ``dtype`` of the columns which are not explicitly\n",
       "        listed.\n",
       "engine : {'c', 'python', 'pyarrow'}, optional\n",
       "    Parser engine to use. The C and pyarrow engines are faster, while the python engine\n",
       "    is currently more feature-complete. Multithreading is currently only supported by\n",
       "    the pyarrow engine.\n",
       "\n",
       "    .. versionadded:: 1.4.0\n",
       "\n",
       "        The 'pyarrow' engine was added as an *experimental* engine, and some features\n",
       "        are unsupported, or may not work correctly, with this engine.\n",
       "converters : dict of {Hashable : Callable}, optional\n",
       "    Functions for converting values in specified columns. Keys can either\n",
       "    be column labels or column indices.\n",
       "true_values : list, optional\n",
       "    Values to consider as ``True`` in addition to case-insensitive variants of 'True'.\n",
       "false_values : list, optional\n",
       "    Values to consider as ``False`` in addition to case-insensitive variants of 'False'.\n",
       "skipinitialspace : bool, default False\n",
       "    Skip spaces after delimiter.\n",
       "skiprows : int, list of int or Callable, optional\n",
       "    Line numbers to skip (0-indexed) or number of lines to skip (``int``)\n",
       "    at the start of the file.\n",
       "\n",
       "    If callable, the callable function will be evaluated against the row\n",
       "    indices, returning ``True`` if the row should be skipped and ``False`` otherwise.\n",
       "    An example of a valid callable argument would be ``lambda x: x in [0, 2]``.\n",
       "skipfooter : int, default 0\n",
       "    Number of lines at bottom of file to skip (Unsupported with ``engine='c'``).\n",
       "nrows : int, optional\n",
       "    Number of rows of file to read. Useful for reading pieces of large files.\n",
       "na_values : Hashable, Iterable of Hashable or dict of {Hashable : Iterable}, optional\n",
       "    Additional strings to recognize as ``NA``/``NaN``. If ``dict`` passed, specific\n",
       "    per-column ``NA`` values.  By default the following values are interpreted as\n",
       "    ``NaN``: \" \", \"#N/A\", \"#N/A N/A\", \"#NA\", \"-1.#IND\", \"-1.#QNAN\", \"-NaN\", \"-nan\",\n",
       "    \"1.#IND\", \"1.#QNAN\", \"<NA>\", \"N/A\", \"NA\", \"NULL\", \"NaN\", \"None\",\n",
       "    \"n/a\", \"nan\", \"null \".\n",
       "\n",
       "keep_default_na : bool, default True\n",
       "    Whether or not to include the default ``NaN`` values when parsing the data.\n",
       "    Depending on whether ``na_values`` is passed in, the behavior is as follows:\n",
       "\n",
       "    * If ``keep_default_na`` is ``True``, and ``na_values`` are specified, ``na_values``\n",
       "      is appended to the default ``NaN`` values used for parsing.\n",
       "    * If ``keep_default_na`` is ``True``, and ``na_values`` are not specified, only\n",
       "      the default ``NaN`` values are used for parsing.\n",
       "    * If ``keep_default_na`` is ``False``, and ``na_values`` are specified, only\n",
       "      the ``NaN`` values specified ``na_values`` are used for parsing.\n",
       "    * If ``keep_default_na`` is ``False``, and ``na_values`` are not specified, no\n",
       "      strings will be parsed as ``NaN``.\n",
       "\n",
       "    Note that if ``na_filter`` is passed in as ``False``, the ``keep_default_na`` and\n",
       "    ``na_values`` parameters will be ignored.\n",
       "na_filter : bool, default True\n",
       "    Detect missing value markers (empty strings and the value of ``na_values``). In\n",
       "    data without any ``NA`` values, passing ``na_filter=False`` can improve the\n",
       "    performance of reading a large file.\n",
       "verbose : bool, default False\n",
       "    Indicate number of ``NA`` values placed in non-numeric columns.\n",
       "\n",
       "    .. deprecated:: 2.2.0\n",
       "skip_blank_lines : bool, default True\n",
       "    If ``True``, skip over blank lines rather than interpreting as ``NaN`` values.\n",
       "parse_dates : bool, list of Hashable, list of lists or dict of {Hashable : list}, default False\n",
       "    The behavior is as follows:\n",
       "\n",
       "    * ``bool``. If ``True`` -> try parsing the index. Note: Automatically set to\n",
       "      ``True`` if ``date_format`` or ``date_parser`` arguments have been passed.\n",
       "    * ``list`` of ``int`` or names. e.g. If ``[1, 2, 3]`` -> try parsing columns 1, 2, 3\n",
       "      each as a separate date column.\n",
       "    * ``list`` of ``list``. e.g.  If ``[[1, 3]]`` -> combine columns 1 and 3 and parse\n",
       "      as a single date column. Values are joined with a space before parsing.\n",
       "    * ``dict``, e.g. ``{'foo' : [1, 3]}`` -> parse columns 1, 3 as date and call\n",
       "      result 'foo'. Values are joined with a space before parsing.\n",
       "\n",
       "    If a column or index cannot be represented as an array of ``datetime``,\n",
       "    say because of an unparsable value or a mixture of timezones, the column\n",
       "    or index will be returned unaltered as an ``object`` data type. For\n",
       "    non-standard ``datetime`` parsing, use :func:`~pandas.to_datetime` after\n",
       "    :func:`~pandas.read_csv`.\n",
       "\n",
       "    Note: A fast-path exists for iso8601-formatted dates.\n",
       "infer_datetime_format : bool, default False\n",
       "    If ``True`` and ``parse_dates`` is enabled, pandas will attempt to infer the\n",
       "    format of the ``datetime`` strings in the columns, and if it can be inferred,\n",
       "    switch to a faster method of parsing them. In some cases this can increase\n",
       "    the parsing speed by 5-10x.\n",
       "\n",
       "    .. deprecated:: 2.0.0\n",
       "        A strict version of this argument is now the default, passing it has no effect.\n",
       "\n",
       "keep_date_col : bool, default False\n",
       "    If ``True`` and ``parse_dates`` specifies combining multiple columns then\n",
       "    keep the original columns.\n",
       "date_parser : Callable, optional\n",
       "    Function to use for converting a sequence of string columns to an array of\n",
       "    ``datetime`` instances. The default uses ``dateutil.parser.parser`` to do the\n",
       "    conversion. pandas will try to call ``date_parser`` in three different ways,\n",
       "    advancing to the next if an exception occurs: 1) Pass one or more arrays\n",
       "    (as defined by ``parse_dates``) as arguments; 2) concatenate (row-wise) the\n",
       "    string values from the columns defined by ``parse_dates`` into a single array\n",
       "    and pass that; and 3) call ``date_parser`` once for each row using one or\n",
       "    more strings (corresponding to the columns defined by ``parse_dates``) as\n",
       "    arguments.\n",
       "\n",
       "    .. deprecated:: 2.0.0\n",
       "       Use ``date_format`` instead, or read in as ``object`` and then apply\n",
       "       :func:`~pandas.to_datetime` as-needed.\n",
       "date_format : str or dict of column -> format, optional\n",
       "    Format to use for parsing dates when used in conjunction with ``parse_dates``.\n",
       "    The strftime to parse time, e.g. :const:`\"%d/%m/%Y\"`. See\n",
       "    `strftime documentation\n",
       "    <https://docs.python.org/3/library/datetime.html\n",
       "    #strftime-and-strptime-behavior>`_ for more information on choices, though\n",
       "    note that :const:`\"%f\"` will parse all the way up to nanoseconds.\n",
       "    You can also pass:\n",
       "\n",
       "    - \"ISO8601\", to parse any `ISO8601 <https://en.wikipedia.org/wiki/ISO_8601>`_\n",
       "        time string (not necessarily in exactly the same format);\n",
       "    - \"mixed\", to infer the format for each element individually. This is risky,\n",
       "        and you should probably use it along with `dayfirst`.\n",
       "\n",
       "    .. versionadded:: 2.0.0\n",
       "dayfirst : bool, default False\n",
       "    DD/MM format dates, international and European format.\n",
       "cache_dates : bool, default True\n",
       "    If ``True``, use a cache of unique, converted dates to apply the ``datetime``\n",
       "    conversion. May produce significant speed-up when parsing duplicate\n",
       "    date strings, especially ones with timezone offsets.\n",
       "\n",
       "iterator : bool, default False\n",
       "    Return ``TextFileReader`` object for iteration or getting chunks with\n",
       "    ``get_chunk()``.\n",
       "chunksize : int, optional\n",
       "    Number of lines to read from the file per chunk. Passing a value will cause the\n",
       "    function to return a ``TextFileReader`` object for iteration.\n",
       "    See the `IO Tools docs\n",
       "    <https://pandas.pydata.org/pandas-docs/stable/io.html#io-chunking>`_\n",
       "    for more information on ``iterator`` and ``chunksize``.\n",
       "\n",
       "compression : str or dict, default 'infer'\n",
       "    For on-the-fly decompression of on-disk data. If 'infer' and 'filepath_or_buffer' is\n",
       "    path-like, then detect compression from the following extensions: '.gz',\n",
       "    '.bz2', '.zip', '.xz', '.zst', '.tar', '.tar.gz', '.tar.xz' or '.tar.bz2'\n",
       "    (otherwise no compression).\n",
       "    If using 'zip' or 'tar', the ZIP file must contain only one data file to be read in.\n",
       "    Set to ``None`` for no decompression.\n",
       "    Can also be a dict with key ``'method'`` set\n",
       "    to one of {``'zip'``, ``'gzip'``, ``'bz2'``, ``'zstd'``, ``'xz'``, ``'tar'``} and\n",
       "    other key-value pairs are forwarded to\n",
       "    ``zipfile.ZipFile``, ``gzip.GzipFile``,\n",
       "    ``bz2.BZ2File``, ``zstandard.ZstdDecompressor``, ``lzma.LZMAFile`` or\n",
       "    ``tarfile.TarFile``, respectively.\n",
       "    As an example, the following could be passed for Zstandard decompression using a\n",
       "    custom compression dictionary:\n",
       "    ``compression={'method': 'zstd', 'dict_data': my_compression_dict}``.\n",
       "\n",
       "    .. versionadded:: 1.5.0\n",
       "        Added support for `.tar` files.\n",
       "\n",
       "    .. versionchanged:: 1.4.0 Zstandard support.\n",
       "\n",
       "thousands : str (length 1), optional\n",
       "    Character acting as the thousands separator in numerical values.\n",
       "decimal : str (length 1), default '.'\n",
       "    Character to recognize as decimal point (e.g., use ',' for European data).\n",
       "lineterminator : str (length 1), optional\n",
       "    Character used to denote a line break. Only valid with C parser.\n",
       "quotechar : str (length 1), optional\n",
       "    Character used to denote the start and end of a quoted item. Quoted\n",
       "    items can include the ``delimiter`` and it will be ignored.\n",
       "quoting : {0 or csv.QUOTE_MINIMAL, 1 or csv.QUOTE_ALL, 2 or csv.QUOTE_NONNUMERIC, 3 or csv.QUOTE_NONE}, default csv.QUOTE_MINIMAL\n",
       "    Control field quoting behavior per ``csv.QUOTE_*`` constants. Default is\n",
       "    ``csv.QUOTE_MINIMAL`` (i.e., 0) which implies that only fields containing special\n",
       "    characters are quoted (e.g., characters defined in ``quotechar``, ``delimiter``,\n",
       "    or ``lineterminator``.\n",
       "doublequote : bool, default True\n",
       "   When ``quotechar`` is specified and ``quoting`` is not ``QUOTE_NONE``, indicate\n",
       "   whether or not to interpret two consecutive ``quotechar`` elements INSIDE a\n",
       "   field as a single ``quotechar`` element.\n",
       "escapechar : str (length 1), optional\n",
       "    Character used to escape other characters.\n",
       "comment : str (length 1), optional\n",
       "    Character indicating that the remainder of line should not be parsed.\n",
       "    If found at the beginning\n",
       "    of a line, the line will be ignored altogether. This parameter must be a\n",
       "    single character. Like empty lines (as long as ``skip_blank_lines=True``),\n",
       "    fully commented lines are ignored by the parameter ``header`` but not by\n",
       "    ``skiprows``. For example, if ``comment='#'``, parsing\n",
       "    ``#empty\\na,b,c\\n1,2,3`` with ``header=0`` will result in ``'a,b,c'`` being\n",
       "    treated as the header.\n",
       "encoding : str, optional, default 'utf-8'\n",
       "    Encoding to use for UTF when reading/writing (ex. ``'utf-8'``). `List of Python\n",
       "    standard encodings\n",
       "    <https://docs.python.org/3/library/codecs.html#standard-encodings>`_ .\n",
       "\n",
       "encoding_errors : str, optional, default 'strict'\n",
       "    How encoding errors are treated. `List of possible values\n",
       "    <https://docs.python.org/3/library/codecs.html#error-handlers>`_ .\n",
       "\n",
       "    .. versionadded:: 1.3.0\n",
       "\n",
       "dialect : str or csv.Dialect, optional\n",
       "    If provided, this parameter will override values (default or not) for the\n",
       "    following parameters: ``delimiter``, ``doublequote``, ``escapechar``,\n",
       "    ``skipinitialspace``, ``quotechar``, and ``quoting``. If it is necessary to\n",
       "    override values, a ``ParserWarning`` will be issued. See ``csv.Dialect``\n",
       "    documentation for more details.\n",
       "on_bad_lines : {'error', 'warn', 'skip'} or Callable, default 'error'\n",
       "    Specifies what to do upon encountering a bad line (a line with too many fields).\n",
       "    Allowed values are :\n",
       "\n",
       "    - ``'error'``, raise an Exception when a bad line is encountered.\n",
       "    - ``'warn'``, raise a warning when a bad line is encountered and skip that line.\n",
       "    - ``'skip'``, skip bad lines without raising or warning when they are encountered.\n",
       "\n",
       "    .. versionadded:: 1.3.0\n",
       "\n",
       "    .. versionadded:: 1.4.0\n",
       "\n",
       "        - Callable, function with signature\n",
       "          ``(bad_line: list[str]) -> list[str] | None`` that will process a single\n",
       "          bad line. ``bad_line`` is a list of strings split by the ``sep``.\n",
       "          If the function returns ``None``, the bad line will be ignored.\n",
       "          If the function returns a new ``list`` of strings with more elements than\n",
       "          expected, a ``ParserWarning`` will be emitted while dropping extra elements.\n",
       "          Only supported when ``engine='python'``\n",
       "\n",
       "    .. versionchanged:: 2.2.0\n",
       "\n",
       "        - Callable, function with signature\n",
       "          as described in `pyarrow documentation\n",
       "          <https://arrow.apache.org/docs/python/generated/pyarrow.csv.ParseOptions.html\n",
       "          #pyarrow.csv.ParseOptions.invalid_row_handler>`_ when ``engine='pyarrow'``\n",
       "\n",
       "delim_whitespace : bool, default False\n",
       "    Specifies whether or not whitespace (e.g. ``' '`` or ``'\\t'``) will be\n",
       "    used as the ``sep`` delimiter. Equivalent to setting ``sep='\\s+'``. If this option\n",
       "    is set to ``True``, nothing should be passed in for the ``delimiter``\n",
       "    parameter.\n",
       "\n",
       "    .. deprecated:: 2.2.0\n",
       "        Use ``sep=\"\\s+\"`` instead.\n",
       "low_memory : bool, default True\n",
       "    Internally process the file in chunks, resulting in lower memory use\n",
       "    while parsing, but possibly mixed type inference.  To ensure no mixed\n",
       "    types either set ``False``, or specify the type with the ``dtype`` parameter.\n",
       "    Note that the entire file is read into a single :class:`~pandas.DataFrame`\n",
       "    regardless, use the ``chunksize`` or ``iterator`` parameter to return the data in\n",
       "    chunks. (Only valid with C parser).\n",
       "memory_map : bool, default False\n",
       "    If a filepath is provided for ``filepath_or_buffer``, map the file object\n",
       "    directly onto memory and access the data directly from there. Using this\n",
       "    option can improve performance because there is no longer any I/O overhead.\n",
       "float_precision : {'high', 'legacy', 'round_trip'}, optional\n",
       "    Specifies which converter the C engine should use for floating-point\n",
       "    values. The options are ``None`` or ``'high'`` for the ordinary converter,\n",
       "    ``'legacy'`` for the original lower precision pandas converter, and\n",
       "    ``'round_trip'`` for the round-trip converter.\n",
       "\n",
       "storage_options : dict, optional\n",
       "    Extra options that make sense for a particular storage connection, e.g.\n",
       "    host, port, username, password, etc. For HTTP(S) URLs the key-value pairs\n",
       "    are forwarded to ``urllib.request.Request`` as header options. For other\n",
       "    URLs (e.g. starting with \"s3://\", and \"gcs://\") the key-value pairs are\n",
       "    forwarded to ``fsspec.open``. Please see ``fsspec`` and ``urllib`` for more\n",
       "    details, and for more examples on storage options refer `here\n",
       "    <https://pandas.pydata.org/docs/user_guide/io.html?\n",
       "    highlight=storage_options#reading-writing-remote-files>`_.\n",
       "\n",
       "dtype_backend : {'numpy_nullable', 'pyarrow'}, default 'numpy_nullable'\n",
       "    Back-end data type applied to the resultant :class:`DataFrame`\n",
       "    (still experimental). Behaviour is as follows:\n",
       "\n",
       "    * ``\"numpy_nullable\"``: returns nullable-dtype-backed :class:`DataFrame`\n",
       "      (default).\n",
       "    * ``\"pyarrow\"``: returns pyarrow-backed nullable :class:`ArrowDtype`\n",
       "      DataFrame.\n",
       "\n",
       "    .. versionadded:: 2.0\n",
       "\n",
       "Returns\n",
       "-------\n",
       "DataFrame or TextFileReader\n",
       "    A comma-separated values (csv) file is returned as two-dimensional\n",
       "    data structure with labeled axes.\n",
       "\n",
       "See Also\n",
       "--------\n",
       "DataFrame.to_csv : Write DataFrame to a comma-separated values (csv) file.\n",
       "read_table : Read general delimited file into DataFrame.\n",
       "read_fwf : Read a table of fixed-width formatted lines into DataFrame.\n",
       "\n",
       "Examples\n",
       "--------\n",
       ">>> pd.read_csv('data.csv')  # doctest: +SKIP\n",
       "\u001b[0;31mFile:\u001b[0m      /opt/anaconda3/lib/python3.12/site-packages/pandas/io/parsers/readers.py\n",
       "\u001b[0;31mType:\u001b[0m      function"
      ]
     },
     "metadata": {},
     "output_type": "display_data"
    }
   ],
   "source": [
    "?pd.read_csv"
   ]
  },
  {
   "cell_type": "code",
   "execution_count": null,
   "id": "b2954fb1-eb48-4ba5-899d-0d2d2b2c6a71",
   "metadata": {},
   "outputs": [],
   "source": []
  }
 ],
 "metadata": {
  "kernelspec": {
   "display_name": "Python 3 (ipykernel)",
   "language": "python",
   "name": "python3"
  },
  "language_info": {
   "codemirror_mode": {
    "name": "ipython",
    "version": 3
   },
   "file_extension": ".py",
   "mimetype": "text/x-python",
   "name": "python",
   "nbconvert_exporter": "python",
   "pygments_lexer": "ipython3",
   "version": "3.12.4"
  }
 },
 "nbformat": 4,
 "nbformat_minor": 5
}
