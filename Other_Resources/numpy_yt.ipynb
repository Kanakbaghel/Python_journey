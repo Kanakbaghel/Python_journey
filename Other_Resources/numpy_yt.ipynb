{
 "cells": [
  {
   "cell_type": "markdown",
   "id": "de3988d1-a661-4864-bb22-f60896c53083",
   "metadata": {},
   "source": [
    "# Numpy - Numerical Python\n",
    "**In 2005, Travis Oliphant created NumPy by incorporating features of the competing Numarray into Numeric, with extensive modifications.**\n",
    "1. Array creation and storage and all related functions\n",
    "2. Laplace, fourier advance maths and linear algebra\n",
    "3. Random numbers"
   ]
  },
  {
   "cell_type": "markdown",
   "id": "c6fe7e64-6077-4125-baf7-8d1ffea06427",
   "metadata": {},
   "source": [
    "----\n",
    "\n",
    "- Speed\n",
    "- Less Memory\n",
    "- Easy Math Operations\n",
    "- Used in data science / Machine Learning (AI) / DS / DA\n",
    "- also in stock market , medical research, image precessing and more\n",
    "\n",
    "@pip install numpy\n",
    "\n",
    "----"
   ]
  },
  {
   "cell_type": "markdown",
   "id": "7efe43f8-c2f5-4c8b-8464-6288356606e9",
   "metadata": {},
   "source": [
    "  | Description   | List                          | Numpy                         |\n",
    "  |---------------|-------------------------------|-------------------------------|\n",
    "  | Speed         | Slow                          | 50-100 times faster           |\n",
    "  | Memory        | Uses more                     | uses less                     |\n",
    "  | Calculations  | need loops                    | instant calculations          |\n",
    "  | which is best | if working with small dataset | if working with large dataset |\n",
    "---"
   ]
  },
  {
   "cell_type": "code",
   "execution_count": 3,
   "id": "d3bbcf20-e6f6-4aa5-9add-a822415f767a",
   "metadata": {},
   "outputs": [],
   "source": [
    "import numpy as np"
   ]
  },
  {
   "cell_type": "code",
   "execution_count": 21,
   "id": "d043f1e7-63d8-4c23-ac91-a336ecc36131",
   "metadata": {},
   "outputs": [],
   "source": [
    "temp_array = np.array([120,130,123,145,163,90,89])"
   ]
  },
  {
   "cell_type": "code",
   "execution_count": 22,
   "id": "259bcd23-f921-4c46-bd5e-03a38e58fef2",
   "metadata": {},
   "outputs": [
    {
     "name": "stdout",
     "output_type": "stream",
     "text": [
      "122.85714285714286\n"
     ]
    }
   ],
   "source": [
    "average = np.mean(temp_array)\n",
    "print(average)"
   ]
  },
  {
   "cell_type": "code",
   "execution_count": 23,
   "id": "24cc14d7-3dca-4cab-8b73-9a54a094a869",
   "metadata": {},
   "outputs": [
    {
     "name": "stdout",
     "output_type": "stream",
     "text": [
      "[1, 2, 3, 5, 6]\n"
     ]
    }
   ],
   "source": [
    "python_list = [1, 2, 3, 5, 6]\n",
    "print(python_list)"
   ]
  },
  {
   "cell_type": "code",
   "execution_count": 24,
   "id": "bc4900fc-405f-4b56-a455-1c78ff6e0133",
   "metadata": {},
   "outputs": [
    {
     "name": "stdout",
     "output_type": "stream",
     "text": [
      "[1 2 3 5 6]\n"
     ]
    }
   ],
   "source": [
    "numpy_array = np.array([1, 2, 3, 5, 6])\n",
    "print(numpy_array)"
   ]
  },
  {
   "cell_type": "markdown",
   "id": "b2097560-e117-4ea3-b37f-54cb1974e759",
   "metadata": {},
   "source": [
    "## Arrays"
   ]
  },
  {
   "cell_type": "markdown",
   "id": "481b840c-07bd-4401-9919-9873fb5eb028",
   "metadata": {},
   "source": [
    "### Properties of array\n",
    "1. Shape,size,type"
   ]
  },
  {
   "cell_type": "code",
   "execution_count": 19,
   "id": "2a263584-eccc-4181-9eb0-9978e428d430",
   "metadata": {},
   "outputs": [
    {
     "name": "stdout",
     "output_type": "stream",
     "text": [
      "(2, 3)\n",
      "6\n",
      "2\n",
      "int64\n"
     ]
    }
   ],
   "source": [
    "arr__2d = np.array([[1,2,3],\n",
    "                   [4,5,6]])\n",
    "print(arr__2d.shape)  # Showing 2 Rows and 3 Columns \n",
    "print(arr__2d.size)   # Shows number of elements\n",
    "print(arr__2d.ndim)   # number of dimensions\n",
    "print(arr__2d.dtype)  # Data type of array elements"
   ]
  },
  {
   "cell_type": "code",
   "execution_count": 17,
   "id": "179ee9ae-f2cc-4694-8263-a80a4a44c7de",
   "metadata": {},
   "outputs": [
    {
     "name": "stdout",
     "output_type": "stream",
     "text": [
      "1\n",
      "2\n",
      "3\n"
     ]
    }
   ],
   "source": [
    "arr1 = np.array([1,2,3])\n",
    "arr2 = np.array([[1,2,3],[4,5,6]])\n",
    "arr3 = np.array([[[1,2],[3,4],[5,6],[7,8]]])\n",
    "\n",
    "print(arr1.ndim)   # 1 dimensional array\n",
    "print(arr2.ndim)   # 2 dimensional array\n",
    "print(arr3.ndim)   # 3 dimensional array"
   ]
  },
  {
   "cell_type": "markdown",
   "id": "5641a0b2-77af-4395-8585-0965e5a6c7ce",
   "metadata": {},
   "source": [
    "### Conversion of Data type in array"
   ]
  },
  {
   "cell_type": "code",
   "execution_count": 22,
   "id": "b3d109f8-7beb-4108-9460-dffaa8633027",
   "metadata": {},
   "outputs": [
    {
     "name": "stdout",
     "output_type": "stream",
     "text": [
      "float64\n",
      "[1 2 3]\n",
      "int64\n"
     ]
    }
   ],
   "source": [
    "array = np.array([1.2,2.3,3.4])\n",
    "int_arr = array.astype(int)  # change array float to int data type\n",
    "print(array.dtype)\n",
    "print(int_arr)\n",
    "print(int_arr.dtype)"
   ]
  },
  {
   "cell_type": "markdown",
   "id": "92c66b85-9af8-4c5f-82b4-7a49226fd717",
   "metadata": {},
   "source": [
    "### Array Dimensions"
   ]
  },
  {
   "cell_type": "code",
   "execution_count": 25,
   "id": "99be8f21-6d3a-4054-9326-d101ce6bead4",
   "metadata": {},
   "outputs": [
    {
     "name": "stdout",
     "output_type": "stream",
     "text": [
      "[1 2 3 4 5]\n"
     ]
    }
   ],
   "source": [
    "#one-dimensional array\n",
    "ar_1d = np.array([1,2,3,4,5])\n",
    "print(ar_1d)"
   ]
  },
  {
   "cell_type": "code",
   "execution_count": 28,
   "id": "b896afc2-5f3d-4a99-8fb6-85e09a56a3f1",
   "metadata": {},
   "outputs": [
    {
     "name": "stdout",
     "output_type": "stream",
     "text": [
      "[[1 2 3]\n",
      " [4 5 6]\n",
      " [7 8 9]]\n"
     ]
    }
   ],
   "source": [
    "# two-dimensional array\n",
    "arr_2d = np.array([[1,2,3],\n",
    "                  [4,5,6],\n",
    "                  [7,8,9]])\n",
    "\n",
    "print(arr_2d)"
   ]
  },
  {
   "cell_type": "code",
   "execution_count": 32,
   "id": "c55efb21-77a3-4245-afff-02f76ea674a1",
   "metadata": {},
   "outputs": [
    {
     "name": "stdout",
     "output_type": "stream",
     "text": [
      "[[ 2  3  4]\n",
      " [35 45 57]]\n"
     ]
    }
   ],
   "source": [
    "# Multi- dimensional array\n",
    "# Matrix\n",
    "\n",
    "matrix = np.array([[2,3,4],\n",
    "                   [35,45,57]])\n",
    "print(matrix)"
   ]
  },
  {
   "cell_type": "code",
   "execution_count": 33,
   "id": "83b6d0d4-5a5b-4b08-9792-d4a7b1d666ea",
   "metadata": {},
   "outputs": [
    {
     "name": "stdout",
     "output_type": "stream",
     "text": [
      "[1 2 3 4]\n"
     ]
    }
   ],
   "source": [
    "# Creating arrays from python lists\n",
    "# np.array([ele1, ele2, ele3])\n",
    "\n",
    "arr = np.array([1,2,3,4])\n",
    "print(arr)"
   ]
  },
  {
   "cell_type": "code",
   "execution_count": 35,
   "id": "43dd0d0f-954e-4d84-9b3a-f49594485337",
   "metadata": {},
   "outputs": [
    {
     "name": "stdout",
     "output_type": "stream",
     "text": [
      "[0. 0. 0.]\n"
     ]
    }
   ],
   "source": [
    "# with default values\n",
    "# np.zeros(shape) (3) fir 1d, (3,3) 2d\n",
    "\n",
    "zeroes_array = np.zeros(3)\n",
    "print(zeroes_array)"
   ]
  },
  {
   "cell_type": "code",
   "execution_count": 36,
   "id": "322286c9-67af-4455-810f-e91e0654f2db",
   "metadata": {},
   "outputs": [
    {
     "name": "stdout",
     "output_type": "stream",
     "text": [
      "[[1. 1. 1.]\n",
      " [1. 1. 1.]]\n"
     ]
    }
   ],
   "source": [
    "#ones(shape)\n",
    "ones_array =  np.ones((2,3))\n",
    "print(ones_array)"
   ]
  },
  {
   "cell_type": "code",
   "execution_count": 38,
   "id": "74483cd3-b4c1-4232-a851-341df92699db",
   "metadata": {},
   "outputs": [
    {
     "name": "stdout",
     "output_type": "stream",
     "text": [
      "[[8 8 8]\n",
      " [8 8 8]\n",
      " [8 8 8]\n",
      " [8 8 8]]\n"
     ]
    }
   ],
   "source": [
    "# full(shape,value)\n",
    "filled_array = np.full((4,3),8)\n",
    "print(filled_array)"
   ]
  },
  {
   "cell_type": "code",
   "execution_count": 41,
   "id": "158c45bd-2da6-4443-8058-e1b4e682025d",
   "metadata": {},
   "outputs": [
    {
     "name": "stdout",
     "output_type": "stream",
     "text": [
      "[1 3 5 7 9]\n"
     ]
    }
   ],
   "source": [
    "# Creating sequences of numbers in numpy\n",
    "# arange(start, stop, step)\n",
    "arr = np.arange(1,10,2)\n",
    "print(arr)"
   ]
  },
  {
   "cell_type": "code",
   "execution_count": 43,
   "id": "e34f9426-07cd-498d-bb7b-80230db9bc21",
   "metadata": {},
   "outputs": [
    {
     "name": "stdout",
     "output_type": "stream",
     "text": [
      "[[1. 0. 0. 0.]\n",
      " [0. 1. 0. 0.]\n",
      " [0. 0. 1. 0.]\n",
      " [0. 0. 0. 1.]]\n"
     ]
    }
   ],
   "source": [
    "# creating identity matrices\n",
    "# eye(size)\n",
    "\n",
    "identity_matrix = np.eye(4)\n",
    "print(identity_matrix)"
   ]
  },
  {
   "cell_type": "markdown",
   "id": "55cdc2da-fde0-4e87-a39a-2475727ac848",
   "metadata": {},
   "source": [
    "### Mathemetical operations using array/numpy\n",
    "\n",
    "|OPERATORS |EXAMPLES |\n",
    "|----------|---------|\n",
    "|+         | array+2 |\n",
    "|-         | array-2 |\n",
    "|*         | array*2 |\n",
    "|/         | array/2 |\n",
    "|**        | array**2|\n",
    "|//        | array//2|\n",
    "|%         | array%2 |"
   ]
  },
  {
   "cell_type": "code",
   "execution_count": 27,
   "id": "d38d86a8-faa3-4586-822b-3d5e56e422f2",
   "metadata": {},
   "outputs": [
    {
     "name": "stdout",
     "output_type": "stream",
     "text": [
      "[15 25 35]\n",
      "[ 5 15 25]\n",
      "[ 50 100 150]\n",
      "[  100000  3200000 24300000]\n"
     ]
    }
   ],
   "source": [
    "import numpy as np\n",
    "arr = np.array([10,20,30])\n",
    "print(arr + 5)\n",
    "print(arr - 5)\n",
    "print(arr * 5)\n",
    "print(arr ** 5)"
   ]
  },
  {
   "cell_type": "markdown",
   "id": "1c316d11-364e-40d7-8c1d-33535d32754e",
   "metadata": {},
   "source": [
    "### Aggregation Function\n",
    "| FUNCTION       | WHAT IT DOES                      |\n",
    "|----------------|-----------------------------------|\n",
    "| np.sum(array)  | add all elements                  |\n",
    "| np.mean(array) | Calculate Average                 |\n",
    "| np.min(array)  | Represent smallest value          |\n",
    "| np.max(array)  | represent maximum value           | \n",
    "| np.std(array)  | call out Standard deviation value | \n",
    "| np.var(array)  | Calculate Variance                | "
   ]
  },
  {
   "cell_type": "code",
   "execution_count": 29,
   "id": "5d0e4ade-2dc3-41bc-ad9b-3b784a125157",
   "metadata": {},
   "outputs": [
    {
     "name": "stdout",
     "output_type": "stream",
     "text": [
      "150\n",
      "30.0\n",
      "10\n",
      "50\n",
      "14.142135623730951\n",
      "200.0\n"
     ]
    }
   ],
   "source": [
    "arr = np.array([10,20,30,40,50])\n",
    "# Calculating Aggregation functions\n",
    "print(np.sum(arr))\n",
    "print(np.mean(arr))\n",
    "print(np.min(arr))\n",
    "print(np.max(arr))\n",
    "print(np.std(arr))\n",
    "print(np.var(arr))"
   ]
  },
  {
   "cell_type": "markdown",
   "id": "f9d6ce16-d412-4222-bfe6-f17f8a8df09d",
   "metadata": {},
   "source": [
    "### Indexing \n",
    "selecting specific element from the array\n",
    "- positive indexing ( left to right )\n",
    "- Negative indexing ( right to left )\n",
    "  \n",
    "  ``` python\n",
    "  array[index] #1d array\n",
    "  array[row, column] #2d array\n",
    "  ```\n",
    "  \n",
    "### Fancy indexing \n",
    "Selecting multiple elements at once\n",
    "\n",
    "### Slicing \n",
    "Extracting subset or sub-arrays\n",
    "\n",
    "```python\n",
    "array[start:stop:step]\n",
    "```\n",
    "### Boolean Masking (T/F)\n",
    "filter elements on conditional based\n"
   ]
  },
  {
   "cell_type": "code",
   "execution_count": 33,
   "id": "cb406e76-6349-4f66-bdc9-a68fc3b38f54",
   "metadata": {},
   "outputs": [
    {
     "name": "stdout",
     "output_type": "stream",
     "text": [
      "10\n",
      "40\n",
      "50\n"
     ]
    }
   ],
   "source": [
    "#Indexing \n",
    "arr = np.array([10,20,30,40,50])\n",
    "print (arr[0])\n",
    "print (arr[3])\n",
    "print (arr[-1])"
   ]
  },
  {
   "cell_type": "code",
   "execution_count": 38,
   "id": "2dce926d-be10-4b48-a902-c757993e6ef7",
   "metadata": {},
   "outputs": [
    {
     "name": "stdout",
     "output_type": "stream",
     "text": [
      "[20 30 40 50]\n",
      "[10 20 30 40]\n",
      "[10 30 50]\n",
      "[50 40 30 20 10]\n",
      "[20 40]\n"
     ]
    }
   ],
   "source": [
    "#Slicing\n",
    "print(arr[1:5])\n",
    "print(arr[:4])\n",
    "print(arr[::2]) \n",
    "print(arr[::-1])\n",
    "print(arr[1::2])"
   ]
  },
  {
   "cell_type": "code",
   "execution_count": 39,
   "id": "189a1c48-6f95-4a9c-8d15-3ec157e813ed",
   "metadata": {},
   "outputs": [
    {
     "name": "stdout",
     "output_type": "stream",
     "text": [
      "[10 30 50]\n"
     ]
    }
   ],
   "source": [
    "#Fancy Indexing \n",
    "print(arr[[0, 2, 4]])"
   ]
  },
  {
   "cell_type": "code",
   "execution_count": 42,
   "id": "f70afb6b-3a01-48a9-8b3c-a068f1e59853",
   "metadata": {},
   "outputs": [
    {
     "name": "stdout",
     "output_type": "stream",
     "text": [
      "[30 40 50]\n"
     ]
    }
   ],
   "source": [
    "#Boolean Masking\n",
    "print(arr[arr>25])"
   ]
  },
  {
   "cell_type": "markdown",
   "id": "5286c452-6046-4ff1-bc11-4c39ac4aeede",
   "metadata": {},
   "source": [
    "### Reshaping and manipulating arrays\n",
    "- Changing dimensions(shape) withing modifying an array\n",
    "- it doesn't create a copy, it returns a view\n",
    "- Only if dimensions match\n",
    "- Syntax\n",
    "  ```python\n",
    "  arr.reshape(rows,columns)\n",
    "  ```"
   ]
  },
  {
   "cell_type": "code",
   "execution_count": 45,
   "id": "3b6d7084-9234-44a9-81d9-d6dd50ca528a",
   "metadata": {},
   "outputs": [
    {
     "name": "stdout",
     "output_type": "stream",
     "text": [
      "[[1 2 3]\n",
      " [4 5 6]]\n"
     ]
    }
   ],
   "source": [
    "arr = np.array([1,2,3,4,5,6])\n",
    "reshape_arr = arr.reshape(2,3)\n",
    "print(reshape_arr)"
   ]
  },
  {
   "cell_type": "markdown",
   "id": "2cb94d4a-6dce-4762-8d85-f4b3f8392cde",
   "metadata": {},
   "source": [
    "### Flattening Arrays\n",
    "Converting Multi-dimensional array into 1d array\n",
    "- flatten\n",
    "  ```python\n",
    "  .flatten() # -> copy\n",
    "  ```\n",
    "- ravel\n",
    "  ```python\n",
    "  .ravel() # -> view\n",
    "  ```"
   ]
  },
  {
   "cell_type": "code",
   "execution_count": 47,
   "id": "eadb3319-6f9f-4da3-9a20-9e714c20e4e8",
   "metadata": {},
   "outputs": [
    {
     "name": "stdout",
     "output_type": "stream",
     "text": [
      "[1 2 3 4 5 6]\n",
      "[1 2 3 4 5 6]\n"
     ]
    }
   ],
   "source": [
    "arr_2d = np.array([[1,2,3],\n",
    "                  [4,5,6]])\n",
    "print(arr_2d.flatten())\n",
    "print(arr_2d.ravel())"
   ]
  },
  {
   "cell_type": "markdown",
   "id": "4dd7f045-a93a-4570-be1b-cd53ab03ffeb",
   "metadata": {},
   "source": [
    "### Advanced Numpy\n",
    "|||\n",
    "|------------|-----------|\n",
    "| Axis 0 | Vertical Stacking |\n",
    "| Axis 1 | Horizontal Stacking |\n",
    "1. Insert : ```np.insert(array, index, value, axis=none) ```\n",
    "2. Append : ```np.append(array, value) ```\n",
    "3. Concate : ```np.concatenate((array1,array2), axis=0)```\n",
    "4. Remove : ```np.delete(array, index, axis=None)``` **Flatten array**"
   ]
  },
  {
   "cell_type": "code",
   "execution_count": 54,
   "id": "2e45196f-8a40-4680-aa52-59da9dda77a3",
   "metadata": {},
   "outputs": [
    {
     "name": "stdout",
     "output_type": "stream",
     "text": [
      "[10 20 30 40 50 60]\n",
      "[ 10  20 100  30  40  50  60]\n"
     ]
    }
   ],
   "source": [
    "#insert in 1d array\n",
    "arr = np.array([10,20,30,40,50,60])\n",
    "new_arr = np.insert(arr,2,100,axis=0)\n",
    "print(arr)\n",
    "print(new_arr)"
   ]
  },
  {
   "cell_type": "code",
   "execution_count": 64,
   "id": "1c9cff97-4c0e-4b8a-bcf8-1761b4a2ddfd",
   "metadata": {},
   "outputs": [
    {
     "name": "stdout",
     "output_type": "stream",
     "text": [
      "[[10 20 30]\n",
      " [40 50 60]]\n",
      "[[10 20 30]\n",
      " [55 33 66]\n",
      " [40 50 60]]\n"
     ]
    }
   ],
   "source": [
    "#insert in 2d array\n",
    "arr_2d = np.array([[10,20,30],\n",
    "                   [40,50,60]])\n",
    "#insert a new row at index 1\n",
    "new_ar = np.insert(arr_2d, 1, [55,33,66], axis=0)\n",
    "print(arr_2d)\n",
    "print(new_ar)"
   ]
  },
  {
   "cell_type": "code",
   "execution_count": 67,
   "id": "d3dd7c12-44c7-4320-b48d-1b84a2abcd7c",
   "metadata": {},
   "outputs": [
    {
     "name": "stdout",
     "output_type": "stream",
     "text": [
      "[10 20 30 40 50 60 45 23 67]\n"
     ]
    }
   ],
   "source": [
    "#Append array\n",
    "new_arr = np.append(arr_2d,[45,23,67])\n",
    "print(new_arr)"
   ]
  },
  {
   "cell_type": "code",
   "execution_count": 71,
   "id": "3c1341c7-7ab3-4eb4-b83d-307bbd29c6a7",
   "metadata": {},
   "outputs": [
    {
     "name": "stdout",
     "output_type": "stream",
     "text": [
      "[ 1  2  3  4  5  6  7  8  9 10]\n"
     ]
    }
   ],
   "source": [
    "#Concatenate Array\n",
    "arr1 = np.array([1,2,3,4,5])\n",
    "arr2 = np.array([6,7,8,9,10])\n",
    "new_arr = np.concatenate((arr1,arr2),axis=0)\n",
    "print(new_arr)"
   ]
  },
  {
   "cell_type": "code",
   "execution_count": 75,
   "id": "1971581e-a927-4650-9c33-e28bd9a71ff1",
   "metadata": {},
   "outputs": [
    {
     "name": "stdout",
     "output_type": "stream",
     "text": [
      "[20 30 40 50]\n",
      "[[ 6  7  8  9 10]]\n"
     ]
    }
   ],
   "source": [
    "#Removing elements from an array\n",
    "#1d array\n",
    "arr = np.array([10,20,30,40,50])\n",
    "new_arr = np.delete(arr,0)\n",
    "print(new_arr)\n",
    "#2d array\n",
    "arr1 = np.array([[1,2,3,4,5],\n",
    "                 [6,7,8,9,10]])\n",
    "new_arr1 = np.delete(arr1,0, axis=0)\n",
    "print(new_arr1)"
   ]
  },
  {
   "cell_type": "markdown",
   "id": "35fcea59-30e5-41d4-a935-3b62d447e123",
   "metadata": {},
   "source": [
    "#### Stacking\n",
    "- Vertical : ```np.vstack()``` Rows-wise\n",
    "- Horizontal : ```np.hstack()``` Column-wise"
   ]
  },
  {
   "cell_type": "code",
   "execution_count": 77,
   "id": "ebfbabba-01b8-440e-b115-94432fb07927",
   "metadata": {},
   "outputs": [
    {
     "name": "stdout",
     "output_type": "stream",
     "text": [
      "[[1 2 3]\n",
      " [4 5 6]]\n",
      "[1 2 3 4 5 6]\n"
     ]
    }
   ],
   "source": [
    "arr1 = np.array([1,2,3])\n",
    "arr2 =  np.array([4,5,6])\n",
    "print(np.vstack((arr1,arr2))) #vertically stack\n",
    "print(np.hstack((arr1,arr2))) #horizontally stack"
   ]
  },
  {
   "cell_type": "markdown",
   "id": "6a2c3cc4-699d-4325-82bf-39ddd23d0507",
   "metadata": {},
   "source": [
    "#### Splitting \n",
    "- dividing in multiple sub-arrays\n",
    "- types of splitting arrays\n",
    "  * **Equal** : ```np.split```\n",
    "  * **Horizontally** : ```np.hsplit()```\n",
    "  * **Vertically** : ```np.vsplit()```"
   ]
  },
  {
   "cell_type": "code",
   "execution_count": 85,
   "id": "758412e5-9851-42f1-a7af-461c758c46cc",
   "metadata": {},
   "outputs": [
    {
     "name": "stdout",
     "output_type": "stream",
     "text": [
      "[array([10, 20, 30]), array([40, 50, 60])]\n",
      "[array([[10],\n",
      "       [40]]), array([[20],\n",
      "       [50]]), array([[30],\n",
      "       [60]])]\n",
      "[array([[10, 20, 30]]), array([[40, 50, 60]])]\n"
     ]
    }
   ],
   "source": [
    "arr = np.array([10,20,30,40,50,60])\n",
    "print(np.split(arr,2))\n",
    "arr_2d = arr.reshape(2, 3)\n",
    "print(np.hsplit(arr_2d, 3))  # Splits into 3 columns\n",
    "print(np.vsplit(arr_2d, 2))  # Splits into 2 rows"
   ]
  },
  {
   "cell_type": "markdown",
   "id": "9d4c4e8e-eb11-4631-8a97-66944526fd08",
   "metadata": {},
   "source": [
    "### Broadcasting"
   ]
  },
  {
   "cell_type": "code",
   "execution_count": 91,
   "id": "445c3589-1ead-4746-b590-ddafd4d47f2e",
   "metadata": {},
   "outputs": [
    {
     "name": "stdout",
     "output_type": "stream",
     "text": [
      "[90.0, 180.0, 270.0, 360.0, 450.0]\n"
     ]
    }
   ],
   "source": [
    "# Using loops\n",
    "prices = [100,200,300,400,500]\n",
    "discount = 10    #10% discount \n",
    "final_prices = []\n",
    "\n",
    "for price in prices:\n",
    "    final_price = price-(price*discount/100)\n",
    "    final_prices.append(final_price)\n",
    "\n",
    "print(final_prices)"
   ]
  },
  {
   "cell_type": "code",
   "execution_count": 92,
   "id": "c01abcbe-ec23-45be-b8ec-1a0a1beac392",
   "metadata": {},
   "outputs": [
    {
     "name": "stdout",
     "output_type": "stream",
     "text": [
      "[ 90. 180. 270. 360. 450.]\n"
     ]
    }
   ],
   "source": [
    "# Using Broadcasting\n",
    "prices = np.array([100,200,300,400,500])\n",
    "discount = 10    #10% discount \n",
    "final_prices = prices - (prices*discount/100)\n",
    "print(final_prices)"
   ]
  },
  {
   "cell_type": "markdown",
   "id": "d80d5af7-e383-4e13-bea6-fb0bd479316e",
   "metadata": {},
   "source": [
    "#### How numpy handle arrays of different shapes?\n",
    "1. Matching Dimensions : if have same shape\n",
    "2. Expanding Single Element : ``` [1,2,3] + 10``` then output will be ```[11,12,13]```\n",
    "3. Incompatible Shapes : "
   ]
  },
  {
   "cell_type": "code",
   "execution_count": 93,
   "id": "23803ecb-8eab-4ec7-b03e-89cb529244c7",
   "metadata": {},
   "outputs": [
    {
     "name": "stdout",
     "output_type": "stream",
     "text": [
      "[[11 22 33]\n",
      " [14 25 36]]\n"
     ]
    }
   ],
   "source": [
    "# MATCHING DIMENSIONS\n",
    "matrix = np.array([[1,2,3],[4,5,6]])    #2X3 matrix\n",
    "vector = np.array([10,20,30])    #1d array\n",
    "result = matrix + vector\n",
    "print(result)"
   ]
  },
  {
   "cell_type": "code",
   "execution_count": 95,
   "id": "85476392-ba12-4a6f-96b9-11c535241fd8",
   "metadata": {},
   "outputs": [
    {
     "ename": "ValueError",
     "evalue": "operands could not be broadcast together with shapes (2,3) (2,) ",
     "output_type": "error",
     "traceback": [
      "\u001b[1;31m---------------------------------------------------------------------------\u001b[0m",
      "\u001b[1;31mValueError\u001b[0m                                Traceback (most recent call last)",
      "Cell \u001b[1;32mIn[95], line 4\u001b[0m\n\u001b[0;32m      2\u001b[0m arr1 \u001b[38;5;241m=\u001b[39m np\u001b[38;5;241m.\u001b[39marray([[\u001b[38;5;241m1\u001b[39m,\u001b[38;5;241m2\u001b[39m,\u001b[38;5;241m3\u001b[39m],[\u001b[38;5;241m4\u001b[39m,\u001b[38;5;241m5\u001b[39m,\u001b[38;5;241m6\u001b[39m]])    \u001b[38;5;66;03m#2X3 matrix\u001b[39;00m\n\u001b[0;32m      3\u001b[0m arr2 \u001b[38;5;241m=\u001b[39m np\u001b[38;5;241m.\u001b[39marray([\u001b[38;5;241m1\u001b[39m,\u001b[38;5;241m3\u001b[39m])   \u001b[38;5;66;03m#shape(2,)\u001b[39;00m\n\u001b[1;32m----> 4\u001b[0m result \u001b[38;5;241m=\u001b[39m arr1\u001b[38;5;241m+\u001b[39marr2\n\u001b[0;32m      5\u001b[0m \u001b[38;5;28mprint\u001b[39m(result)\n",
      "\u001b[1;31mValueError\u001b[0m: operands could not be broadcast together with shapes (2,3) (2,) "
     ]
    }
   ],
   "source": [
    "#INCOMPATIBLE SHAPES\n",
    "arr1 = np.array([[1,2,3],[4,5,6]])    #2X3 matrix\n",
    "arr2 = np.array([1,3])   #shape(2,)\n",
    "result = arr1+arr2\n",
    "print(result)\n",
    "\n",
    "# Solution : ```array.reshape```"
   ]
  },
  {
   "cell_type": "markdown",
   "id": "4d122a2e-f68c-46f5-9551-599dbbb9dc46",
   "metadata": {},
   "source": [
    "**Vectorization (performing operation without using loops)**"
   ]
  },
  {
   "cell_type": "code",
   "execution_count": 96,
   "id": "74a1800d-44df-4483-a9a8-4290f8e1ab69",
   "metadata": {},
   "outputs": [
    {
     "name": "stdout",
     "output_type": "stream",
     "text": [
      "[5, 7, 9]\n"
     ]
    }
   ],
   "source": [
    "list1 = [1,2,3]\n",
    "list2 = [4,5,6]\n",
    "result = [x+y for x,y in zip (list1,list2)]\n",
    "print(result)"
   ]
  },
  {
   "cell_type": "code",
   "execution_count": 97,
   "id": "ee7b04b5-2f64-4971-99eb-d92e5c1c9027",
   "metadata": {},
   "outputs": [
    {
     "name": "stdout",
     "output_type": "stream",
     "text": [
      "[5 7 9]\n"
     ]
    }
   ],
   "source": [
    "#for the same\n",
    "list1 = np.array([1,2,3])\n",
    "list2 = np.array([4,5,6])\n",
    "result = list1+list2\n",
    "print(result)\n"
   ]
  },
  {
   "cell_type": "code",
   "execution_count": 98,
   "id": "83b19a1e-2e55-418f-81b2-9085ac8ef9f1",
   "metadata": {},
   "outputs": [
    {
     "name": "stdout",
     "output_type": "stream",
     "text": [
      "[ 40  80 120]\n"
     ]
    }
   ],
   "source": [
    "arr = np.array([10,20,30])\n",
    "multiplied = arr*4\n",
    "print(multiplied)"
   ]
  },
  {
   "cell_type": "markdown",
   "id": "2911f010-016e-4f83-8280-5ef5324ecf89",
   "metadata": {},
   "source": [
    "| CONCEPT |BROADCASTING | VECTORIZATION |\n",
    "|---------|--------------|---------------|\n",
    "|**Conversion** | Expands the smaller arrays into larger arrays | will perform the operation on entire array. |\n",
    "| **Speed** | Faster than Loops | 100 times faster than Loops |\n",
    "| **Operation** | Match 1d -> 2d Array | used in matrix operation |"
   ]
  },
  {
   "cell_type": "markdown",
   "id": "90326878-87f4-479c-80a2-513ed09620c1",
   "metadata": {},
   "source": [
    "## Handling Missing Values\n",
    "we can't compare nan (```np.isnan == np.isnn```) values directly\n",
    "- **Builtins Functions**\n",
    "|||\n",
    "|-------|------|\n",
    "|**nan** | Not a Number|\n",
    "|**posinf**| Positive infinity|\n",
    "|**neginf**| Negative infinity|\n",
    "    * ```np.isnan(array)``` Detect missing values \n",
    "    * ```np.nan_to_num(array, nan = value) ``` Replacing nan value with other and the **default is 0**\n",
    "    * ```np.isinf(array)``` Helps to detect infinite values\n",
    "    * ```np.nan_to_num(arr, posinf = value, neginf=-value)``` Replacing infinite values"
   ]
  },
  {
   "cell_type": "code",
   "execution_count": 101,
   "id": "9f166d38-9362-4c8b-90d5-b3b8f9f7e652",
   "metadata": {},
   "outputs": [
    {
     "name": "stdout",
     "output_type": "stream",
     "text": [
      "[False False  True False False  True]\n"
     ]
    }
   ],
   "source": [
    "# Detect missing value\n",
    "arr = np.array([1,2,np.nan,3,4,np.nan])\n",
    "print(np.isnan(arr))   # missing value will show as True"
   ]
  },
  {
   "cell_type": "code",
   "execution_count": 105,
   "id": "72ac8976-6eed-46d5-affc-d7a4ffa4cc8d",
   "metadata": {},
   "outputs": [
    {
     "name": "stdout",
     "output_type": "stream",
     "text": [
      "[1. 2. 0. 3. 4. 0.]\n",
      "[ 1.  2. 23.  3.  4. 23.]\n"
     ]
    }
   ],
   "source": [
    "# Replacing nan value\n",
    "arr = np.array([1,2,np.nan,3,4,np.nan])\n",
    "cleaned_arr = np.nan_to_num(arr)    # as default value is 0\n",
    "cleaned_arr_1 = np.nan_to_num(arr, nan=23)   # can put the specified value to replace null\n",
    "print(cleaned_arr)\n",
    "print(cleaned_arr_1)"
   ]
  },
  {
   "cell_type": "code",
   "execution_count": 107,
   "id": "3f7cfd1e-c4cb-4992-854e-7da7ea0d96dd",
   "metadata": {},
   "outputs": [
    {
     "name": "stdout",
     "output_type": "stream",
     "text": [
      "[False False False  True False  True]\n"
     ]
    }
   ],
   "source": [
    "# Dectect infinite values\n",
    "arr = np.array([1,2,3,np.inf , 5,-np.inf])\n",
    "print(np.isinf(arr))"
   ]
  },
  {
   "cell_type": "code",
   "execution_count": 109,
   "id": "d5ea44cb-4036-40f4-87ab-4b986b3374df",
   "metadata": {},
   "outputs": [
    {
     "name": "stdout",
     "output_type": "stream",
     "text": [
      "[    1.     2.     3.  1000.     5. -1000.]\n"
     ]
    }
   ],
   "source": [
    "#for replacing the infinite value to finite number\n",
    "arr = np.array([1,2,3,np.inf , 5,-np.inf])\n",
    "cleaned_arr = np.nan_to_num(arr, posinf = 1000, neginf=-1000)      #postinf = positive infinity & neginf = negative infinity\n",
    "print(cleaned_arr)"
   ]
  },
  {
   "cell_type": "code",
   "execution_count": null,
   "id": "47c81a8e-5264-44b8-8cfb-765cc196c130",
   "metadata": {},
   "outputs": [],
   "source": []
  }
 ],
 "metadata": {
  "kernelspec": {
   "display_name": "Python 3 (ipykernel)",
   "language": "python",
   "name": "python3"
  },
  "language_info": {
   "codemirror_mode": {
    "name": "ipython",
    "version": 3
   },
   "file_extension": ".py",
   "mimetype": "text/x-python",
   "name": "python",
   "nbconvert_exporter": "python",
   "pygments_lexer": "ipython3",
   "version": "3.13.5"
  }
 },
 "nbformat": 4,
 "nbformat_minor": 5
}
