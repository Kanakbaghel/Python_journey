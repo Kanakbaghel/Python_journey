{
 "cells": [
  {
   "cell_type": "markdown",
   "id": "39d82eb8-e591-4f7d-aaf6-1b72d5593aa9",
   "metadata": {},
   "source": [
    "# 1. Comments\n",
    "###### - Non executable parts of code.\n",
    "###### - There are no multiline comments."
   ]
  },
  {
   "cell_type": "code",
   "execution_count": 74,
   "id": "289ce341-df45-4b51-95c4-d5d46a46d489",
   "metadata": {},
   "outputs": [],
   "source": [
    "#This is a comment"
   ]
  },
  {
   "cell_type": "markdown",
   "id": "60ac1c91-cfdb-4018-855a-e8a37dcc5359",
   "metadata": {},
   "source": [
    "# 2. Builtins"
   ]
  },
  {
   "cell_type": "code",
   "execution_count": 75,
   "id": "9e85ced7-4c14-4be8-94b2-024d4d162e94",
   "metadata": {},
   "outputs": [
    {
     "name": "stdout",
     "output_type": "stream",
     "text": [
      "['In', 'Out', '_', '_19', '_30', '_31', '_32', '_33', '_41', '_47', '_48', '_59', '_63', '_64', '_66', '_69', '_71', '_72', '__', '___', '__builtin__', '__builtins__', '__doc__', '__loader__', '__name__', '__package__', '__session__', '__spec__', '_dh', '_exit_code', '_i', '_i1', '_i10', '_i11', '_i12', '_i13', '_i14', '_i15', '_i16', '_i17', '_i18', '_i19', '_i2', '_i20', '_i21', '_i22', '_i23', '_i24', '_i25', '_i26', '_i27', '_i28', '_i29', '_i3', '_i30', '_i31', '_i32', '_i33', '_i34', '_i35', '_i36', '_i37', '_i38', '_i39', '_i4', '_i40', '_i41', '_i42', '_i43', '_i44', '_i45', '_i46', '_i47', '_i48', '_i49', '_i5', '_i50', '_i51', '_i52', '_i53', '_i54', '_i55', '_i56', '_i57', '_i58', '_i59', '_i6', '_i60', '_i61', '_i62', '_i63', '_i64', '_i65', '_i66', '_i67', '_i68', '_i69', '_i7', '_i70', '_i71', '_i72', '_i73', '_i74', '_i75', '_i8', '_i9', '_ih', '_ii', '_iii', '_oh', 'add', 'area', 'calculate_painting_area', 'calculate_painting_cost', 'dg', 'exit', 'get_ipython', 'i', 'math', 'open', 'p', 'punc', 'punctuation', 'quit', 'strn', 'sys', 'x']\n"
     ]
    }
   ],
   "source": [
    "print(dir())"
   ]
  },
  {
   "cell_type": "code",
   "execution_count": 76,
   "id": "893f1934-22a8-405c-8ba5-f3520d81ca28",
   "metadata": {},
   "outputs": [
    {
     "name": "stdout",
     "output_type": "stream",
     "text": [
      "['ArithmeticError', 'AssertionError', 'AttributeError', 'BaseException', 'BaseExceptionGroup', 'BlockingIOError', 'BrokenPipeError', 'BufferError', 'BytesWarning', 'ChildProcessError', 'ConnectionAbortedError', 'ConnectionError', 'ConnectionRefusedError', 'ConnectionResetError', 'DeprecationWarning', 'EOFError', 'Ellipsis', 'EncodingWarning', 'EnvironmentError', 'Exception', 'ExceptionGroup', 'False', 'FileExistsError', 'FileNotFoundError', 'FloatingPointError', 'FutureWarning', 'GeneratorExit', 'IOError', 'ImportError', 'ImportWarning', 'IndentationError', 'IndexError', 'InterruptedError', 'IsADirectoryError', 'KeyError', 'KeyboardInterrupt', 'LookupError', 'MemoryError', 'ModuleNotFoundError', 'NameError', 'None', 'NotADirectoryError', 'NotImplemented', 'NotImplementedError', 'OSError', 'OverflowError', 'PendingDeprecationWarning', 'PermissionError', 'ProcessLookupError', 'PythonFinalizationError', 'RecursionError', 'ReferenceError', 'ResourceWarning', 'RuntimeError', 'RuntimeWarning', 'StopAsyncIteration', 'StopIteration', 'SyntaxError', 'SyntaxWarning', 'SystemError', 'SystemExit', 'TabError', 'TimeoutError', 'True', 'TypeError', 'UnboundLocalError', 'UnicodeDecodeError', 'UnicodeEncodeError', 'UnicodeError', 'UnicodeTranslateError', 'UnicodeWarning', 'UserWarning', 'ValueError', 'Warning', 'WindowsError', 'ZeroDivisionError', '_IncompleteInputError', '__IPYTHON__', '__build_class__', '__debug__', '__doc__', '__import__', '__loader__', '__name__', '__package__', '__spec__', 'abs', 'aiter', 'all', 'anext', 'any', 'ascii', 'bin', 'bool', 'breakpoint', 'bytearray', 'bytes', 'callable', 'chr', 'classmethod', 'compile', 'complex', 'copyright', 'credits', 'delattr', 'dict', 'dir', 'display', 'divmod', 'enumerate', 'eval', 'exec', 'execfile', 'filter', 'float', 'format', 'frozenset', 'get_ipython', 'getattr', 'globals', 'hasattr', 'hash', 'help', 'hex', 'id', 'input', 'int', 'isinstance', 'issubclass', 'iter', 'len', 'license', 'list', 'locals', 'map', 'max', 'memoryview', 'min', 'next', 'object', 'oct', 'open', 'ord', 'pow', 'print', 'property', 'range', 'repr', 'reversed', 'round', 'runfile', 'set', 'setattr', 'slice', 'sorted', 'staticmethod', 'str', 'sum', 'super', 'tuple', 'type', 'vars', 'zip']\n"
     ]
    }
   ],
   "source": [
    "print(dir(__builtins__))"
   ]
  },
  {
   "cell_type": "markdown",
   "id": "952ffe77-1431-47ea-8c9d-0efaaa969846",
   "metadata": {},
   "source": [
    "# 3. Call Help"
   ]
  },
  {
   "cell_type": "code",
   "execution_count": 77,
   "id": "01fe5f50-18a7-4b13-872c-8976332d1d89",
   "metadata": {},
   "outputs": [
    {
     "name": "stdout",
     "output_type": "stream",
     "text": [
      "Help on built-in function print in module builtins:\n",
      "\n",
      "print(*args, sep=' ', end='\\n', file=None, flush=False)\n",
      "    Prints the values to a stream, or to sys.stdout by default.\n",
      "\n",
      "    sep\n",
      "      string inserted between values, default a space.\n",
      "    end\n",
      "      string appended after the last value, default a newline.\n",
      "    file\n",
      "      a file-like object (stream); defaults to the current sys.stdout.\n",
      "    flush\n",
      "      whether to forcibly flush the stream.\n",
      "\n"
     ]
    }
   ],
   "source": [
    "help(print)"
   ]
  },
  {
   "cell_type": "code",
   "execution_count": 78,
   "id": "5552d4b8-0c91-45dd-aaca-200e2b86fded",
   "metadata": {},
   "outputs": [
    {
     "data": {
      "text/plain": [
       "\u001b[1;31mSignature:\u001b[0m \u001b[0mprint\u001b[0m\u001b[1;33m(\u001b[0m\u001b[1;33m*\u001b[0m\u001b[0margs\u001b[0m\u001b[1;33m,\u001b[0m \u001b[0msep\u001b[0m\u001b[1;33m=\u001b[0m\u001b[1;34m' '\u001b[0m\u001b[1;33m,\u001b[0m \u001b[0mend\u001b[0m\u001b[1;33m=\u001b[0m\u001b[1;34m'\\n'\u001b[0m\u001b[1;33m,\u001b[0m \u001b[0mfile\u001b[0m\u001b[1;33m=\u001b[0m\u001b[1;32mNone\u001b[0m\u001b[1;33m,\u001b[0m \u001b[0mflush\u001b[0m\u001b[1;33m=\u001b[0m\u001b[1;32mFalse\u001b[0m\u001b[1;33m)\u001b[0m\u001b[1;33m\u001b[0m\u001b[1;33m\u001b[0m\u001b[0m\n",
       "\u001b[1;31mDocstring:\u001b[0m\n",
       "Prints the values to a stream, or to sys.stdout by default.\n",
       "\n",
       "sep\n",
       "  string inserted between values, default a space.\n",
       "end\n",
       "  string appended after the last value, default a newline.\n",
       "file\n",
       "  a file-like object (stream); defaults to the current sys.stdout.\n",
       "flush\n",
       "  whether to forcibly flush the stream.\n",
       "\u001b[1;31mType:\u001b[0m      builtin_function_or_method"
      ]
     },
     "metadata": {},
     "output_type": "display_data"
    }
   ],
   "source": [
    "?print"
   ]
  },
  {
   "cell_type": "markdown",
   "id": "d3febd2d-8f89-4ce8-b604-0671111fe0d7",
   "metadata": {},
   "source": [
    "# 4. Data:\n",
    "\n",
    "- Numerical : int, float, boolean\n",
    "- String : any character enclosed in quotation marks"
   ]
  },
  {
   "cell_type": "code",
   "execution_count": 79,
   "id": "c0ddd176-4e51-410f-8b83-d8a1aa64d29d",
   "metadata": {},
   "outputs": [
    {
     "data": {
      "text/plain": [
       "int"
      ]
     },
     "execution_count": 79,
     "metadata": {},
     "output_type": "execute_result"
    }
   ],
   "source": [
    "type(23)"
   ]
  },
  {
   "cell_type": "code",
   "execution_count": 80,
   "id": "51924d8c-737a-4300-b828-9c9337abd384",
   "metadata": {},
   "outputs": [
    {
     "data": {
      "text/plain": [
       "float"
      ]
     },
     "execution_count": 80,
     "metadata": {},
     "output_type": "execute_result"
    }
   ],
   "source": [
    "type(23.0)"
   ]
  },
  {
   "cell_type": "code",
   "execution_count": 81,
   "id": "b35b9061-ec55-4b9a-abab-ed2ed768d2f3",
   "metadata": {},
   "outputs": [
    {
     "data": {
      "text/plain": [
       "str"
      ]
     },
     "execution_count": 81,
     "metadata": {},
     "output_type": "execute_result"
    }
   ],
   "source": [
    "type(\"23\")"
   ]
  },
  {
   "cell_type": "code",
   "execution_count": 82,
   "id": "3503c87e-eb3f-41c5-bdc7-b926158b689e",
   "metadata": {},
   "outputs": [
    {
     "data": {
      "text/plain": [
       "str"
      ]
     },
     "execution_count": 82,
     "metadata": {},
     "output_type": "execute_result"
    }
   ],
   "source": [
    "type(\"string\")"
   ]
  },
  {
   "cell_type": "markdown",
   "id": "e0a5f5c2-55a9-4ca2-8e7b-47b47f1ab283",
   "metadata": {},
   "source": [
    "# 5. **Identifier : Name given to variables objects classes and functions**\n",
    "#### **Identifier Naming Conventions**\n",
    "\n",
    "- Start with A to Z or a to z or an underscore_\n",
    "- It may be followed by zero or more letters, underscores and digits\n",
    "- no other character allowed\n",
    "- Reserved words are not allowed : class, for, in, def, del, while, if\n",
    "\n",
    "**Keep in mind**\n",
    "* Case Sensetive A is not equal to a\n",
    "* avoid using builtins as identifiers unless you want to change their original assignment"
   ]
  },
  {
   "cell_type": "markdown",
   "id": "ba1fd807-e794-4b65-bc4f-5a859e182b33",
   "metadata": {},
   "source": [
    "---\n",
    "## Note:\n",
    "**Dynamic Semantics**\n",
    "- python is a dynamically-typed language. Chackes the variable types only at the time of execution.\n",
    "- python checks the variable types and operations etc during the execution only, not before it.\n",
    "---"
   ]
  },
  {
   "cell_type": "code",
   "execution_count": 83,
   "id": "c89a5f1c-038e-4e70-b33b-bf2316ddb2f5",
   "metadata": {},
   "outputs": [
    {
     "name": "stdout",
     "output_type": "stream",
     "text": [
      "Hello World!\n"
     ]
    }
   ],
   "source": [
    "print(\"Hello World!\")"
   ]
  },
  {
   "cell_type": "code",
   "execution_count": 84,
   "id": "3f1e981c-31bb-48ff-bedf-033d504829b4",
   "metadata": {},
   "outputs": [],
   "source": [
    "print = 1"
   ]
  },
  {
   "cell_type": "code",
   "execution_count": 85,
   "id": "d54c3585-19b0-4f98-b9c9-01bb530f2ccf",
   "metadata": {},
   "outputs": [
    {
     "ename": "TypeError",
     "evalue": "'int' object is not callable",
     "output_type": "error",
     "traceback": [
      "\u001b[1;31m---------------------------------------------------------------------------\u001b[0m",
      "\u001b[1;31mTypeError\u001b[0m                                 Traceback (most recent call last)",
      "Cell \u001b[1;32mIn[85], line 1\u001b[0m\n\u001b[1;32m----> 1\u001b[0m \u001b[38;5;28mprint\u001b[39m(\u001b[38;5;124m\"\u001b[39m\u001b[38;5;124mHello world\u001b[39m\u001b[38;5;124m\"\u001b[39m)\n",
      "\u001b[1;31mTypeError\u001b[0m: 'int' object is not callable"
     ]
    }
   ],
   "source": [
    "print(\"Hello world\")"
   ]
  },
  {
   "cell_type": "code",
   "execution_count": 86,
   "id": "4822b31a-60cd-4bce-81b8-2776d0fe937f",
   "metadata": {},
   "outputs": [
    {
     "data": {
      "text/plain": [
       "10"
      ]
     },
     "execution_count": 86,
     "metadata": {},
     "output_type": "execute_result"
    }
   ],
   "source": [
    "x = 10\n",
    "x"
   ]
  },
  {
   "cell_type": "code",
   "execution_count": 87,
   "id": "56361523-0c7b-4abd-a235-cf75bed2cf94",
   "metadata": {},
   "outputs": [
    {
     "data": {
      "text/plain": [
       "'just a value'"
      ]
     },
     "execution_count": 87,
     "metadata": {},
     "output_type": "execute_result"
    }
   ],
   "source": [
    "x = \"just a value\"\n",
    "x #check the value which was last assigned to x"
   ]
  },
  {
   "cell_type": "markdown",
   "id": "5e5bbfe5-3cf6-4cc6-811e-3a7d2e974740",
   "metadata": {},
   "source": [
    "---\n",
    "## if accidently reassigned or used a builtins as a identifier, delete the builtin to restore the original functionality\n",
    "\n",
    "```\n",
    "del builtin\n",
    "```\n"
   ]
  },
  {
   "cell_type": "code",
   "execution_count": 88,
   "id": "410ba6eb-7632-429c-b12c-e4e112e29b5e",
   "metadata": {},
   "outputs": [
    {
     "ename": "TypeError",
     "evalue": "'int' object is not callable",
     "output_type": "error",
     "traceback": [
      "\u001b[1;31m---------------------------------------------------------------------------\u001b[0m",
      "\u001b[1;31mTypeError\u001b[0m                                 Traceback (most recent call last)",
      "Cell \u001b[1;32mIn[88], line 1\u001b[0m\n\u001b[1;32m----> 1\u001b[0m \u001b[38;5;28mprint\u001b[39m(\u001b[38;5;124m\"\u001b[39m\u001b[38;5;124mHello\u001b[39m\u001b[38;5;124m\"\u001b[39m)\n",
      "\u001b[1;31mTypeError\u001b[0m: 'int' object is not callable"
     ]
    }
   ],
   "source": [
    "print(\"Hello\")"
   ]
  },
  {
   "cell_type": "code",
   "execution_count": 89,
   "id": "fbaf0c2d-0457-4a52-839c-5a28dbfa8c54",
   "metadata": {},
   "outputs": [],
   "source": [
    "del print"
   ]
  },
  {
   "cell_type": "code",
   "execution_count": 90,
   "id": "f66fe953-d0d8-438e-9fef-64a4b66146ae",
   "metadata": {},
   "outputs": [
    {
     "name": "stdout",
     "output_type": "stream",
     "text": [
      "Hello\n"
     ]
    }
   ],
   "source": [
    "print(\"Hello\")"
   ]
  },
  {
   "cell_type": "markdown",
   "id": "9c9c93a0-f752-48ad-a7c8-c07c27a2d2ab",
   "metadata": {},
   "source": [
    "##### del --> remove any object or identifier from the present run time or kernel"
   ]
  },
  {
   "cell_type": "code",
   "execution_count": 91,
   "id": "1390f34c-4417-43f0-96f8-6101a336fa5a",
   "metadata": {},
   "outputs": [],
   "source": [
    "#valid identifier\n",
    "a = 90 \n",
    "templ = \"valid\"\n",
    "temp_city = \"valid\""
   ]
  },
  {
   "cell_type": "code",
   "execution_count": 92,
   "id": "c212e9ca-cfa3-4b4b-84f8-2754805a52e8",
   "metadata": {},
   "outputs": [
    {
     "ename": "SyntaxError",
     "evalue": "cannot assign to expression here. Maybe you meant '==' instead of '='? (3354108702.py, line 3)",
     "output_type": "error",
     "traceback": [
      "\u001b[1;36m  Cell \u001b[1;32mIn[92], line 3\u001b[1;36m\u001b[0m\n\u001b[1;33m    temp-city = \"invalid\"\u001b[0m\n\u001b[1;37m    ^\u001b[0m\n\u001b[1;31mSyntaxError\u001b[0m\u001b[1;31m:\u001b[0m cannot assign to expression here. Maybe you meant '==' instead of '='?\n"
     ]
    }
   ],
   "source": [
    "#invalid identifier\n",
    "ltemp = \"invalid\"\n",
    "temp-city = \"invalid\""
   ]
  },
  {
   "cell_type": "markdown",
   "id": "cb625fc4-25e0-4d84-be69-8146dbaed129",
   "metadata": {},
   "source": [
    "# Operators:\n",
    "- Assignment Operators : = += -= /= *= %= //= **=\n",
    "- Arithmentic Operators : + - / * % // **\n",
    "- "
   ]
  },
  {
   "cell_type": "code",
   "execution_count": 93,
   "id": "ef072588-678d-405d-abff-7fe579cdd2e2",
   "metadata": {},
   "outputs": [
    {
     "name": "stdout",
     "output_type": "stream",
     "text": [
      "30\n"
     ]
    }
   ],
   "source": [
    "a = 10\n",
    "a = a + 20\n",
    "print(a)"
   ]
  },
  {
   "cell_type": "code",
   "execution_count": 94,
   "id": "1cc04a05-fa90-448f-b042-7116f05ed6a1",
   "metadata": {},
   "outputs": [
    {
     "name": "stdout",
     "output_type": "stream",
     "text": [
      "30\n"
     ]
    }
   ],
   "source": [
    "a = 10\n",
    "a += 20 #first increment a by 20 and then update the value of a \n",
    "print(a)"
   ]
  },
  {
   "cell_type": "markdown",
   "id": "28601ce5-30b8-4f0c-a6dd-0e397973eac5",
   "metadata": {},
   "source": [
    "## Memory is associated with object"
   ]
  },
  {
   "cell_type": "code",
   "execution_count": 95,
   "id": "3537fa1a-a5ec-4e4d-9bf6-26e6e3239359",
   "metadata": {},
   "outputs": [],
   "source": [
    "value = 20"
   ]
  },
  {
   "cell_type": "code",
   "execution_count": 96,
   "id": "b811a2a5-b6e5-456c-a51e-9c4794aed9b0",
   "metadata": {},
   "outputs": [
    {
     "data": {
      "text/plain": [
       "140735129630216"
      ]
     },
     "execution_count": 96,
     "metadata": {},
     "output_type": "execute_result"
    }
   ],
   "source": [
    "id(20)"
   ]
  },
  {
   "cell_type": "code",
   "execution_count": 97,
   "id": "b46c55ba-c6e5-4390-bd76-f25eeec98e66",
   "metadata": {},
   "outputs": [
    {
     "data": {
      "text/plain": [
       "140735129630216"
      ]
     },
     "execution_count": 97,
     "metadata": {},
     "output_type": "execute_result"
    }
   ],
   "source": [
    "id(value)"
   ]
  },
  {
   "cell_type": "code",
   "execution_count": 98,
   "id": "5c12bf00-86b8-4767-8950-71cfebab0aae",
   "metadata": {},
   "outputs": [
    {
     "name": "stdout",
     "output_type": "stream",
     "text": [
      "Help on built-in function id in module builtins:\n",
      "\n",
      "id(obj, /)\n",
      "    Return the identity of an object.\n",
      "\n",
      "    This is guaranteed to be unique among simultaneously existing objects.\n",
      "    (CPython uses the object's memory address.)\n",
      "\n"
     ]
    }
   ],
   "source": [
    "help(id)"
   ]
  },
  {
   "cell_type": "code",
   "execution_count": 99,
   "id": "46d3e888-e07a-425e-9c7f-28fda1adc37b",
   "metadata": {},
   "outputs": [],
   "source": [
    "string_1 = \"Hello\"\n",
    "string_2 = \"Hello\"\n"
   ]
  },
  {
   "cell_type": "code",
   "execution_count": 100,
   "id": "0ceb9ab0-0d62-46e4-ab55-3fd5408f3859",
   "metadata": {},
   "outputs": [
    {
     "data": {
      "text/plain": [
       "2499375389104"
      ]
     },
     "execution_count": 100,
     "metadata": {},
     "output_type": "execute_result"
    }
   ],
   "source": [
    "id(string_1)"
   ]
  },
  {
   "cell_type": "code",
   "execution_count": 101,
   "id": "6d4bd9e8-b3fd-4546-939d-f7118fa13ea0",
   "metadata": {},
   "outputs": [
    {
     "data": {
      "text/plain": [
       "2499375389104"
      ]
     },
     "execution_count": 101,
     "metadata": {},
     "output_type": "execute_result"
    }
   ],
   "source": [
    "id(string_2)"
   ]
  },
  {
   "cell_type": "markdown",
   "id": "7bd66fb2-657e-4631-ad04-1360216ccfaa",
   "metadata": {},
   "source": [
    "---\n",
    "\n",
    "# interning : Reusing memory location of rimproving performance\n",
    "- 5 to 235\n",
    "- True, False\n",
    "- Small String(Maybe)\n",
    "- None\n",
    "\n",
    "---"
   ]
  },
  {
   "cell_type": "code",
   "execution_count": 102,
   "id": "177cb6fe-6f1f-4533-91a2-efebb9c0dbf4",
   "metadata": {},
   "outputs": [
    {
     "data": {
      "text/plain": [
       "256"
      ]
     },
     "execution_count": 102,
     "metadata": {},
     "output_type": "execute_result"
    }
   ],
   "source": [
    "val = 245+11\n",
    "val"
   ]
  },
  {
   "cell_type": "code",
   "execution_count": 103,
   "id": "f00fba3a-d7dc-47c8-941b-0e3d11e034b6",
   "metadata": {},
   "outputs": [
    {
     "data": {
      "text/plain": [
       "256"
      ]
     },
     "execution_count": 103,
     "metadata": {},
     "output_type": "execute_result"
    }
   ],
   "source": [
    "val_1 = 235+21\n",
    "val_1"
   ]
  },
  {
   "cell_type": "code",
   "execution_count": 104,
   "id": "716d70f5-e791-4042-80eb-7710e3b21784",
   "metadata": {},
   "outputs": [
    {
     "data": {
      "text/plain": [
       "140735129637768"
      ]
     },
     "execution_count": 104,
     "metadata": {},
     "output_type": "execute_result"
    }
   ],
   "source": [
    "id(val)"
   ]
  },
  {
   "cell_type": "code",
   "execution_count": 105,
   "id": "04ad3200-c2e6-44f2-9d0b-229fe06cfebd",
   "metadata": {},
   "outputs": [
    {
     "data": {
      "text/plain": [
       "140735129637768"
      ]
     },
     "execution_count": 105,
     "metadata": {},
     "output_type": "execute_result"
    }
   ],
   "source": [
    "id(val_1)"
   ]
  },
  {
   "cell_type": "markdown",
   "id": "fa788ec2-a276-48af-8fcd-0dd5f1d66750",
   "metadata": {},
   "source": [
    "# Python Data Structure\n",
    "1. Lists : ordered collection of data items - [Square brackets]\n",
    "2. Tuples : immutable collections of data items - (parenthesis)\n",
    "3. Sets : unordered collections of unique data values - {Curly Brackets}\n",
    "4. Dictionaries : key value pair as data items - {key:value}\n",
    "    - Keys : immutable python data objects (int/floats/boolean/strings/tuples)\n",
    "    - Values : any arbitrary python data objects\n",
    "    - in one dictionary keys are supposed unique"
   ]
  },
  {
   "cell_type": "code",
   "execution_count": 106,
   "id": "4172448e-3b11-4e48-ab44-c7b02724dcbe",
   "metadata": {},
   "outputs": [],
   "source": [
    "list_ex = [1,'a','b','c',3,'d',4]"
   ]
  },
  {
   "cell_type": "code",
   "execution_count": 107,
   "id": "fcc53e8e-1f84-44b9-a6b1-522f6813eebf",
   "metadata": {},
   "outputs": [
    {
     "name": "stdout",
     "output_type": "stream",
     "text": [
      "['__add__', '__class__', '__class_getitem__', '__contains__', '__delattr__', '__delitem__', '__dir__', '__doc__', '__eq__', '__format__', '__ge__', '__getattribute__', '__getitem__', '__getstate__', '__gt__', '__hash__', '__iadd__', '__imul__', '__init__', '__init_subclass__', '__iter__', '__le__', '__len__', '__lt__', '__mul__', '__ne__', '__new__', '__reduce__', '__reduce_ex__', '__repr__', '__reversed__', '__rmul__', '__setattr__', '__setitem__', '__sizeof__', '__str__', '__subclasshook__', 'append', 'clear', 'copy', 'count', 'extend', 'index', 'insert', 'pop', 'remove', 'reverse', 'sort']\n"
     ]
    }
   ],
   "source": [
    "print(dir(list_ex))"
   ]
  },
  {
   "cell_type": "markdown",
   "id": "2ab0756b-5125-4894-b206-0d46f89da78a",
   "metadata": {},
   "source": [
    "### Accesing the list element\n",
    "\n",
    "- from left to right -> 0 to len(list) -1\n",
    "- from right to left -> -1 to -len(list)\n",
    "\n",
    "### Slicing : Access a sequence of an elements\n",
    "\n",
    "        - sequence can be \n",
    "            * consecutive : 2,3,4,5,6\n",
    "            * at a defined interval : 2,4,6,8,10\n",
    "        - Start : Stop : Step\n",
    "            * start : starting index default = 0 element is included\n",
    "            * stop : stop index default = len(list) element is excluded\n",
    "            * step : interval of the sequence"
   ]
  },
  {
   "cell_type": "code",
   "execution_count": 108,
   "id": "09304e82-63b3-4a2e-9a35-fd5f40316ea2",
   "metadata": {},
   "outputs": [],
   "source": [
    "list_ex = [1,'a',2,'b',3,'c',4,'d',5,'e',6,'f',7,'g',8,'h']"
   ]
  },
  {
   "cell_type": "code",
   "execution_count": 109,
   "id": "e036c06d-729b-4d86-bd28-e85db19c60a5",
   "metadata": {},
   "outputs": [
    {
     "data": {
      "text/plain": [
       "[2, 'b', 3, 'c', 4, 'd', 5, 'e', 6, 'f', 7, 'g', 8, 'h']"
      ]
     },
     "execution_count": 109,
     "metadata": {},
     "output_type": "execute_result"
    }
   ],
   "source": [
    "list_ex[2:]"
   ]
  },
  {
   "cell_type": "code",
   "execution_count": 110,
   "id": "6888b628-6eb9-4b45-b6a5-75fbd6a3d6fb",
   "metadata": {},
   "outputs": [
    {
     "data": {
      "text/plain": [
       "[1, 'a', 2, 'b', 3, 'c', 4, 'd']"
      ]
     },
     "execution_count": 110,
     "metadata": {},
     "output_type": "execute_result"
    }
   ],
   "source": [
    "list_ex[:8]"
   ]
  },
  {
   "cell_type": "code",
   "execution_count": 111,
   "id": "d0c6d8c8-7891-448c-b8f6-68bf7bf9f506",
   "metadata": {},
   "outputs": [
    {
     "data": {
      "text/plain": [
       "['b', 3, 'c', 4]"
      ]
     },
     "execution_count": 111,
     "metadata": {},
     "output_type": "execute_result"
    }
   ],
   "source": [
    "list_ex[3:7]"
   ]
  },
  {
   "cell_type": "markdown",
   "id": "dc12eedd-1300-4ebf-8576-aa7936bb0b01",
   "metadata": {},
   "source": [
    "- if step is +\n",
    "  * start < stop\n",
    "- if step is negative\n",
    "  * start > stop"
   ]
  },
  {
   "cell_type": "code",
   "execution_count": 112,
   "id": "799fbd74-f13f-4c87-a332-fe45015e2ffd",
   "metadata": {},
   "outputs": [
    {
     "data": {
      "text/plain": [
       "[7, 6, 5, 4, 3]"
      ]
     },
     "execution_count": 112,
     "metadata": {},
     "output_type": "execute_result"
    }
   ],
   "source": [
    "list_ex[12:2:-2]"
   ]
  },
  {
   "cell_type": "code",
   "execution_count": 113,
   "id": "7af2ae4a-dc25-4d0d-9618-fb1e51b34f94",
   "metadata": {},
   "outputs": [
    {
     "data": {
      "text/plain": [
       "[2, 3, 4, 5, 6]"
      ]
     },
     "execution_count": 113,
     "metadata": {},
     "output_type": "execute_result"
    }
   ],
   "source": [
    "list_ex[2:12:2]"
   ]
  },
  {
   "cell_type": "markdown",
   "id": "66880361-0e2e-49b8-8334-c8feb9c2b471",
   "metadata": {},
   "source": [
    "# Deep copy and Shallow Copy"
   ]
  },
  {
   "cell_type": "code",
   "execution_count": 114,
   "id": "7c2e5cb5-114c-4d24-ad72-48442dfccbf9",
   "metadata": {},
   "outputs": [],
   "source": [
    "l1 = ['peach', 'orange', 'grapes',['potatoes','tomatoes','okra']]"
   ]
  },
  {
   "cell_type": "code",
   "execution_count": 115,
   "id": "e6399420-58a6-4aa8-bd78-1b53841b8087",
   "metadata": {},
   "outputs": [],
   "source": [
    "l2 = l1"
   ]
  },
  {
   "cell_type": "code",
   "execution_count": 116,
   "id": "555f93e8-abfb-482a-8e74-9c291a6cdada",
   "metadata": {},
   "outputs": [],
   "source": [
    "l2.insert(0,'apples')"
   ]
  },
  {
   "cell_type": "markdown",
   "id": "2bce28eb-2615-4aa4-a23f-1232afa752f6",
   "metadata": {},
   "source": [
    "#### Change are made at l2"
   ]
  },
  {
   "cell_type": "code",
   "execution_count": 117,
   "id": "fe10a695-1228-4bf2-af07-f3be2618f736",
   "metadata": {},
   "outputs": [
    {
     "name": "stdout",
     "output_type": "stream",
     "text": [
      "original:  ['apples', 'peach', 'orange', 'grapes', ['potatoes', 'tomatoes', 'okra']]\n",
      "Copy:  ['apples', 'peach', 'orange', 'grapes', ['potatoes', 'tomatoes', 'okra']]\n"
     ]
    }
   ],
   "source": [
    "print(\"original: \" , l1)\n",
    "print(\"Copy: \" , l2)"
   ]
  },
  {
   "cell_type": "code",
   "execution_count": 118,
   "id": "d6e2d2fe-6550-4d1f-bc3a-823665e614f2",
   "metadata": {},
   "outputs": [
    {
     "data": {
      "text/plain": [
       "2499375550656"
      ]
     },
     "execution_count": 118,
     "metadata": {},
     "output_type": "execute_result"
    }
   ],
   "source": [
    "id(l1)"
   ]
  },
  {
   "cell_type": "code",
   "execution_count": 119,
   "id": "3a113e2b-ec0f-4507-87ba-036d182709e9",
   "metadata": {},
   "outputs": [
    {
     "data": {
      "text/plain": [
       "2499375550656"
      ]
     },
     "execution_count": 119,
     "metadata": {},
     "output_type": "execute_result"
    }
   ],
   "source": [
    "id(l2)"
   ]
  },
  {
   "cell_type": "markdown",
   "id": "d389f38c-f7da-4d7e-8ad3-72db7ec35d5c",
   "metadata": {},
   "source": [
    "## Shallow Copy"
   ]
  },
  {
   "cell_type": "code",
   "execution_count": 120,
   "id": "01cbd648-4325-4908-83d9-69550ce9f67d",
   "metadata": {},
   "outputs": [],
   "source": [
    "l1 = ['peach', 'orange', 'grapes',['potatoes','tomatoes','okra']]\n",
    "l2 = l1.copy()"
   ]
  },
  {
   "cell_type": "code",
   "execution_count": 121,
   "id": "c5130f53-5296-40a4-9a09-e5365eed3c87",
   "metadata": {},
   "outputs": [],
   "source": [
    "l2.insert(0,'apples')"
   ]
  },
  {
   "cell_type": "code",
   "execution_count": 122,
   "id": "e548db5a-7014-4205-a26e-a47ef7fc71a4",
   "metadata": {},
   "outputs": [
    {
     "name": "stdout",
     "output_type": "stream",
     "text": [
      "original:  ['peach', 'orange', 'grapes', ['potatoes', 'tomatoes', 'okra']]\n",
      "Copy:  ['apples', 'peach', 'orange', 'grapes', ['potatoes', 'tomatoes', 'okra']]\n"
     ]
    }
   ],
   "source": [
    "print(\"original: \" , l1)\n",
    "print(\"Copy: \" , l2)"
   ]
  },
  {
   "cell_type": "code",
   "execution_count": 123,
   "id": "11f4ebbd-9663-463d-ac2a-4f0d0a813fbd",
   "metadata": {},
   "outputs": [
    {
     "data": {
      "text/plain": [
       "['potatoes', 'tomatoes', 'okra']"
      ]
     },
     "execution_count": 123,
     "metadata": {},
     "output_type": "execute_result"
    }
   ],
   "source": [
    "l2[-1]"
   ]
  },
  {
   "cell_type": "code",
   "execution_count": 124,
   "id": "94a778e9-73b5-4f1a-879a-dfe2d3e2d88c",
   "metadata": {},
   "outputs": [],
   "source": [
    "l2[-1].insert(0,'cabbage')"
   ]
  },
  {
   "cell_type": "code",
   "execution_count": 125,
   "id": "00f18610-ee48-40d2-a12d-2d76e082ac8c",
   "metadata": {},
   "outputs": [
    {
     "name": "stdout",
     "output_type": "stream",
     "text": [
      "original:  ['peach', 'orange', 'grapes', ['cabbage', 'potatoes', 'tomatoes', 'okra']]\n",
      "Copy:  ['apples', 'peach', 'orange', 'grapes', ['cabbage', 'potatoes', 'tomatoes', 'okra']]\n"
     ]
    }
   ],
   "source": [
    "print(\"original: \" , l1)\n",
    "print(\"Copy: \" , l2)"
   ]
  },
  {
   "cell_type": "markdown",
   "id": "6786388e-696f-4f5b-8d93-eaa09e3b8cd9",
   "metadata": {},
   "source": [
    "## Deep Copy"
   ]
  },
  {
   "cell_type": "code",
   "execution_count": 126,
   "id": "ad54c77d-9ec3-4362-ad9f-42939a22126e",
   "metadata": {},
   "outputs": [],
   "source": [
    "import copy"
   ]
  },
  {
   "cell_type": "code",
   "execution_count": 127,
   "id": "75233701-dcd6-4cd2-bdc8-3806a6fda0f3",
   "metadata": {},
   "outputs": [],
   "source": [
    "l1 = ['peach', 'orange', 'grapes',['potatoes','tomatoes','okra']]\n",
    "l2 = copy.deepcopy(l1)"
   ]
  },
  {
   "cell_type": "code",
   "execution_count": 128,
   "id": "be726eb0-dc76-48d7-ab8e-594617f017b0",
   "metadata": {},
   "outputs": [],
   "source": [
    "l2.insert(0,'apple')\n",
    "l2[-1].insert(0,'cabbage')"
   ]
  },
  {
   "cell_type": "code",
   "execution_count": 129,
   "id": "f8dde5a5-1da5-496e-9617-56ae63ddbe50",
   "metadata": {},
   "outputs": [
    {
     "name": "stdout",
     "output_type": "stream",
     "text": [
      "original:  ['peach', 'orange', 'grapes', ['potatoes', 'tomatoes', 'okra']]\n",
      "Copy:  ['apple', 'peach', 'orange', 'grapes', ['cabbage', 'potatoes', 'tomatoes', 'okra']]\n"
     ]
    }
   ],
   "source": [
    "print(\"original: \" , l1)\n",
    "print(\"Copy: \" , l2)"
   ]
  },
  {
   "cell_type": "code",
   "execution_count": 130,
   "id": "7d63f3f6-202b-418e-aa8e-33fe4af7eef1",
   "metadata": {},
   "outputs": [],
   "source": [
    "listex_1 = ['peach', 'orange', 'grapes',['potatoes','tomatoes','okra']]\n",
    "listex_2 = ['peach', 'orange', 'grapes',['potatoes','tomatoes','okra']]"
   ]
  },
  {
   "cell_type": "code",
   "execution_count": 131,
   "id": "cd434e38-f36e-400e-8914-6cf0f037a84c",
   "metadata": {},
   "outputs": [
    {
     "data": {
      "text/plain": [
       "True"
      ]
     },
     "execution_count": 131,
     "metadata": {},
     "output_type": "execute_result"
    }
   ],
   "source": [
    "listex_1 == listex_2"
   ]
  },
  {
   "cell_type": "code",
   "execution_count": 132,
   "id": "96745b68-5a06-4549-bde8-161f3dce88a3",
   "metadata": {},
   "outputs": [
    {
     "data": {
      "text/plain": [
       "False"
      ]
     },
     "execution_count": 132,
     "metadata": {},
     "output_type": "execute_result"
    }
   ],
   "source": [
    "listex_1 is listex_2"
   ]
  },
  {
   "cell_type": "code",
   "execution_count": 133,
   "id": "fec5af66-a4cc-4ace-954a-f6741c8b46b0",
   "metadata": {},
   "outputs": [
    {
     "data": {
      "text/plain": [
       "2499373809856"
      ]
     },
     "execution_count": 133,
     "metadata": {},
     "output_type": "execute_result"
    }
   ],
   "source": [
    "id(listex_1)"
   ]
  },
  {
   "cell_type": "code",
   "execution_count": 134,
   "id": "676cfae4-6121-407d-b430-af6a044d148d",
   "metadata": {},
   "outputs": [
    {
     "data": {
      "text/plain": [
       "2499375828672"
      ]
     },
     "execution_count": 134,
     "metadata": {},
     "output_type": "execute_result"
    }
   ],
   "source": [
    "id(listex_2)"
   ]
  },
  {
   "cell_type": "markdown",
   "id": "c77a7d82-1f7e-4d83-88bd-7af0d2229a6f",
   "metadata": {},
   "source": [
    "### String Formatting"
   ]
  },
  {
   "cell_type": "code",
   "execution_count": 135,
   "id": "0623c524-5654-4710-98a0-fe475ef4d7fb",
   "metadata": {},
   "outputs": [
    {
     "name": "stdout",
     "output_type": "stream",
     "text": [
      "45 / 4 = 11.25\n"
     ]
    }
   ],
   "source": [
    "value1 = 45\n",
    "value2 = 4\n",
    "print (value1, \"/\" , value2 , \"=\" , value1/value2)"
   ]
  },
  {
   "cell_type": "code",
   "execution_count": 136,
   "id": "ea121fad-d978-434c-a259-087ac9fd5b6a",
   "metadata": {},
   "outputs": [
    {
     "name": "stdout",
     "output_type": "stream",
     "text": [
      "45 / 4 = 11.25\n"
     ]
    }
   ],
   "source": [
    "print(\"{} / {} = {}\".format(value1 , value2, value1/value2))"
   ]
  },
  {
   "cell_type": "code",
   "execution_count": 137,
   "id": "87ee66cc-bab3-417b-84dc-7a7d87323e4c",
   "metadata": {},
   "outputs": [
    {
     "name": "stdout",
     "output_type": "stream",
     "text": [
      "45 / 4 = 11.25\n"
     ]
    }
   ],
   "source": [
    "print(f\"{value1} / {value2} = {value1/value2}\")"
   ]
  },
  {
   "cell_type": "code",
   "execution_count": 138,
   "id": "616ad1b7-abe3-465c-b4c2-2342264a936a",
   "metadata": {},
   "outputs": [
    {
     "data": {
      "text/plain": [
       "''"
      ]
     },
     "execution_count": 138,
     "metadata": {},
     "output_type": "execute_result"
    }
   ],
   "source": [
    "r''#Raw String"
   ]
  },
  {
   "cell_type": "code",
   "execution_count": 139,
   "id": "86423c39-0344-41ec-8f16-5fbefc278ad4",
   "metadata": {},
   "outputs": [
    {
     "name": "stdout",
     "output_type": "stream",
     "text": [
      "Value1 = 45\n",
      "Value2 = 4\n",
      "result = 11.25\n"
     ]
    }
   ],
   "source": [
    "print(f'Value1 = {value1}\\nValue2 = {value2}\\nresult = {value1/value2}')"
   ]
  },
  {
   "cell_type": "code",
   "execution_count": 140,
   "id": "212061ed-899a-40c4-afce-509fb5a03b82",
   "metadata": {},
   "outputs": [
    {
     "name": "stdout",
     "output_type": "stream",
     "text": [
      "Value1 =  45\n",
      "Value2 =   4\n",
      "result =  11.25\n"
     ]
    }
   ],
   "source": [
    "print(f'Value1 = {value1:3d}\\nValue2 = {value2:3d}\\nresult = {value1/value2:6.2f}')"
   ]
  },
  {
   "cell_type": "markdown",
   "id": "bd264567-050e-4773-8dbd-5ae4cdea0370",
   "metadata": {},
   "source": [
    "## Brackets in Python"
   ]
  },
  {
   "cell_type": "markdown",
   "id": "2acc3e3e-0423-41d7-9a85-6a0a2ad8a10d",
   "metadata": {},
   "source": [
    "1. () parenthesis\n",
    "    * Creating Tuples\n",
    "    * Function Parameter\n",
    "2. [] Square Brackets\n",
    "    * Creating list\n",
    "    * Indexing \n",
    "3. {} Curly Brackets\n",
    "    * Create Sets & Dictionaries\n",
    "    * Formating Strings"
   ]
  },
  {
   "cell_type": "markdown",
   "id": "1decc166-86b6-47e0-a239-5f731518d2f8",
   "metadata": {},
   "source": [
    "# Programming Basics"
   ]
  },
  {
   "cell_type": "markdown",
   "id": "4c621eac-3dc7-4517-b014-880bccc24127",
   "metadata": {},
   "source": [
    "## Control Flow Statement:\n",
    "* Conditional statement\n",
    "* Loop Statement\n",
    "* Function"
   ]
  },
  {
   "cell_type": "markdown",
   "id": "db45a3df-ff6d-451f-9501-aeea2cbcb68f",
   "metadata": {},
   "source": [
    "### Indentation\n",
    "Spaces from the margin"
   ]
  },
  {
   "cell_type": "markdown",
   "id": "88a9315c-1826-4480-9dce-023234a110b4",
   "metadata": {},
   "source": [
    "``` python\n",
    "if statement :\n",
    "    block\n",
    "    of\n",
    "    code\n",
    "# end of block\n",
    "```"
   ]
  },
  {
   "cell_type": "markdown",
   "id": "577d7d32-9ec5-4ffb-af36-71a701d4f643",
   "metadata": {},
   "source": [
    "# Conditional Statements"
   ]
  },
  {
   "cell_type": "markdown",
   "id": "4b84cce0-6097-49cc-a0b2-0447a7589a8a",
   "metadata": {},
   "source": [
    "* == != < <= > >=\n",
    "* Identity Operators : is , is not\n",
    "* Membership Operators : in , in not\n",
    "\n",
    "#### Logical Operators\n",
    "* and && --> Return True when both condition are True else False\n",
    "* or  || --> Return True when either condition is True else False\n",
    "* not    --> Reverse the output. i.e., Return True when condition is False and Vice-s-vers"
   ]
  },
  {
   "cell_type": "code",
   "execution_count": 141,
   "id": "8887dfb0-42cd-4292-a30e-b9b1ff6948dd",
   "metadata": {},
   "outputs": [
    {
     "name": "stdin",
     "output_type": "stream",
     "text": [
      "Enter any value :  34\n",
      "Enter another value :  23\n"
     ]
    }
   ],
   "source": [
    "value = (int(input(\"Enter any value : \")))\n",
    "value2 = (int(input(\"Enter another value : \")))"
   ]
  },
  {
   "cell_type": "code",
   "execution_count": 142,
   "id": "376c7882-05ae-49ed-8132-c20c6058b347",
   "metadata": {},
   "outputs": [
    {
     "data": {
      "text/plain": [
       "True"
      ]
     },
     "execution_count": 142,
     "metadata": {},
     "output_type": "execute_result"
    }
   ],
   "source": [
    "value > value2"
   ]
  },
  {
   "cell_type": "markdown",
   "id": "f983f081-d5d3-4d9f-afc7-33c445447444",
   "metadata": {},
   "source": [
    "### Check whether the entered value is even or not"
   ]
  },
  {
   "cell_type": "code",
   "execution_count": 143,
   "id": "6ee2c585-cf9d-4816-83b5-7299836e1ee2",
   "metadata": {},
   "outputs": [
    {
     "name": "stdin",
     "output_type": "stream",
     "text": [
      "Please enter a number to check whether it's even or not :  23\n"
     ]
    }
   ],
   "source": [
    "value = int(input(\"Please enter a number to check whether it's even or not : \"))\n",
    "if value%2 == 0:\n",
    "    print(f\"Value {value} is Even\")"
   ]
  },
  {
   "cell_type": "code",
   "execution_count": 145,
   "id": "096ff645-aa06-44cc-842f-c8384f5ab50f",
   "metadata": {},
   "outputs": [
    {
     "name": "stdin",
     "output_type": "stream",
     "text": [
      "Please enter a number to check whether it's even or not :  23\n"
     ]
    },
    {
     "name": "stdout",
     "output_type": "stream",
     "text": [
      "Value 23 is not Even.\n"
     ]
    }
   ],
   "source": [
    "value = int(input(\"Please enter a number to check whether it's even or not : \"))\n",
    "if value%2 == 0:\n",
    "    print(f\"Value {value} is Even\")\n",
    "else:\n",
    "    print (f\"Value {value} is not Even.\")"
   ]
  },
  {
   "cell_type": "markdown",
   "id": "5f26c568-04ac-4a31-9388-cc65734d7135",
   "metadata": {},
   "source": [
    "### if elif else"
   ]
  },
  {
   "cell_type": "markdown",
   "id": "753290cf-0dfc-4ea4-8f2b-adb080a64284",
   "metadata": {},
   "source": [
    "grading :\n",
    "- 90 and above --> A\n",
    "- 75 - 90 --> B\n",
    "- 55 - 75 --> C\n",
    "- 35 - 55 --> D\n",
    "- below 35 --> E"
   ]
  },
  {
   "cell_type": "code",
   "execution_count": 146,
   "id": "6f7b5313-b4b4-4bfd-b16e-2297773b5b60",
   "metadata": {},
   "outputs": [
    {
     "name": "stdin",
     "output_type": "stream",
     "text": [
      "Please enter the score out of 100:  34\n"
     ]
    },
    {
     "name": "stdout",
     "output_type": "stream",
     "text": [
      "E\n"
     ]
    }
   ],
   "source": [
    "score = float(input(\"Please enter the score out of 100: \"))\n",
    "if score >= 90:\n",
    "    grade = 'A'\n",
    "else: #(score is < 90)\n",
    "    if score >= 75:\n",
    "        grade = 'B'\n",
    "    else: #(if score <75)\n",
    "        if score >= 55:\n",
    "            grade = 'C'\n",
    "        else: #(if score <55)\n",
    "            if score >= 35:\n",
    "                grade = 'D'\n",
    "            else: #(if score <35)\n",
    "                grade = 'E'\n",
    "\n",
    "print(grade)"
   ]
  },
  {
   "cell_type": "code",
   "execution_count": 147,
   "id": "062890b2-f92f-46a5-89ef-db1e427eb7c5",
   "metadata": {},
   "outputs": [
    {
     "name": "stdin",
     "output_type": "stream",
     "text": [
      "Please enter the score out of 100:  45\n"
     ]
    },
    {
     "name": "stdout",
     "output_type": "stream",
     "text": [
      "D\n"
     ]
    }
   ],
   "source": [
    "score = float(input(\"Please enter the score out of 100: \"))\n",
    "if score >= 90:\n",
    "    grade = 'A'\n",
    "elif score >=75:\n",
    "    grade = 'B'\n",
    "elif score >=55:\n",
    "    grade = 'C'\n",
    "elif score >=35:\n",
    "    grade = 'D'\n",
    "else:\n",
    "    grade = 'E'\n",
    "\n",
    "print(grade)"
   ]
  },
  {
   "cell_type": "code",
   "execution_count": 148,
   "id": "80ed5c1d-d695-4934-ad49-5ddd08bdb0b0",
   "metadata": {},
   "outputs": [
    {
     "name": "stdin",
     "output_type": "stream",
     "text": [
      "Enter your age:  45\n"
     ]
    },
    {
     "name": "stdout",
     "output_type": "stream",
     "text": [
      "You are Eligible\n"
     ]
    },
    {
     "name": "stdin",
     "output_type": "stream",
     "text": [
      "Are you Citizien? yes/no yes\n"
     ]
    },
    {
     "name": "stdout",
     "output_type": "stream",
     "text": [
      "You can Vote!\n",
      "Done!\n"
     ]
    }
   ],
   "source": [
    "age = int(input(\"Enter your age: \"))\n",
    "if age >18:\n",
    "    print(\"You are Eligible\")\n",
    "    citizien = input(\"Are you Citizien? yes/no\").lower()\n",
    "    if citizien == 'yes':\n",
    "        print(\"You can Vote!\")\n",
    "    else:\n",
    "        print(\"You can't Vote!\")\n",
    "else:\n",
    "    print(\"You are not eligible\")\n",
    "print(\"Done!\")"
   ]
  },
  {
   "cell_type": "code",
   "execution_count": 149,
   "id": "79a972ae-f4ba-491d-b884-a928d4ca0b10",
   "metadata": {},
   "outputs": [
    {
     "name": "stdin",
     "output_type": "stream",
     "text": [
      "Enter your age:  35\n"
     ]
    },
    {
     "name": "stdout",
     "output_type": "stream",
     "text": [
      "You can Vote!\n",
      "Done!\n"
     ]
    }
   ],
   "source": [
    "age = int(input(\"Enter your age: \"))\n",
    "if age >18 and citizien == 'yes':\n",
    "    print(\"You can Vote!\")\n",
    "else:\n",
    "    print(\"You can't Vote!\")\n",
    "print(\"Done!\")"
   ]
  },
  {
   "cell_type": "markdown",
   "id": "e9285371-8796-41bd-80db-12932ab772fd",
   "metadata": {},
   "source": [
    "### Withdrawal"
   ]
  },
  {
   "cell_type": "code",
   "execution_count": 150,
   "id": "20ceb4ce-0bb7-46ab-a375-0587ea975533",
   "metadata": {},
   "outputs": [],
   "source": [
    "balance = 10000\n",
    "card_inserted = True\n",
    "pin_entered = True\n",
    "withdrawal_amount = 8349"
   ]
  },
  {
   "cell_type": "code",
   "execution_count": 151,
   "id": "65da27d1-8e94-429b-9609-7cda660f37f6",
   "metadata": {},
   "outputs": [
    {
     "name": "stdout",
     "output_type": "stream",
     "text": [
      "Card Detected\n",
      "Pin Accepted\n",
      "6000 Limit!\n"
     ]
    }
   ],
   "source": [
    "if card_inserted:\n",
    "    print(\"Card Detected\")\n",
    "\n",
    "#get the pin and match with the database and set with pin_entered = True if it matches\n",
    "    if pin_entered:\n",
    "        print(\"Pin Accepted\")\n",
    "# get the withdrawal amount \n",
    "        if withdrawal_amount < (balance - 1000):\n",
    "            if withdrawal_amount <= 6000:\n",
    "                print(\"Transaction Successful! Please collect the amount\")\n",
    "            else:\n",
    "                print(\"6000 Limit!\")\n",
    "        else:\n",
    "            print (\"Amount Exeeds the Balance\")\n",
    "    else:\n",
    "        print(\"Invalid Pin\")\n",
    "else:\n",
    "    print(\"card not detected!\")"
   ]
  },
  {
   "cell_type": "code",
   "execution_count": 152,
   "id": "ff1f252e-0d80-4b66-9c79-24e83c34edbe",
   "metadata": {},
   "outputs": [
    {
     "data": {
      "text/plain": [
       "True"
      ]
     },
     "execution_count": 152,
     "metadata": {},
     "output_type": "execute_result"
    }
   ],
   "source": [
    "'p' in 'python'"
   ]
  },
  {
   "cell_type": "code",
   "execution_count": 153,
   "id": "db51138a-8b8a-4513-8040-7a098b49d7fd",
   "metadata": {},
   "outputs": [
    {
     "data": {
      "text/plain": [
       "False"
      ]
     },
     "execution_count": 153,
     "metadata": {},
     "output_type": "execute_result"
    }
   ],
   "source": [
    "'P' in 'python'"
   ]
  },
  {
   "cell_type": "code",
   "execution_count": 154,
   "id": "56332114-06f2-4bef-88b3-9d92c203af0d",
   "metadata": {},
   "outputs": [],
   "source": [
    "#recommend whethe rto visit a doctor or not\n",
    "temp = 99\n",
    "has_cough = True\n",
    "has_body_ache = True"
   ]
  },
  {
   "cell_type": "code",
   "execution_count": 155,
   "id": "ccce2778-af1f-4de4-b5c0-1440c2c15da6",
   "metadata": {},
   "outputs": [
    {
     "name": "stdout",
     "output_type": "stream",
     "text": [
      "Take some rest!\n"
     ]
    }
   ],
   "source": [
    "if temp > 100 and (has_cough or has_body_ache):\n",
    "    print(\"You should visit a Doctor.\")\n",
    "else:\n",
    "    print(\"Take some rest!\")"
   ]
  },
  {
   "cell_type": "markdown",
   "id": "2ea9f6e4-00a1-41bb-8db5-a35112c1dc19",
   "metadata": {},
   "source": [
    "- first and then or"
   ]
  },
  {
   "cell_type": "markdown",
   "id": "10ab9f29-7ace-499f-869c-416497e39c08",
   "metadata": {},
   "source": [
    "condition1 and condition2 or condition3 and condition4 or condition5 or condition6 or condition7 and condition8\n",
    "\n",
    "(condition1 and condition2) or (condition3 and condition4) or condition5 or condition6 or (condition7 and condition8)"
   ]
  },
  {
   "cell_type": "markdown",
   "id": "317dce31-c670-4d91-b1ab-f256b78df24b",
   "metadata": {},
   "source": [
    "# Loops\n",
    "1. for loop : collection based loop\n",
    "2. while loop : conditional loop"
   ]
  },
  {
   "cell_type": "code",
   "execution_count": 156,
   "id": "6d3937ec-0f9d-4e7c-b02b-e58937669ecc",
   "metadata": {},
   "outputs": [
    {
     "name": "stdout",
     "output_type": "stream",
     "text": [
      "1\n",
      "2\n",
      "3\n",
      "4\n",
      "5\n"
     ]
    }
   ],
   "source": [
    "list_ex = [1,2,3,4,5]\n",
    "for e in list_ex:\n",
    "    print(e)"
   ]
  },
  {
   "cell_type": "code",
   "execution_count": 157,
   "id": "9b8ac289-9483-4fcb-9cb6-e9aada9a5698",
   "metadata": {},
   "outputs": [],
   "source": [
    "#Range Object\n",
    "#Product table of 2"
   ]
  },
  {
   "cell_type": "code",
   "execution_count": 158,
   "id": "1fb0c026-43fa-4e82-b3bf-10e7d4d976a4",
   "metadata": {},
   "outputs": [
    {
     "name": "stdout",
     "output_type": "stream",
     "text": [
      " 2 X 1 = 2\n",
      " 2 X 2 = 4\n",
      " 2 X 3 = 6\n",
      " 2 X 4 = 8\n",
      " 2 X 5 =10\n",
      " 2 X 6 =12\n",
      " 2 X 7 =14\n",
      " 2 X 8 =16\n",
      " 2 X 9 =18\n",
      " 2 X10 =20\n"
     ]
    }
   ],
   "source": [
    "n =2\n",
    "i =1\n",
    "print(f\"{n:2d} X{i:2d} ={n*i:2d}\")\n",
    "i += 1\n",
    "print(f\"{n:2d} X{i:2d} ={n*i:2d}\")\n",
    "i += 1\n",
    "print(f\"{n:2d} X{i:2d} ={n*i:2d}\")\n",
    "i += 1\n",
    "print(f\"{n:2d} X{i:2d} ={n*i:2d}\")\n",
    "i += 1\n",
    "print(f\"{n:2d} X{i:2d} ={n*i:2d}\")\n",
    "i += 1\n",
    "print(f\"{n:2d} X{i:2d} ={n*i:2d}\")\n",
    "i += 1\n",
    "print(f\"{n:2d} X{i:2d} ={n*i:2d}\")\n",
    "i += 1\n",
    "print(f\"{n:2d} X{i:2d} ={n*i:2d}\")\n",
    "i += 1\n",
    "print(f\"{n:2d} X{i:2d} ={n*i:2d}\")\n",
    "i += 1\n",
    "print(f\"{n:2d} X{i:2d} ={n*i:2d}\")"
   ]
  },
  {
   "cell_type": "code",
   "execution_count": 159,
   "id": "910862ec-1235-4479-9670-fbe397e32531",
   "metadata": {},
   "outputs": [
    {
     "name": "stdout",
     "output_type": "stream",
     "text": [
      "12 X 1 =12\n",
      "12 X 2 =24\n",
      "12 X 3 =36\n",
      "12 X 4 =48\n",
      "12 X 5 =60\n",
      "12 X 6 =72\n",
      "12 X 7 =84\n",
      "12 X 8 =96\n",
      "12 X 9 =108\n",
      "12 X10 =120\n"
     ]
    }
   ],
   "source": [
    "n = 12\n",
    "for i in [1,2,3,4,5,6,7,8,9,10]:\n",
    "    print(f\"{n:2d} X{i:2d} ={n*i:2d}\")"
   ]
  },
  {
   "cell_type": "code",
   "execution_count": 160,
   "id": "4233d45c-da6b-4d30-a291-66f06486ddb3",
   "metadata": {},
   "outputs": [
    {
     "data": {
      "text/plain": [
       "range(2, 21)"
      ]
     },
     "execution_count": 160,
     "metadata": {},
     "output_type": "execute_result"
    }
   ],
   "source": [
    "range(2,21) # Start is included and stop is excluded"
   ]
  },
  {
   "cell_type": "markdown",
   "id": "444cec50-8116-45af-aff9-c71043b63a73",
   "metadata": {},
   "source": [
    "```Python\n",
    "for loop_variable in iteration_object:\n",
    "    body of the loop\n",
    "\n",
    "```"
   ]
  },
  {
   "cell_type": "code",
   "execution_count": 161,
   "id": "b72b22a0-6726-4cdd-86d0-1bdad9a64e20",
   "metadata": {},
   "outputs": [
    {
     "name": "stdout",
     "output_type": "stream",
     "text": [
      " 2 X 1 = 2\n",
      " 2 X 2 = 4\n",
      " 2 X 3 = 6\n",
      " 2 X 4 = 8\n",
      " 2 X 5 =10\n",
      " 2 X 6 =12\n",
      " 2 X 7 =14\n",
      " 2 X 8 =16\n",
      " 2 X 9 =18\n",
      " 2 X10 =20\n"
     ]
    }
   ],
   "source": [
    "n = 2\n",
    "for i in range(1,11):\n",
    "    print(f\"{n:2d} X{i:2d} ={n*i:2d}\")"
   ]
  },
  {
   "cell_type": "markdown",
   "id": "92520ec8-c1ab-41e3-93fa-e18d23896f4c",
   "metadata": {},
   "source": [
    "```python\n",
    "while condition:\n",
    "    body of the loop\n",
    "```"
   ]
  },
  {
   "cell_type": "code",
   "execution_count": 163,
   "id": "00a45096-f80e-4292-93a2-791e577b8c9f",
   "metadata": {},
   "outputs": [
    {
     "name": "stdin",
     "output_type": "stream",
     "text": [
      "Enter the Guest Name:  kanak\n",
      "Enter the Guest Name:  nisha\n",
      "Enter the Guest Name:  kanchan\n",
      "Enter the Guest Name:  stop\n"
     ]
    },
    {
     "name": "stdout",
     "output_type": "stream",
     "text": [
      "['kanak', 'nisha', 'kanchan']\n"
     ]
    }
   ],
   "source": [
    "guest_list = []\n",
    "inp = ''\n",
    "while inp.lower() != 'stop':\n",
    "    inp = input(\"Enter the Guest Name: \")\n",
    "    guest_list.append(inp)\n",
    "guest_list.pop(-1)\n",
    "print(guest_list)"
   ]
  },
  {
   "cell_type": "markdown",
   "id": "27e6978b-d26b-44e0-a3ca-4851646acf53",
   "metadata": {},
   "source": [
    "### No Execution"
   ]
  },
  {
   "cell_type": "code",
   "execution_count": 164,
   "id": "81905ed0-0fd6-4482-8d2e-e6d5b14937ba",
   "metadata": {},
   "outputs": [],
   "source": [
    "i = 5\n",
    "while i < 5:\n",
    "    print(\"count\")"
   ]
  },
  {
   "cell_type": "markdown",
   "id": "e11b0330-2c9e-4ada-a3c3-739f0e527f3f",
   "metadata": {},
   "source": [
    "### Infinite Execution"
   ]
  },
  {
   "cell_type": "markdown",
   "id": "d4572d38-f91f-4c7d-8f2e-c015eb2028a0",
   "metadata": {},
   "source": [
    "```python\n",
    "i = 5 \n",
    "while i <= 5: \n",
    "    print(\"count\")"
   ]
  },
  {
   "cell_type": "markdown",
   "id": "51ef737a-3e7a-4f31-8045-226d47db5ff2",
   "metadata": {},
   "source": [
    "### Control Flow Statements:\n",
    "break and continue"
   ]
  },
  {
   "cell_type": "markdown",
   "id": "cc4a1e5e-8747-4763-a91f-ae7fc4d68e88",
   "metadata": {},
   "source": [
    "## pass : syntactical requirements"
   ]
  },
  {
   "cell_type": "code",
   "execution_count": 165,
   "id": "b5789134-2cfa-444f-b1b9-58ff2f13af9a",
   "metadata": {},
   "outputs": [
    {
     "name": "stdout",
     "output_type": "stream",
     "text": [
      "p\n",
      "y\n",
      "t\n",
      "h\n",
      "o\n",
      "n\n"
     ]
    }
   ],
   "source": [
    "for i in 'python':\n",
    "    if i == 'h':\n",
    "        pass\n",
    "    print(i)"
   ]
  },
  {
   "cell_type": "code",
   "execution_count": 166,
   "id": "af16e0ab-281c-4d55-b6fa-ade0e43819a1",
   "metadata": {},
   "outputs": [
    {
     "name": "stdout",
     "output_type": "stream",
     "text": [
      "p\n",
      "y\n",
      "t\n"
     ]
    }
   ],
   "source": [
    "for i in 'python':\n",
    "    if i == 'h':\n",
    "        break # stop on the letter just before 'h'\n",
    "    print(i)"
   ]
  },
  {
   "cell_type": "code",
   "execution_count": 167,
   "id": "83b77c2e-16e1-4e80-bd3f-a1d27e84d784",
   "metadata": {},
   "outputs": [
    {
     "name": "stdout",
     "output_type": "stream",
     "text": [
      "p\n",
      "y\n",
      "t\n",
      "o\n",
      "n\n"
     ]
    }
   ],
   "source": [
    "for i in 'python':\n",
    "    if i == 'h':\n",
    "        continue # skip the letter 'h' and move on to next\n",
    "    print(i)"
   ]
  },
  {
   "cell_type": "markdown",
   "id": "d3f66b89-745f-453f-a5cd-1a8dbde18209",
   "metadata": {},
   "source": [
    "### Loops - Else Block\n",
    "Else block is executed when no break statement is encountered"
   ]
  },
  {
   "cell_type": "code",
   "execution_count": 168,
   "id": "34842090-ab9d-446e-8651-d688d65120e8",
   "metadata": {},
   "outputs": [
    {
     "name": "stdin",
     "output_type": "stream",
     "text": [
      "Enter Single Character :  f\n"
     ]
    },
    {
     "name": "stdout",
     "output_type": "stream",
     "text": [
      "f is not present!\n",
      "Done\n"
     ]
    }
   ],
   "source": [
    "char = input(\"Enter Single Character : \")\n",
    "for ch in 'welcome to the python class':\n",
    "    if ch == char:\n",
    "        print(f\"Character {char} encountered.\")\n",
    "        break\n",
    "else:\n",
    "    print(f\"{char} is not present!\")\n",
    "print(\"Done\")"
   ]
  },
  {
   "cell_type": "markdown",
   "id": "1808bb1d-f243-41a4-ac2b-d6f808de0a3b",
   "metadata": {},
   "source": [
    "## Functions : Reusable parts of code\n",
    "\n",
    "```python\n",
    "#Funtion definition\n",
    "def function_name(parameters):\n",
    "    body of the function\n",
    "\n",
    "#Function call\n",
    "function_name(parameters)\n",
    "```"
   ]
  },
  {
   "cell_type": "code",
   "execution_count": 169,
   "id": "0fde3600-d6c1-4ba0-abc0-eb5aaa31ff57",
   "metadata": {},
   "outputs": [],
   "source": [
    "def add(a,b):\n",
    "    total = a+b\n",
    "    print(total)"
   ]
  },
  {
   "cell_type": "code",
   "execution_count": 170,
   "id": "ae5525a4-f57b-41aa-aa3f-421dcb2068e8",
   "metadata": {},
   "outputs": [
    {
     "name": "stdout",
     "output_type": "stream",
     "text": [
      "90\n"
     ]
    }
   ],
   "source": [
    "add(34,56)"
   ]
  },
  {
   "cell_type": "markdown",
   "id": "925bd810-3024-4445-95a2-57c25bcfc71d",
   "metadata": {},
   "source": [
    "## Argument Matching\n",
    "- positional\n",
    "- keywords"
   ]
  },
  {
   "cell_type": "code",
   "execution_count": 171,
   "id": "7d3e6ae0-21f6-48e2-bda2-4b06dd198837",
   "metadata": {},
   "outputs": [],
   "source": [
    "def example(first,second):\n",
    "    print(f'first : {first}')\n",
    "    print(f'Second : {second}')"
   ]
  },
  {
   "cell_type": "code",
   "execution_count": 172,
   "id": "43ab7749-0130-40ab-b39c-9c49bf866681",
   "metadata": {},
   "outputs": [
    {
     "name": "stdout",
     "output_type": "stream",
     "text": [
      "first : ONE\n",
      "Second : Two\n"
     ]
    }
   ],
   "source": [
    "example(\"ONE\",\"Two\") #positional matching"
   ]
  },
  {
   "cell_type": "code",
   "execution_count": 173,
   "id": "df97f94a-3b51-4303-8962-f63d692a0a47",
   "metadata": {},
   "outputs": [
    {
     "name": "stdout",
     "output_type": "stream",
     "text": [
      "first : nisha\n",
      "Second : kanak\n"
     ]
    }
   ],
   "source": [
    "example(second = \"kanak\", first = \"nisha\") #keyword Matching"
   ]
  },
  {
   "cell_type": "code",
   "execution_count": 174,
   "id": "2d3e09dd-9e38-49bb-ae78-9bd204d0d242",
   "metadata": {},
   "outputs": [],
   "source": [
    "def welcome_message(name,greeting):\n",
    "    print(f\"Hello {name}, {greeting}\")"
   ]
  },
  {
   "cell_type": "code",
   "execution_count": 175,
   "id": "9bac3fe9-1492-4f78-8c1a-571ed0095079",
   "metadata": {},
   "outputs": [
    {
     "name": "stdout",
     "output_type": "stream",
     "text": [
      "Hello Simran, How are you?\n"
     ]
    }
   ],
   "source": [
    "welcome_message(\"Simran\",\"How are you?\")"
   ]
  },
  {
   "cell_type": "code",
   "execution_count": 176,
   "id": "aeac9685-540b-4521-a477-cc3a6ffb94fa",
   "metadata": {},
   "outputs": [],
   "source": [
    "#default Value\n",
    "def welcome_message(name,greeting = \"Happy to have you!\"):\n",
    "    print(f\"Hello {name}, {greeting}\")"
   ]
  },
  {
   "cell_type": "code",
   "execution_count": 177,
   "id": "c031e10c-2b34-43b5-979e-239d8957a3be",
   "metadata": {},
   "outputs": [
    {
     "name": "stdout",
     "output_type": "stream",
     "text": [
      "Hello kanak, Happy to have you!\n"
     ]
    }
   ],
   "source": [
    "welcome_message(\"kanak\")"
   ]
  },
  {
   "cell_type": "markdown",
   "id": "5207d3ff-cab4-4738-9dcd-e1d2f8c2eb47",
   "metadata": {},
   "source": [
    "---\n",
    "\n",
    "**The Default Value will be picked up when a value is not passed for the parameter.**\n",
    "\n",
    "---"
   ]
  },
  {
   "cell_type": "markdown",
   "id": "1dab920f-36c3-4f26-bd66-b423c1d037d8",
   "metadata": {},
   "source": [
    "<h3><u>Text File Creation and Manipulation</u></h3>"
   ]
  },
  {
   "cell_type": "code",
   "execution_count": 178,
   "id": "338a15be-9f72-4da1-a4a7-04ed6ed07bab",
   "metadata": {},
   "outputs": [],
   "source": [
    "#creating a file\n",
    "file_obj = open(\"test_file.txt\",\"w\")"
   ]
  },
  {
   "cell_type": "code",
   "execution_count": 179,
   "id": "9df48667-62ff-4640-9031-ac558b7e02a6",
   "metadata": {},
   "outputs": [
    {
     "data": {
      "text/plain": [
       "23"
      ]
     },
     "execution_count": 179,
     "metadata": {},
     "output_type": "execute_result"
    }
   ],
   "source": [
    "# write content\n",
    "file_obj.write(\"This is the first line.\")"
   ]
  },
  {
   "cell_type": "code",
   "execution_count": 180,
   "id": "9032ea08-19ce-45b5-9218-fd4d687d1242",
   "metadata": {},
   "outputs": [],
   "source": [
    "file_obj.close()"
   ]
  },
  {
   "cell_type": "code",
   "execution_count": 181,
   "id": "dd7f8837-01e5-43a8-959c-7d9db2014a7d",
   "metadata": {},
   "outputs": [
    {
     "name": "stdout",
     "output_type": "stream",
     "text": [
      "This is the first line.\n"
     ]
    }
   ],
   "source": [
    "file_obj = open(\"test_file.txt\",\"r\")\n",
    "content = file_obj.read()\n",
    "print(content)\n",
    "file_obj.close()"
   ]
  },
  {
   "cell_type": "code",
   "execution_count": 182,
   "id": "4bd85a76-6b58-4bfe-98b3-4eaba749284c",
   "metadata": {},
   "outputs": [],
   "source": [
    "file_obj = open(\"test_file.txt\",\"a\")\n",
    "content = file_obj.write(\"\\nThis is the Second line.\")\n",
    "file_obj.close()"
   ]
  },
  {
   "cell_type": "code",
   "execution_count": 183,
   "id": "a5149408-2586-4156-ac45-cbf3793e462a",
   "metadata": {},
   "outputs": [
    {
     "name": "stdout",
     "output_type": "stream",
     "text": [
      "This is the first line.\n",
      "This is the Second line.\n"
     ]
    }
   ],
   "source": [
    "file_obj = open(\"test_file.txt\",\"r\")\n",
    "content = file_obj.read()\n",
    "print(content)\n",
    "file_obj.close()"
   ]
  },
  {
   "cell_type": "markdown",
   "id": "f158cae9-9ab6-45d8-b87a-0782ef773bf3",
   "metadata": {},
   "source": [
    "## - Scope of data "
   ]
  },
  {
   "cell_type": "code",
   "execution_count": 184,
   "id": "de357889-9f70-447e-b1f6-f10bf07d663a",
   "metadata": {},
   "outputs": [],
   "source": [
    "def add(a,b):\n",
    "    total = a+b\n",
    "    print(total)"
   ]
  },
  {
   "cell_type": "code",
   "execution_count": 185,
   "id": "ced735d3-a53f-4e09-9805-25e44cddbb1d",
   "metadata": {},
   "outputs": [
    {
     "ename": "NameError",
     "evalue": "name 'total' is not defined",
     "output_type": "error",
     "traceback": [
      "\u001b[1;31m---------------------------------------------------------------------------\u001b[0m",
      "\u001b[1;31mNameError\u001b[0m                                 Traceback (most recent call last)",
      "Cell \u001b[1;32mIn[185], line 1\u001b[0m\n\u001b[1;32m----> 1\u001b[0m \u001b[38;5;28mprint\u001b[39m(total)\n",
      "\u001b[1;31mNameError\u001b[0m: name 'total' is not defined"
     ]
    }
   ],
   "source": [
    "print(total)"
   ]
  },
  {
   "cell_type": "markdown",
   "id": "47e7dd10-dc86-4c81-9549-eb8bb41c77b4",
   "metadata": {},
   "source": [
    "### tot - local scope to the function"
   ]
  },
  {
   "cell_type": "markdown",
   "id": "6fe91349-3251-45aa-9f32-5c32364eb325",
   "metadata": {},
   "source": [
    "- **Global Scope** : any variable defined outside a function or class (anywhere in the kernel) is global scope.\n",
    "- **Local Scope** : any variable/function defined inside a function or a class is local to that function or class."
   ]
  },
  {
   "cell_type": "code",
   "execution_count": 186,
   "id": "6d42bb6f-8711-4089-96b9-5adbf0db7867",
   "metadata": {},
   "outputs": [],
   "source": [
    "def add(a,b):\n",
    "    total = a+b\n",
    "    print(total)\n",
    "\n",
    "# a, b and total are local to the function add"
   ]
  },
  {
   "cell_type": "code",
   "execution_count": 187,
   "id": "1b3e5292-1ddc-472e-b561-da62ba038a9c",
   "metadata": {},
   "outputs": [],
   "source": [
    "x = 100\n",
    "\n",
    "def add (a,b):\n",
    "    total = a + b * x\n",
    "    print(total)\n",
    "\n",
    "# since x is not defined in the function, hence global will be defined"
   ]
  },
  {
   "cell_type": "code",
   "execution_count": 188,
   "id": "9ce96290-dfa5-45da-9b58-ca4323cb24b3",
   "metadata": {},
   "outputs": [
    {
     "name": "stdout",
     "output_type": "stream",
     "text": [
      "302\n"
     ]
    }
   ],
   "source": [
    "add(2,3)"
   ]
  },
  {
   "cell_type": "markdown",
   "id": "35a772b7-579e-483a-b833-c839b68604bc",
   "metadata": {},
   "source": [
    "---\n",
    "\n",
    "##### There can be variable names for the local as well as global scope,preference will be given to the environment from where they have been called\n",
    "\n",
    "---"
   ]
  },
  {
   "cell_type": "code",
   "execution_count": 189,
   "id": "3201b354-b1a7-449f-bc65-505478a88d5d",
   "metadata": {},
   "outputs": [],
   "source": [
    "x = 100 #global\n",
    "\n",
    "def add (a,b):\n",
    "    x = 0.1 #local\n",
    "    total = a + b * x\n",
    "    print(total)"
   ]
  },
  {
   "cell_type": "code",
   "execution_count": 190,
   "id": "5007fc6b-547e-48f0-860d-05da43e9983e",
   "metadata": {},
   "outputs": [],
   "source": [
    "def calculate_painting_area(length, width, height):\n",
    "    total_wall_area = (length + width) * height\n",
    "    return total_wall_area"
   ]
  },
  {
   "cell_type": "code",
   "execution_count": 191,
   "id": "a9f59ba5-ff21-411f-9daa-4bb7022b16db",
   "metadata": {},
   "outputs": [],
   "source": [
    "area = calculate_painting_area(15,34,24)"
   ]
  },
  {
   "cell_type": "code",
   "execution_count": 192,
   "id": "418ead5e-711c-40e9-9888-233421228871",
   "metadata": {},
   "outputs": [
    {
     "ename": "NameError",
     "evalue": "name 'total_wall_area' is not defined",
     "output_type": "error",
     "traceback": [
      "\u001b[1;31m---------------------------------------------------------------------------\u001b[0m",
      "\u001b[1;31mNameError\u001b[0m                                 Traceback (most recent call last)",
      "Cell \u001b[1;32mIn[192], line 1\u001b[0m\n\u001b[1;32m----> 1\u001b[0m total_wall_area\n",
      "\u001b[1;31mNameError\u001b[0m: name 'total_wall_area' is not defined"
     ]
    }
   ],
   "source": [
    "total_wall_area"
   ]
  },
  {
   "cell_type": "code",
   "execution_count": 193,
   "id": "a58cd1c4-c256-4d97-9b58-7e7c9fac4583",
   "metadata": {},
   "outputs": [
    {
     "data": {
      "text/plain": [
       "1176"
      ]
     },
     "execution_count": 193,
     "metadata": {},
     "output_type": "execute_result"
    }
   ],
   "source": [
    "area"
   ]
  },
  {
   "cell_type": "code",
   "execution_count": 194,
   "id": "57ad2019-5fd3-4e03-9b6c-4a1c1257e0aa",
   "metadata": {},
   "outputs": [],
   "source": [
    "def calculate_painting_cost(area,type_of_paint):\n",
    "    if type_of_paint == 'standard':\n",
    "        material_cost = 12\n",
    "        labor_cost = 8\n",
    "    elif type_of_paint == 'premiium':\n",
    "        material_cost = 18\n",
    "        labor_cost = 12\n",
    "    elif type_of_paint == 'luxury':\n",
    "        material_cost = 25\n",
    "        labor_cost = 18\n",
    "    else :\n",
    "        print('Invalid paint type')\n",
    "        material_cost = -9999\n",
    "        labor_cost = -9999\n",
    "    return((material_cost + labor_cost)* area)"
   ]
  },
  {
   "cell_type": "code",
   "execution_count": 195,
   "id": "7c704599-3179-4348-99b0-524fa61a6c90",
   "metadata": {},
   "outputs": [
    {
     "data": {
      "text/plain": [
       "14835"
      ]
     },
     "execution_count": 195,
     "metadata": {},
     "output_type": "execute_result"
    }
   ],
   "source": [
    "calculate_painting_cost(345,'luxury')"
   ]
  },
  {
   "cell_type": "code",
   "execution_count": 196,
   "id": "35947a46-8aa8-4193-8eb6-6738abe947bd",
   "metadata": {},
   "outputs": [
    {
     "data": {
      "text/plain": [
       "50568"
      ]
     },
     "execution_count": 196,
     "metadata": {},
     "output_type": "execute_result"
    }
   ],
   "source": [
    "calculate_painting_cost(area,'luxury')"
   ]
  },
  {
   "cell_type": "markdown",
   "id": "5a4e58f1-d2e0-4ac9-88eb-a34a8503e278",
   "metadata": {},
   "source": [
    "## Modules vs packages vs libraries\n",
    "\n",
    "- Modules are any.**py** extension files\n",
    "- package directory containing modules or a collection of modules\n",
    "- library is a collection of modules performing specific tasks"
   ]
  },
  {
   "cell_type": "markdown",
   "id": "a3701632-3165-4d80-b6ee-640a3a3ed61d",
   "metadata": {},
   "source": [
    "##### what are the modules, packages and libraries available :"
   ]
  },
  {
   "cell_type": "code",
   "execution_count": 197,
   "id": "01f62ccf-01d7-48af-97f2-9f7a24eb961c",
   "metadata": {},
   "outputs": [
    {
     "name": "stdout",
     "output_type": "stream",
     "text": [
      "\n",
      "Please wait a moment while I gather a list of all available modules...\n",
      "\n",
      "3204bda914b7f2c6f497__mypyc cmath               mat_utils           skimage\n",
      "IPython             cmd                 math                sklearn\n",
      "OpenSSL             code                matplotlib          sklearn_compat\n",
      "PIL                 codecs              matplotlib_inline   slugify\n",
      "PyQt5               codeop              mccabe              smmap\n",
      "__future__          collections         mdit_py_plugins     smtplib\n",
      "__hello__           colorama            mdurl               sniffio\n",
      "__phello__          colorcet            menuinst            snowballstemmer\n",
      "_abc                colorsys            mimetypes           socket\n",
      "_aix_support        comm                mistune             socketserver\n",
      "_android_support    commctrl            mkl                 socks\n",
      "_apple_support      compileall          mkl_fft             sockshandler\n",
      "_argon2_cffi_bindings concurrent          mkl_random          sortedcontainers\n",
      "_ast                conda               mmap                soupsieve\n",
      "_asyncio            conda_anaconda_telemetry mmapfile            sphinx\n",
      "_bisect             conda_anaconda_tos  mmsystem            sphinxify\n",
      "_black_version      conda_build         modulefinder        sphinxthread\n",
      "_blake2             conda_content_trust more_itertools      spyder\n",
      "_brotli             conda_env           mpmath              spyder_kernels\n",
      "_bz2                conda_index         msgpack             sqlalchemy\n",
      "_cffi_backend       conda_libmamba_solver msvcrt              sqlite3\n",
      "_codecs             conda_pack          multidict           sre_compile\n",
      "_codecs_cn          conda_package_handling multipledispatch    sre_constants\n",
      "_codecs_hk          conda_package_streaming multiprocessing     sre_parse\n",
      "_codecs_iso2022     conda_token         mypy                ssl\n",
      "_codecs_jp          conf                mypy_extensions     sspi\n",
      "_codecs_kr          configparser        mypyc               sspicon\n",
      "_codecs_tw          constantly          nacl                stack_data\n",
      "_collections        contextlib          narwhals            start_pythonwin\n",
      "_collections_abc    contextvars         navigator_updater   stat\n",
      "_colorize           contourpy           nbclient            statistics\n",
      "_compat_pickle      cookiecutter        nbconvert           statsmodels\n",
      "_compression        copy                nbformat            streamlit\n",
      "_contextvars        copyreg             nest_asyncio        string\n",
      "_csv                cpuinfo             netbios             stringprep\n",
      "_ctypes             cryptography        netrc               struct\n",
      "_ctypes_test        cssselect           networkx            subprocess\n",
      "_datetime           csv                 nltk                superqt\n",
      "_decimal            ctypes              notebook            sympy\n",
      "_distutils_hack     curl                notebook_shim       symtable\n",
      "_elementtree        curses              nt                  sys\n",
      "_functools          cwp                 ntpath              sysconfig\n",
      "_hashlib            cycler              ntsecuritycon       tables\n",
      "_heapq              cytoolz             nturl2path          tabnanny\n",
      "_imp                dask                numba               tabulate\n",
      "_interpchannels     dask_expr           numbergen           tarfile\n",
      "_interpqueues       dataclasses         numbers             tblib\n",
      "_interpreters       datashader          numexpr             tempfile\n",
      "_io                 datetime            numpy               tenacity\n",
      "_ios_support        dateutil            numpydoc            terminado\n",
      "_json               dbm                 odbc                test\n",
      "_locale             dde                 opcode              test_pycosat\n",
      "_lsprof             debugpy             openpyxl            text_unidecode\n",
      "_lzma               decimal             operator            textdistance\n",
      "_markupbase         decorator           optparse            textwrap\n",
      "_md5                defusedxml          ordered_set         this\n",
      "_multibytecodec     deprecated          os                  threading\n",
      "_multiprocessing    diff_match_patch    overrides           threadpoolctl\n",
      "_nsis               difflib             packaging           three_merge\n",
      "_opcode             dill                pandas              tifffile\n",
      "_opcode_metadata    dis                 pandocfilters       time\n",
      "_operator           distributed         panel               timeit\n",
      "_osx_support        distro              param               timer\n",
      "_overlapped         docstring_to_markdown parsel              tinycss2\n",
      "_pickle             doctest             parso               tkinter\n",
      "_plotly_future_     docutils            partd               tldextract\n",
      "_plotly_utils       dotenv              pathlib             tlz\n",
      "_py_abc             email               pathspec            token\n",
      "_pydatetime         encodings           patsy               tokenize\n",
      "_pydecimal          ensurepip           pdb                 toml\n",
      "_pyio               enum                perfmon             tomli\n",
      "_pylong             erfa                pexpect             tomlkit\n",
      "_pyrepl             errno               pickle              tomllib\n",
      "_pytest             et_xmlfile          pickleshare         toolz\n",
      "_queue              evalidate           pickletools         tornado\n",
      "_random             executing           pip                 tqdm\n",
      "_ruamel_yaml        fastjsonschema      pkce                trace\n",
      "_sha1               faulthandler        pkg_resources       traceback\n",
      "_sha2               filecmp             pkginfo             tracemalloc\n",
      "_sha3               fileinput           pkgutil             traitlets\n",
      "_signal             filelock            platform            truststore\n",
      "_sitebuiltins       flake8              platformdirs        tty\n",
      "_socket             flask               plistlib            turtle\n",
      "_sqlite3            fnmatch             plotly              turtledemo\n",
      "_sre                fontTools           pluggy              twisted\n",
      "_ssl                fractions           ply                 typeguard\n",
      "_stat               frozendict          poplib              typer\n",
      "_statistics         frozenlist          posixpath           types\n",
      "_string             fsspec              poyo                typing\n",
      "_strptime           ftplib              pprint              typing_extensions\n",
      "_struct             functools           profile             tzdata\n",
      "_suggestions        gc                  prometheus_client   uc_micro\n",
      "_symtable           genericpath         prompt_toolkit      ujson\n",
      "_sysconfig          getopt              propcache           unicodedata\n",
      "_system_path        getpass             protego             unidecode\n",
      "_testbuffer         gettext             pstats              unittest\n",
      "_testcapi           git                 psutil              urllib\n",
      "_testclinic         gitdb               pty                 urllib3\n",
      "_testclinic_limited github              ptyprocess          uuid\n",
      "_testconsole        glob                pure_eval           venv\n",
      "_testimportmultiple gmpy2               py                  w3lib\n",
      "_testinternalcapi   graphlib            py_compile          warnings\n",
      "_testlimitedcapi    greenlet            pyarrow             watchdog\n",
      "_testmultiphase     gzip                pyasn1              wave\n",
      "_testsinglephase    h11                 pyasn1_modules      wcwidth\n",
      "_thread             h5py                pyclbr              weakref\n",
      "_threading_local    hashlib             pycodestyle         webbrowser\n",
      "_tkinter            heapdict            pycosat             webencodings\n",
      "_tokenize           heapq               pycparser           websocket\n",
      "_tracemalloc        hmac                pyct                werkzeug\n",
      "_typing             holoviews           pycurl              whatthepatch\n",
      "_uuid               html                pydantic            wheel\n",
      "_warnings           http                pydantic_core       widgetsnbextension\n",
      "_weakref            httpcore            pydantic_settings   win2kras\n",
      "_weakrefset         httpx               pydispatch          win32api\n",
      "_win32sysloader     hvplot              pydoc               win32clipboard\n",
      "_win32verstamp_pywin32ctypes hyperlink           pydoc_data          win32com\n",
      "_winapi             idlelib             pydocstyle          win32con\n",
      "_winxptheme         idna                pyexpat             win32console\n",
      "_wmi                imageio             pyflakes            win32cred\n",
      "_yaml               imagesize           pygments            win32crypt\n",
      "_zoneinfo           imaplib             pylab               win32cryptcon\n",
      "abc                 imblearn            pylint              win32ctypes\n",
      "adodbapi            importlib           pylint_venv         win32event\n",
      "afxres              importlib_metadata  pyls_spyder         win32evtlog\n",
      "aiobotocore         importlib_resources pylsp               win32evtlogutil\n",
      "aiohappyeyeballs    incremental         pylsp_black         win32file\n",
      "aiohttp             inflect             pylsp_jsonrpc       win32gui\n",
      "aioitertools        inflection          pyodbc              win32gui_struct\n",
      "aiosignal           iniconfig           pyparsing           win32help\n",
      "alabaster           inspect             pytest              win32inet\n",
      "altair              intake              pythoncom           win32inetcon\n",
      "anaconda_anon_usage intervaltree        pythonjsonlogger    win32job\n",
      "anaconda_auth       io                  pytoolconfig        win32lz\n",
      "anaconda_catalogs   ipaddress           pytz                win32net\n",
      "anaconda_cli_base   ipykernel           pyuca               win32netcon\n",
      "anaconda_cloud_auth ipykernel_launcher  pyviz_comms         win32pdh\n",
      "anaconda_navigator  ipywidgets          pywin               win32pdhquery\n",
      "anaconda_project    isapi               pywin32_bootstrap   win32pdhutil\n",
      "annotated_types     isort               pywin32_testutil    win32pipe\n",
      "antigravity         isympy              pywintypes          win32print\n",
      "anyio               itemadapter         pywt                win32process\n",
      "appdirs             itemloaders         qdarkstyle          win32profile\n",
      "archspec            itertools           qstylizer           win32ras\n",
      "argon2              itsdangerous        qtawesome           win32rcparser\n",
      "argparse            jedi                qtconsole           win32security\n",
      "array               jellyfish           qtpy                win32service\n",
      "arrow               jinja2              queue               win32serviceutil\n",
      "ast                 jinja2_time         queuelib            win32timezone\n",
      "astroid             jmespath            quopri              win32trace\n",
      "astropy             joblib              random              win32traceutil\n",
      "astropy_iers_data   json                rasutil             win32transaction\n",
      "asttokens           json5               re                  win32ts\n",
      "async_lru           jsonpatch           readchar            win32ui\n",
      "asyncio             jsonpointer         referencing         win32uiole\n",
      "asyncssh            jsonschema          regcheck            win32verstamp\n",
      "atexit              jsonschema_specifications regex               win32wnet\n",
      "atomicwrites        jupyter             regutil             win_inet_pton\n",
      "attr                jupyter_client      repo_cli            winerror\n",
      "attrs               jupyter_console     reprlib             winioctlcon\n",
      "autocommand         jupyter_core        requests            winnt\n",
      "automat             jupyter_events      requests_file       winperf\n",
      "autopep8            jupyter_lsp         requests_toolbelt   winpty\n",
      "babel               jupyter_server      rfc3339_validator   winreg\n",
      "backports           jupyter_server_terminals rfc3986_validator   winsound\n",
      "base64              jupyterlab          rich                winxpgui\n",
      "bcrypt              jupyterlab_plotly   rlcompleter         winxptheme\n",
      "bdb                 jupyterlab_pygments roman_numerals      wrapt\n",
      "binaryornot         jupyterlab_server   rope                wsgiref\n",
      "binascii            jupyterlab_widgets  rpds                xarray\n",
      "binstar_client      jwt                 rtree               xlwings\n",
      "bisect              keyring             ruamel_yaml         xlwingsjs\n",
      "black               keyword             runpy               xml\n",
      "blackd              kiwisolver          s3fs                xmlrpc\n",
      "bleach              lazy_loader         sched               xxlimited\n",
      "blib2to3            lckr_jupyterlab_variableinspector scipy               xxlimited_35\n",
      "blinker             libarchive          scrapy              xxsubtype\n",
      "bokeh               libmambapy          seaborn             xyzservices\n",
      "boltons             lief                secrets             yaml\n",
      "botocore            linecache           select              yapf\n",
      "bottleneck          linkify_it          selectors           yapf_third_party\n",
      "brotli              llvmlite            semver              yapftests\n",
      "bs4                 lmdb                send2trash          yarl\n",
      "builtins            locale              service_identity    zict\n",
      "bz2                 locket              servicemanager      zipapp\n",
      "cProfile            logging             setuptools          zipfile\n",
      "cachetools          lxml                shellingham         zipimport\n",
      "calendar            lz4                 shelve              zipp\n",
      "certifi             lzma                shlex               zlib\n",
      "cffi                mailbox             shutil              zmq\n",
      "chardet             markdown            signal              zoneinfo\n",
      "charset_normalizer  markdown_it         sipbuild            zope\n",
      "click               markupsafe          site                zstandard\n",
      "cloudpickle         marshal             six                 \n",
      "\n",
      "Enter any module name to get more help.  Or, type \"modules spam\" to search\n",
      "for modules whose name or summary contain the string \"spam\".\n",
      "\n"
     ]
    }
   ],
   "source": [
    "help(\"modules\")"
   ]
  },
  {
   "cell_type": "code",
   "execution_count": 198,
   "id": "83993e97-e73b-4678-abeb-8be87be81caa",
   "metadata": {},
   "outputs": [
    {
     "name": "stderr",
     "output_type": "stream",
     "text": [
      "The syntax of the command is incorrect.\n",
      "The syntax of the command is incorrect.\n"
     ]
    }
   ],
   "source": [
    "# To install new modules:\n",
    "!pip install <package-name>\n",
    "!conda install <package-name>"
   ]
  },
  {
   "cell_type": "markdown",
   "id": "12bcf42e-0902-4734-be12-c00f2ea4089b",
   "metadata": {},
   "source": [
    "## Import Statements\n",
    "- search for the Modules\n",
    "1. current directory\n",
    "2. Standard library path\n",
    "3. any other path"
   ]
  },
  {
   "cell_type": "code",
   "execution_count": 199,
   "id": "01ec2752-da8c-4e13-a6eb-a1c17d36e4d4",
   "metadata": {},
   "outputs": [
    {
     "name": "stdout",
     "output_type": "stream",
     "text": [
      "0.C:\\Users\\91704\\anaconda3\\pkgs\\New folder\\Lib\\site-packages\\spyder\\plugins\\help\\utils\n",
      "1.C:\\Users\\91704\\anaconda3\\pkgs\\New folder\\python313.zip\n",
      "2.C:\\Users\\91704\\anaconda3\\pkgs\\New folder\\DLLs\n",
      "3.C:\\Users\\91704\\anaconda3\\pkgs\\New folder\\Lib\n",
      "4.C:\\Users\\91704\\anaconda3\\pkgs\\New folder\n",
      "5.\n",
      "6.C:\\Users\\91704\\anaconda3\\pkgs\\New folder\\Lib\\site-packages\n",
      "7.C:\\Users\\91704\\anaconda3\\pkgs\\New folder\\Lib\\site-packages\\win32\n",
      "8.C:\\Users\\91704\\anaconda3\\pkgs\\New folder\\Lib\\site-packages\\win32\\lib\n",
      "9.C:\\Users\\91704\\anaconda3\\pkgs\\New folder\\Lib\\site-packages\\Pythonwin\n",
      "10.C:\\Users\\91704\\anaconda3\\pkgs\\New folder\\Lib\\site-packages\\setuptools\\_vendor\n",
      "11.C:\\Users\\91704\\anaconda3\\pkgs\\New folder\\Lib\\site-packages\\gitdb\\ext\\smmap\n"
     ]
    }
   ],
   "source": [
    "import sys\n",
    "for i,p in enumerate(sys.path):\n",
    "    print(f\"{i}.{p}\")"
   ]
  },
  {
   "cell_type": "markdown",
   "id": "6618ff14-a4e3-4a55-8d6d-3e19d4e89f94",
   "metadata": {},
   "source": [
    "``` python\n",
    "\n",
    "import package-name\n",
    "```\n",
    "**Search for the package and create an instance in present kernel with the same name.**"
   ]
  },
  {
   "cell_type": "code",
   "execution_count": 200,
   "id": "65499135-51ab-4ed9-aa4f-02fc81217638",
   "metadata": {},
   "outputs": [],
   "source": [
    "import math"
   ]
  },
  {
   "cell_type": "code",
   "execution_count": 201,
   "id": "73d452cf-dcce-4004-aa97-0bb454561def",
   "metadata": {},
   "outputs": [
    {
     "name": "stdout",
     "output_type": "stream",
     "text": [
      "['__doc__', '__loader__', '__name__', '__package__', '__spec__', 'acos', 'acosh', 'asin', 'asinh', 'atan', 'atan2', 'atanh', 'cbrt', 'ceil', 'comb', 'copysign', 'cos', 'cosh', 'degrees', 'dist', 'e', 'erf', 'erfc', 'exp', 'exp2', 'expm1', 'fabs', 'factorial', 'floor', 'fma', 'fmod', 'frexp', 'fsum', 'gamma', 'gcd', 'hypot', 'inf', 'isclose', 'isfinite', 'isinf', 'isnan', 'isqrt', 'lcm', 'ldexp', 'lgamma', 'log', 'log10', 'log1p', 'log2', 'modf', 'nan', 'nextafter', 'perm', 'pi', 'pow', 'prod', 'radians', 'remainder', 'sin', 'sinh', 'sqrt', 'sumprod', 'tan', 'tanh', 'tau', 'trunc', 'ulp']\n"
     ]
    }
   ],
   "source": [
    "print(dir(math))"
   ]
  },
  {
   "cell_type": "code",
   "execution_count": 202,
   "id": "23091abc-3e81-49bb-897e-ceb110756a02",
   "metadata": {},
   "outputs": [
    {
     "data": {
      "text/plain": [
       "1.3010299956639813"
      ]
     },
     "execution_count": 202,
     "metadata": {},
     "output_type": "execute_result"
    }
   ],
   "source": [
    "math.log10(20)"
   ]
  },
  {
   "cell_type": "markdown",
   "id": "eb58cc65-125a-4573-98b8-29e09e5c64e1",
   "metadata": {},
   "source": [
    "``` python\n",
    "\n",
    "import package-name as alias\n",
    "```\n",
    "**Search for the package and create an instance in present kernel with the alias name.**"
   ]
  },
  {
   "cell_type": "code",
   "execution_count": 203,
   "id": "be1c0289-c018-4a61-b1da-e1a75063656a",
   "metadata": {},
   "outputs": [],
   "source": [
    "import string as strn"
   ]
  },
  {
   "cell_type": "code",
   "execution_count": 204,
   "id": "b612bc2d-eed6-451d-85b5-b2353c36ccdc",
   "metadata": {},
   "outputs": [
    {
     "ename": "NameError",
     "evalue": "name 'string' is not defined",
     "output_type": "error",
     "traceback": [
      "\u001b[1;31m---------------------------------------------------------------------------\u001b[0m",
      "\u001b[1;31mNameError\u001b[0m                                 Traceback (most recent call last)",
      "Cell \u001b[1;32mIn[204], line 1\u001b[0m\n\u001b[1;32m----> 1\u001b[0m \u001b[38;5;28mprint\u001b[39m(\u001b[38;5;28mdir\u001b[39m(string))\n",
      "\u001b[1;31mNameError\u001b[0m: name 'string' is not defined"
     ]
    }
   ],
   "source": [
    "print(dir(string))"
   ]
  },
  {
   "cell_type": "code",
   "execution_count": 205,
   "id": "c55ffac6-32d4-4745-ad42-1256fd5e5ed5",
   "metadata": {},
   "outputs": [
    {
     "name": "stdout",
     "output_type": "stream",
     "text": [
      "['Formatter', 'Template', '_ChainMap', '__all__', '__builtins__', '__cached__', '__doc__', '__file__', '__loader__', '__name__', '__package__', '__spec__', '_re', '_sentinel_dict', '_string', 'ascii_letters', 'ascii_lowercase', 'ascii_uppercase', 'capwords', 'digits', 'hexdigits', 'octdigits', 'printable', 'punctuation', 'whitespace']\n"
     ]
    }
   ],
   "source": [
    "print(dir(strn))"
   ]
  },
  {
   "cell_type": "code",
   "execution_count": 206,
   "id": "789e448d-8d86-498c-95f9-a5d5f6d86848",
   "metadata": {},
   "outputs": [
    {
     "data": {
      "text/plain": [
       "'Hello People'"
      ]
     },
     "execution_count": 206,
     "metadata": {},
     "output_type": "execute_result"
    }
   ],
   "source": [
    "strn.capwords(\"hello people\")"
   ]
  },
  {
   "cell_type": "code",
   "execution_count": 207,
   "id": "b8fc4000-afe3-418c-8dbd-cdf7fe4ca061",
   "metadata": {},
   "outputs": [
    {
     "data": {
      "text/plain": [
       "'0123456789'"
      ]
     },
     "execution_count": 207,
     "metadata": {},
     "output_type": "execute_result"
    }
   ],
   "source": [
    "strn.digits"
   ]
  },
  {
   "cell_type": "code",
   "execution_count": 208,
   "id": "b38fed68-7e47-483c-a670-019da87d1336",
   "metadata": {},
   "outputs": [
    {
     "data": {
      "text/plain": [
       "'!\"#$%&\\'()*+,-./:;<=>?@[\\\\]^_`{|}~'"
      ]
     },
     "execution_count": 208,
     "metadata": {},
     "output_type": "execute_result"
    }
   ],
   "source": [
    "strn.punctuation"
   ]
  },
  {
   "cell_type": "markdown",
   "id": "fe1ac92b-40fa-4a64-af9f-24c8e1e12622",
   "metadata": {},
   "source": [
    "``` python\n",
    "\n",
    "from package-name import specific funtions or data attributes\n",
    "```\n",
    "**Searches for the package and gets only the specific function or data attributes and creates its instance in the present runtime.**"
   ]
  },
  {
   "cell_type": "code",
   "execution_count": 209,
   "id": "daaae183-13ed-406f-9d97-0bc33d8c8d71",
   "metadata": {},
   "outputs": [],
   "source": [
    "from string import punctuation"
   ]
  },
  {
   "cell_type": "code",
   "execution_count": 210,
   "id": "90f085df-86a0-4f83-9502-f4d557b98280",
   "metadata": {},
   "outputs": [
    {
     "data": {
      "text/plain": [
       "'!\"#$%&\\'()*+,-./:;<=>?@[\\\\]^_`{|}~'"
      ]
     },
     "execution_count": 210,
     "metadata": {},
     "output_type": "execute_result"
    }
   ],
   "source": [
    "punctuation"
   ]
  },
  {
   "cell_type": "code",
   "execution_count": 211,
   "id": "829580c9-395a-4e6a-a454-ce1218e37093",
   "metadata": {},
   "outputs": [],
   "source": [
    "from string import punctuation as punc, digits as dg"
   ]
  },
  {
   "cell_type": "code",
   "execution_count": 212,
   "id": "ce9fc5dd-311e-465d-9fcd-cf49378b3bbe",
   "metadata": {},
   "outputs": [
    {
     "data": {
      "text/plain": [
       "'!\"#$%&\\'()*+,-./:;<=>?@[\\\\]^_`{|}~'"
      ]
     },
     "execution_count": 212,
     "metadata": {},
     "output_type": "execute_result"
    }
   ],
   "source": [
    "punc"
   ]
  },
  {
   "cell_type": "code",
   "execution_count": 213,
   "id": "f3709e62-4a22-4877-a830-61051dc5087b",
   "metadata": {},
   "outputs": [
    {
     "data": {
      "text/plain": [
       "'0123456789'"
      ]
     },
     "execution_count": 213,
     "metadata": {},
     "output_type": "execute_result"
    }
   ],
   "source": [
    "dg"
   ]
  },
  {
   "cell_type": "code",
   "execution_count": null,
   "id": "ceb269bc-cd99-45ba-84b4-db06d5cee5fd",
   "metadata": {},
   "outputs": [],
   "source": []
  },
  {
   "cell_type": "code",
   "execution_count": null,
   "id": "b12d2e7e-fa71-48aa-aee7-c148253a6e9e",
   "metadata": {},
   "outputs": [],
   "source": []
  },
  {
   "cell_type": "code",
   "execution_count": null,
   "id": "a4f219a6-576c-47cf-9823-aeee3b96096c",
   "metadata": {},
   "outputs": [],
   "source": []
  }
 ],
 "metadata": {
  "kernelspec": {
   "display_name": "Python 3 (ipykernel)",
   "language": "python",
   "name": "python3"
  },
  "language_info": {
   "codemirror_mode": {
    "name": "ipython",
    "version": 3
   },
   "file_extension": ".py",
   "mimetype": "text/x-python",
   "name": "python",
   "nbconvert_exporter": "python",
   "pygments_lexer": "ipython3",
   "version": "3.13.5"
  }
 },
 "nbformat": 4,
 "nbformat_minor": 5
}
